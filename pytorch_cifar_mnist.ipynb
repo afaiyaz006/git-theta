{
 "cells": [
  {
   "cell_type": "markdown",
   "metadata": {},
   "source": [
    "# There and Back Again: A Collaborative Learning Demonstration on MNIST and rotated-MNIST\n",
    "\n",
    "## The Basic Ingredients\n",
    "\n",
    "- Loading the dataset\n",
    "- Visualizing the images\n",
    "- Defining the model\n",
    "- Running the training loop\n",
    "- Evaluating the model"
   ]
  },
  {
   "cell_type": "markdown",
   "metadata": {},
   "source": [
    "## Loading the dataset"
   ]
  },
  {
   "cell_type": "code",
   "execution_count": 1,
   "metadata": {},
   "outputs": [],
   "source": [
    "import torch\n",
    "import torchvision\n",
    "import torchvision.transforms as tf\n",
    "\n",
    "transform = tf.Compose([\n",
    "    tf.ToTensor(),\n",
    "    tf.Normalize(0.5, 0.5),\n",
    "])\n",
    "\n",
    "rotated_transform = tf.Compose([\n",
    "    tf.ToTensor(),\n",
    "    tf.Normalize(0.5, 0.5),\n",
    "    tf.RandomRotation(45)\n",
    "])\n",
    "\n",
    "batch_size = 16\n",
    "\n",
    "trainset = torchvision.datasets.MNIST(root='./data', train=True, download=True, transform=transform)\n",
    "trainloader = torch.utils.data.DataLoader(trainset, batch_size = batch_size, shuffle=True)\n",
    "train_iter = iter(trainloader)\n",
    "\n",
    "testset = torchvision.datasets.MNIST(root='./data', train=False, download=True, transform=transform)\n",
    "testloader = torch.utils.data.DataLoader(testset, batch_size = batch_size, shuffle=True)\n",
    "test_iter = iter(testloader)\n",
    "\n",
    "\n",
    "rotated_trainset = torchvision.datasets.MNIST(root='./data', train=True, download=True, transform=rotated_transform)\n",
    "rotated_trainloader = torch.utils.data.DataLoader(rotated_trainset, batch_size = batch_size, shuffle=True)\n",
    "rotated_train_iter = iter(rotated_trainloader)\n",
    "\n",
    "rotated_testset = torchvision.datasets.MNIST(root='./data', train=False, download=True, transform=rotated_transform)\n",
    "rotated_testloader = torch.utils.data.DataLoader(rotated_testset, batch_size = batch_size, shuffle=True)\n",
    "rotated_test_iter = iter(rotated_testloader)"
   ]
  },
  {
   "cell_type": "markdown",
   "metadata": {},
   "source": [
    "## Visualizing the dataset"
   ]
  },
  {
   "cell_type": "code",
   "execution_count": 2,
   "metadata": {},
   "outputs": [
    {
     "data": {
      "application/vnd.plotly.v1+json": {
       "config": {
        "plotlyServerURL": "https://plot.ly"
       },
       "data": [
        {
         "hovertemplate": "x: %{x}<br>y: %{y}<extra></extra>",
         "name": "0",
         "source": "data:image/png;base64,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",
         "type": "image",
         "xaxis": "x",
         "yaxis": "y"
        }
       ],
       "layout": {
        "height": 400,
        "margin": {
         "b": 0,
         "l": 0,
         "r": 0,
         "t": 0
        },
        "template": {
         "data": {
          "bar": [
           {
            "error_x": {
             "color": "#2a3f5f"
            },
            "error_y": {
             "color": "#2a3f5f"
            },
            "marker": {
             "line": {
              "color": "#E5ECF6",
              "width": 0.5
             },
             "pattern": {
              "fillmode": "overlay",
              "size": 10,
              "solidity": 0.2
             }
            },
            "type": "bar"
           }
          ],
          "barpolar": [
           {
            "marker": {
             "line": {
              "color": "#E5ECF6",
              "width": 0.5
             },
             "pattern": {
              "fillmode": "overlay",
              "size": 10,
              "solidity": 0.2
             }
            },
            "type": "barpolar"
           }
          ],
          "carpet": [
           {
            "aaxis": {
             "endlinecolor": "#2a3f5f",
             "gridcolor": "white",
             "linecolor": "white",
             "minorgridcolor": "white",
             "startlinecolor": "#2a3f5f"
            },
            "baxis": {
             "endlinecolor": "#2a3f5f",
             "gridcolor": "white",
             "linecolor": "white",
             "minorgridcolor": "white",
             "startlinecolor": "#2a3f5f"
            },
            "type": "carpet"
           }
          ],
          "choropleth": [
           {
            "colorbar": {
             "outlinewidth": 0,
             "ticks": ""
            },
            "type": "choropleth"
           }
          ],
          "contour": [
           {
            "colorbar": {
             "outlinewidth": 0,
             "ticks": ""
            },
            "colorscale": [
             [
              0,
              "#0d0887"
             ],
             [
              0.1111111111111111,
              "#46039f"
             ],
             [
              0.2222222222222222,
              "#7201a8"
             ],
             [
              0.3333333333333333,
              "#9c179e"
             ],
             [
              0.4444444444444444,
              "#bd3786"
             ],
             [
              0.5555555555555556,
              "#d8576b"
             ],
             [
              0.6666666666666666,
              "#ed7953"
             ],
             [
              0.7777777777777778,
              "#fb9f3a"
             ],
             [
              0.8888888888888888,
              "#fdca26"
             ],
             [
              1,
              "#f0f921"
             ]
            ],
            "type": "contour"
           }
          ],
          "contourcarpet": [
           {
            "colorbar": {
             "outlinewidth": 0,
             "ticks": ""
            },
            "type": "contourcarpet"
           }
          ],
          "heatmap": [
           {
            "colorbar": {
             "outlinewidth": 0,
             "ticks": ""
            },
            "colorscale": [
             [
              0,
              "#0d0887"
             ],
             [
              0.1111111111111111,
              "#46039f"
             ],
             [
              0.2222222222222222,
              "#7201a8"
             ],
             [
              0.3333333333333333,
              "#9c179e"
             ],
             [
              0.4444444444444444,
              "#bd3786"
             ],
             [
              0.5555555555555556,
              "#d8576b"
             ],
             [
              0.6666666666666666,
              "#ed7953"
             ],
             [
              0.7777777777777778,
              "#fb9f3a"
             ],
             [
              0.8888888888888888,
              "#fdca26"
             ],
             [
              1,
              "#f0f921"
             ]
            ],
            "type": "heatmap"
           }
          ],
          "heatmapgl": [
           {
            "colorbar": {
             "outlinewidth": 0,
             "ticks": ""
            },
            "colorscale": [
             [
              0,
              "#0d0887"
             ],
             [
              0.1111111111111111,
              "#46039f"
             ],
             [
              0.2222222222222222,
              "#7201a8"
             ],
             [
              0.3333333333333333,
              "#9c179e"
             ],
             [
              0.4444444444444444,
              "#bd3786"
             ],
             [
              0.5555555555555556,
              "#d8576b"
             ],
             [
              0.6666666666666666,
              "#ed7953"
             ],
             [
              0.7777777777777778,
              "#fb9f3a"
             ],
             [
              0.8888888888888888,
              "#fdca26"
             ],
             [
              1,
              "#f0f921"
             ]
            ],
            "type": "heatmapgl"
           }
          ],
          "histogram": [
           {
            "marker": {
             "pattern": {
              "fillmode": "overlay",
              "size": 10,
              "solidity": 0.2
             }
            },
            "type": "histogram"
           }
          ],
          "histogram2d": [
           {
            "colorbar": {
             "outlinewidth": 0,
             "ticks": ""
            },
            "colorscale": [
             [
              0,
              "#0d0887"
             ],
             [
              0.1111111111111111,
              "#46039f"
             ],
             [
              0.2222222222222222,
              "#7201a8"
             ],
             [
              0.3333333333333333,
              "#9c179e"
             ],
             [
              0.4444444444444444,
              "#bd3786"
             ],
             [
              0.5555555555555556,
              "#d8576b"
             ],
             [
              0.6666666666666666,
              "#ed7953"
             ],
             [
              0.7777777777777778,
              "#fb9f3a"
             ],
             [
              0.8888888888888888,
              "#fdca26"
             ],
             [
              1,
              "#f0f921"
             ]
            ],
            "type": "histogram2d"
           }
          ],
          "histogram2dcontour": [
           {
            "colorbar": {
             "outlinewidth": 0,
             "ticks": ""
            },
            "colorscale": [
             [
              0,
              "#0d0887"
             ],
             [
              0.1111111111111111,
              "#46039f"
             ],
             [
              0.2222222222222222,
              "#7201a8"
             ],
             [
              0.3333333333333333,
              "#9c179e"
             ],
             [
              0.4444444444444444,
              "#bd3786"
             ],
             [
              0.5555555555555556,
              "#d8576b"
             ],
             [
              0.6666666666666666,
              "#ed7953"
             ],
             [
              0.7777777777777778,
              "#fb9f3a"
             ],
             [
              0.8888888888888888,
              "#fdca26"
             ],
             [
              1,
              "#f0f921"
             ]
            ],
            "type": "histogram2dcontour"
           }
          ],
          "mesh3d": [
           {
            "colorbar": {
             "outlinewidth": 0,
             "ticks": ""
            },
            "type": "mesh3d"
           }
          ],
          "parcoords": [
           {
            "line": {
             "colorbar": {
              "outlinewidth": 0,
              "ticks": ""
             }
            },
            "type": "parcoords"
           }
          ],
          "pie": [
           {
            "automargin": true,
            "type": "pie"
           }
          ],
          "scatter": [
           {
            "marker": {
             "colorbar": {
              "outlinewidth": 0,
              "ticks": ""
             }
            },
            "type": "scatter"
           }
          ],
          "scatter3d": [
           {
            "line": {
             "colorbar": {
              "outlinewidth": 0,
              "ticks": ""
             }
            },
            "marker": {
             "colorbar": {
              "outlinewidth": 0,
              "ticks": ""
             }
            },
            "type": "scatter3d"
           }
          ],
          "scattercarpet": [
           {
            "marker": {
             "colorbar": {
              "outlinewidth": 0,
              "ticks": ""
             }
            },
            "type": "scattercarpet"
           }
          ],
          "scattergeo": [
           {
            "marker": {
             "colorbar": {
              "outlinewidth": 0,
              "ticks": ""
             }
            },
            "type": "scattergeo"
           }
          ],
          "scattergl": [
           {
            "marker": {
             "colorbar": {
              "outlinewidth": 0,
              "ticks": ""
             }
            },
            "type": "scattergl"
           }
          ],
          "scattermapbox": [
           {
            "marker": {
             "colorbar": {
              "outlinewidth": 0,
              "ticks": ""
             }
            },
            "type": "scattermapbox"
           }
          ],
          "scatterpolar": [
           {
            "marker": {
             "colorbar": {
              "outlinewidth": 0,
              "ticks": ""
             }
            },
            "type": "scatterpolar"
           }
          ],
          "scatterpolargl": [
           {
            "marker": {
             "colorbar": {
              "outlinewidth": 0,
              "ticks": ""
             }
            },
            "type": "scatterpolargl"
           }
          ],
          "scatterternary": [
           {
            "marker": {
             "colorbar": {
              "outlinewidth": 0,
              "ticks": ""
             }
            },
            "type": "scatterternary"
           }
          ],
          "surface": [
           {
            "colorbar": {
             "outlinewidth": 0,
             "ticks": ""
            },
            "colorscale": [
             [
              0,
              "#0d0887"
             ],
             [
              0.1111111111111111,
              "#46039f"
             ],
             [
              0.2222222222222222,
              "#7201a8"
             ],
             [
              0.3333333333333333,
              "#9c179e"
             ],
             [
              0.4444444444444444,
              "#bd3786"
             ],
             [
              0.5555555555555556,
              "#d8576b"
             ],
             [
              0.6666666666666666,
              "#ed7953"
             ],
             [
              0.7777777777777778,
              "#fb9f3a"
             ],
             [
              0.8888888888888888,
              "#fdca26"
             ],
             [
              1,
              "#f0f921"
             ]
            ],
            "type": "surface"
           }
          ],
          "table": [
           {
            "cells": {
             "fill": {
              "color": "#EBF0F8"
             },
             "line": {
              "color": "white"
             }
            },
            "header": {
             "fill": {
              "color": "#C8D4E3"
             },
             "line": {
              "color": "white"
             }
            },
            "type": "table"
           }
          ]
         },
         "layout": {
          "annotationdefaults": {
           "arrowcolor": "#2a3f5f",
           "arrowhead": 0,
           "arrowwidth": 1
          },
          "autotypenumbers": "strict",
          "coloraxis": {
           "colorbar": {
            "outlinewidth": 0,
            "ticks": ""
           }
          },
          "colorscale": {
           "diverging": [
            [
             0,
             "#8e0152"
            ],
            [
             0.1,
             "#c51b7d"
            ],
            [
             0.2,
             "#de77ae"
            ],
            [
             0.3,
             "#f1b6da"
            ],
            [
             0.4,
             "#fde0ef"
            ],
            [
             0.5,
             "#f7f7f7"
            ],
            [
             0.6,
             "#e6f5d0"
            ],
            [
             0.7,
             "#b8e186"
            ],
            [
             0.8,
             "#7fbc41"
            ],
            [
             0.9,
             "#4d9221"
            ],
            [
             1,
             "#276419"
            ]
           ],
           "sequential": [
            [
             0,
             "#0d0887"
            ],
            [
             0.1111111111111111,
             "#46039f"
            ],
            [
             0.2222222222222222,
             "#7201a8"
            ],
            [
             0.3333333333333333,
             "#9c179e"
            ],
            [
             0.4444444444444444,
             "#bd3786"
            ],
            [
             0.5555555555555556,
             "#d8576b"
            ],
            [
             0.6666666666666666,
             "#ed7953"
            ],
            [
             0.7777777777777778,
             "#fb9f3a"
            ],
            [
             0.8888888888888888,
             "#fdca26"
            ],
            [
             1,
             "#f0f921"
            ]
           ],
           "sequentialminus": [
            [
             0,
             "#0d0887"
            ],
            [
             0.1111111111111111,
             "#46039f"
            ],
            [
             0.2222222222222222,
             "#7201a8"
            ],
            [
             0.3333333333333333,
             "#9c179e"
            ],
            [
             0.4444444444444444,
             "#bd3786"
            ],
            [
             0.5555555555555556,
             "#d8576b"
            ],
            [
             0.6666666666666666,
             "#ed7953"
            ],
            [
             0.7777777777777778,
             "#fb9f3a"
            ],
            [
             0.8888888888888888,
             "#fdca26"
            ],
            [
             1,
             "#f0f921"
            ]
           ]
          },
          "colorway": [
           "#636efa",
           "#EF553B",
           "#00cc96",
           "#ab63fa",
           "#FFA15A",
           "#19d3f3",
           "#FF6692",
           "#B6E880",
           "#FF97FF",
           "#FECB52"
          ],
          "font": {
           "color": "#2a3f5f"
          },
          "geo": {
           "bgcolor": "white",
           "lakecolor": "white",
           "landcolor": "#E5ECF6",
           "showlakes": true,
           "showland": true,
           "subunitcolor": "white"
          },
          "hoverlabel": {
           "align": "left"
          },
          "hovermode": "closest",
          "mapbox": {
           "style": "light"
          },
          "paper_bgcolor": "white",
          "plot_bgcolor": "#E5ECF6",
          "polar": {
           "angularaxis": {
            "gridcolor": "white",
            "linecolor": "white",
            "ticks": ""
           },
           "bgcolor": "#E5ECF6",
           "radialaxis": {
            "gridcolor": "white",
            "linecolor": "white",
            "ticks": ""
           }
          },
          "scene": {
           "xaxis": {
            "backgroundcolor": "#E5ECF6",
            "gridcolor": "white",
            "gridwidth": 2,
            "linecolor": "white",
            "showbackground": true,
            "ticks": "",
            "zerolinecolor": "white"
           },
           "yaxis": {
            "backgroundcolor": "#E5ECF6",
            "gridcolor": "white",
            "gridwidth": 2,
            "linecolor": "white",
            "showbackground": true,
            "ticks": "",
            "zerolinecolor": "white"
           },
           "zaxis": {
            "backgroundcolor": "#E5ECF6",
            "gridcolor": "white",
            "gridwidth": 2,
            "linecolor": "white",
            "showbackground": true,
            "ticks": "",
            "zerolinecolor": "white"
           }
          },
          "shapedefaults": {
           "line": {
            "color": "#2a3f5f"
           }
          },
          "ternary": {
           "aaxis": {
            "gridcolor": "white",
            "linecolor": "white",
            "ticks": ""
           },
           "baxis": {
            "gridcolor": "white",
            "linecolor": "white",
            "ticks": ""
           },
           "bgcolor": "#E5ECF6",
           "caxis": {
            "gridcolor": "white",
            "linecolor": "white",
            "ticks": ""
           }
          },
          "title": {
           "x": 0.05
          },
          "xaxis": {
           "automargin": true,
           "gridcolor": "white",
           "linecolor": "white",
           "ticks": "",
           "title": {
            "standoff": 15
           },
           "zerolinecolor": "white",
           "zerolinewidth": 2
          },
          "yaxis": {
           "automargin": true,
           "gridcolor": "white",
           "linecolor": "white",
           "ticks": "",
           "title": {
            "standoff": 15
           },
           "zerolinecolor": "white",
           "zerolinewidth": 2
          }
         }
        },
        "width": 400,
        "xaxis": {
         "anchor": "y",
         "domain": [
          0,
          1
         ],
         "showticklabels": false
        },
        "yaxis": {
         "anchor": "x",
         "domain": [
          0,
          1
         ],
         "showticklabels": false
        }
       }
      }
     },
     "metadata": {},
     "output_type": "display_data"
    },
    {
     "name": "stdout",
     "output_type": "stream",
     "text": [
      "[0, 0, 1, 4, 1, 7, 0, 1, 6, 6, 8, 6, 4, 3, 9, 2]\n"
     ]
    }
   ],
   "source": [
    "import plotly.express as px\n",
    "\n",
    "def imshow(im):\n",
    "    if torch.min(im) < 0:\n",
    "        im = im - torch.min(im)\n",
    "        im = im / torch.max(im)\n",
    "\n",
    "\n",
    "    ndims = len(im.shape)\n",
    "    im = torch.squeeze(im)\n",
    "    if len(im.shape) == ndims:\n",
    "        im = im.permute(1,2,0)\n",
    "    \n",
    "    fig = px.imshow(im)\n",
    "\n",
    "    fig.update_layout(margin={'t': 0, 'r': 0, 'b': 0, 'l': 0})\n",
    "\n",
    "    if im.shape[0] == im.shape[1]:\n",
    "        fig.update_layout(width=400, height=400)\n",
    "    fig.update_xaxes(showticklabels=False).update_yaxes(showticklabels=False)\n",
    "    fig.show()\n",
    "\n",
    "batch, labels = next(rotated_train_iter)\n",
    "N = 16\n",
    "imshow(torchvision.utils.make_grid(batch[:N, :, :, :], nrow = 4, normalize=True))\n",
    "print([l.item() for l in labels])"
   ]
  },
  {
   "cell_type": "markdown",
   "metadata": {},
   "source": [
    "## Defining the Model"
   ]
  },
  {
   "cell_type": "code",
   "execution_count": 3,
   "metadata": {},
   "outputs": [],
   "source": [
    "import torch.nn as nn\n",
    "import torch.nn.functional as F\n",
    "\n",
    "class Net(nn.Module): # Input size = 32\n",
    "    def __init__(self):\n",
    "        super().__init__()\n",
    "        self.conv1 = nn.Conv2d(1, 3, 5)\n",
    "        self.conv2 = nn.Conv2d(3, 6, 5)\n",
    "        self.max_pool = nn.MaxPool2d(2, 2)\n",
    "        self.fc1 = nn.Linear(6 * 4 * 4, 80)\n",
    "        self.fc2 = nn.Linear(80, 40)\n",
    "        self.fc3 = nn.Linear(40, 10)\n",
    "\n",
    "    def forward(self, x):\n",
    "        x = self.max_pool(F.relu(self.conv1(x)))\n",
    "        x = self.max_pool(F.relu(self.conv2(x)))\n",
    "\n",
    "        x = torch.flatten(x, 1)\n",
    "\n",
    "        x = F.relu(self.fc1(x))\n",
    "        x = F.relu(self.fc2(x))\n",
    "        x = self.fc3(x)\n",
    "\n",
    "        return x \n",
    "        \n",
    "\n",
    "net = Net()"
   ]
  },
  {
   "cell_type": "markdown",
   "metadata": {},
   "source": [
    "## Initial Model Training"
   ]
  },
  {
   "cell_type": "code",
   "execution_count": 4,
   "metadata": {},
   "outputs": [],
   "source": [
    "def train(net, optimizer, dataloader, num_epochs=2):\n",
    "    loss_fn = torch.nn.CrossEntropyLoss()\n",
    "\n",
    "    for e in range(num_epochs):\n",
    "        cumulative_loss = 0\n",
    "        loss_window = len(dataloader) // 10\n",
    "        for i, (batch, labels) in enumerate(dataloader, 1):\n",
    "            optimizer.zero_grad()\n",
    "\n",
    "            preds = net(batch)\n",
    "            loss = loss_fn(preds, labels)\n",
    "            loss.backward()\n",
    "            optimizer.step()\n",
    "\n",
    "            cumulative_loss += loss\n",
    "\n",
    "            if i % loss_window == 0:\n",
    "                print(f\"Loss at epoch {e+1}, batch {i}: {cumulative_loss / loss_window :.2f}\")\n",
    "                cumulative_loss = 0"
   ]
  },
  {
   "cell_type": "code",
   "execution_count": 5,
   "metadata": {},
   "outputs": [
    {
     "name": "stdout",
     "output_type": "stream",
     "text": [
      "Loss at epoch 1, batch 375: 0.86\n",
      "Loss at epoch 1, batch 750: 0.29\n",
      "Loss at epoch 1, batch 1125: 0.23\n",
      "Loss at epoch 1, batch 1500: 0.18\n",
      "Loss at epoch 1, batch 1875: 0.16\n",
      "Loss at epoch 1, batch 2250: 0.15\n",
      "Loss at epoch 1, batch 2625: 0.13\n",
      "Loss at epoch 1, batch 3000: 0.13\n",
      "Loss at epoch 1, batch 3375: 0.10\n",
      "Loss at epoch 1, batch 3750: 0.12\n",
      "Loss at epoch 2, batch 375: 0.09\n",
      "Loss at epoch 2, batch 750: 0.10\n",
      "Loss at epoch 2, batch 1125: 0.10\n",
      "Loss at epoch 2, batch 1500: 0.10\n",
      "Loss at epoch 2, batch 1875: 0.10\n",
      "Loss at epoch 2, batch 2250: 0.09\n",
      "Loss at epoch 2, batch 2625: 0.10\n",
      "Loss at epoch 2, batch 3000: 0.08\n",
      "Loss at epoch 2, batch 3375: 0.09\n",
      "Loss at epoch 2, batch 3750: 0.08\n"
     ]
    }
   ],
   "source": [
    "optimizer = torch.optim.Adam(net.parameters(), lr = 0.001)\n",
    "num_epochs = 2\n",
    "\n",
    "train(net, optimizer, trainloader, num_epochs)"
   ]
  },
  {
   "cell_type": "code",
   "execution_count": 6,
   "metadata": {},
   "outputs": [],
   "source": [
    "torch.onnx.export(net, batch, \"mnist_test_pretrained.onnx\", do_constant_folding=False)"
   ]
  },
  {
   "cell_type": "markdown",
   "metadata": {},
   "source": [
    "## Doing some inference"
   ]
  },
  {
   "cell_type": "code",
   "execution_count": 7,
   "metadata": {},
   "outputs": [
    {
     "data": {
      "application/vnd.plotly.v1+json": {
       "config": {
        "plotlyServerURL": "https://plot.ly"
       },
       "data": [
        {
         "hovertemplate": "x: %{x}<br>y: %{y}<extra></extra>",
         "name": "0",
         "source": "data:image/png;base64,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",
         "type": "image",
         "xaxis": "x",
         "yaxis": "y"
        }
       ],
       "layout": {
        "margin": {
         "b": 0,
         "l": 0,
         "r": 0,
         "t": 0
        },
        "template": {
         "data": {
          "bar": [
           {
            "error_x": {
             "color": "#2a3f5f"
            },
            "error_y": {
             "color": "#2a3f5f"
            },
            "marker": {
             "line": {
              "color": "#E5ECF6",
              "width": 0.5
             },
             "pattern": {
              "fillmode": "overlay",
              "size": 10,
              "solidity": 0.2
             }
            },
            "type": "bar"
           }
          ],
          "barpolar": [
           {
            "marker": {
             "line": {
              "color": "#E5ECF6",
              "width": 0.5
             },
             "pattern": {
              "fillmode": "overlay",
              "size": 10,
              "solidity": 0.2
             }
            },
            "type": "barpolar"
           }
          ],
          "carpet": [
           {
            "aaxis": {
             "endlinecolor": "#2a3f5f",
             "gridcolor": "white",
             "linecolor": "white",
             "minorgridcolor": "white",
             "startlinecolor": "#2a3f5f"
            },
            "baxis": {
             "endlinecolor": "#2a3f5f",
             "gridcolor": "white",
             "linecolor": "white",
             "minorgridcolor": "white",
             "startlinecolor": "#2a3f5f"
            },
            "type": "carpet"
           }
          ],
          "choropleth": [
           {
            "colorbar": {
             "outlinewidth": 0,
             "ticks": ""
            },
            "type": "choropleth"
           }
          ],
          "contour": [
           {
            "colorbar": {
             "outlinewidth": 0,
             "ticks": ""
            },
            "colorscale": [
             [
              0,
              "#0d0887"
             ],
             [
              0.1111111111111111,
              "#46039f"
             ],
             [
              0.2222222222222222,
              "#7201a8"
             ],
             [
              0.3333333333333333,
              "#9c179e"
             ],
             [
              0.4444444444444444,
              "#bd3786"
             ],
             [
              0.5555555555555556,
              "#d8576b"
             ],
             [
              0.6666666666666666,
              "#ed7953"
             ],
             [
              0.7777777777777778,
              "#fb9f3a"
             ],
             [
              0.8888888888888888,
              "#fdca26"
             ],
             [
              1,
              "#f0f921"
             ]
            ],
            "type": "contour"
           }
          ],
          "contourcarpet": [
           {
            "colorbar": {
             "outlinewidth": 0,
             "ticks": ""
            },
            "type": "contourcarpet"
           }
          ],
          "heatmap": [
           {
            "colorbar": {
             "outlinewidth": 0,
             "ticks": ""
            },
            "colorscale": [
             [
              0,
              "#0d0887"
             ],
             [
              0.1111111111111111,
              "#46039f"
             ],
             [
              0.2222222222222222,
              "#7201a8"
             ],
             [
              0.3333333333333333,
              "#9c179e"
             ],
             [
              0.4444444444444444,
              "#bd3786"
             ],
             [
              0.5555555555555556,
              "#d8576b"
             ],
             [
              0.6666666666666666,
              "#ed7953"
             ],
             [
              0.7777777777777778,
              "#fb9f3a"
             ],
             [
              0.8888888888888888,
              "#fdca26"
             ],
             [
              1,
              "#f0f921"
             ]
            ],
            "type": "heatmap"
           }
          ],
          "heatmapgl": [
           {
            "colorbar": {
             "outlinewidth": 0,
             "ticks": ""
            },
            "colorscale": [
             [
              0,
              "#0d0887"
             ],
             [
              0.1111111111111111,
              "#46039f"
             ],
             [
              0.2222222222222222,
              "#7201a8"
             ],
             [
              0.3333333333333333,
              "#9c179e"
             ],
             [
              0.4444444444444444,
              "#bd3786"
             ],
             [
              0.5555555555555556,
              "#d8576b"
             ],
             [
              0.6666666666666666,
              "#ed7953"
             ],
             [
              0.7777777777777778,
              "#fb9f3a"
             ],
             [
              0.8888888888888888,
              "#fdca26"
             ],
             [
              1,
              "#f0f921"
             ]
            ],
            "type": "heatmapgl"
           }
          ],
          "histogram": [
           {
            "marker": {
             "pattern": {
              "fillmode": "overlay",
              "size": 10,
              "solidity": 0.2
             }
            },
            "type": "histogram"
           }
          ],
          "histogram2d": [
           {
            "colorbar": {
             "outlinewidth": 0,
             "ticks": ""
            },
            "colorscale": [
             [
              0,
              "#0d0887"
             ],
             [
              0.1111111111111111,
              "#46039f"
             ],
             [
              0.2222222222222222,
              "#7201a8"
             ],
             [
              0.3333333333333333,
              "#9c179e"
             ],
             [
              0.4444444444444444,
              "#bd3786"
             ],
             [
              0.5555555555555556,
              "#d8576b"
             ],
             [
              0.6666666666666666,
              "#ed7953"
             ],
             [
              0.7777777777777778,
              "#fb9f3a"
             ],
             [
              0.8888888888888888,
              "#fdca26"
             ],
             [
              1,
              "#f0f921"
             ]
            ],
            "type": "histogram2d"
           }
          ],
          "histogram2dcontour": [
           {
            "colorbar": {
             "outlinewidth": 0,
             "ticks": ""
            },
            "colorscale": [
             [
              0,
              "#0d0887"
             ],
             [
              0.1111111111111111,
              "#46039f"
             ],
             [
              0.2222222222222222,
              "#7201a8"
             ],
             [
              0.3333333333333333,
              "#9c179e"
             ],
             [
              0.4444444444444444,
              "#bd3786"
             ],
             [
              0.5555555555555556,
              "#d8576b"
             ],
             [
              0.6666666666666666,
              "#ed7953"
             ],
             [
              0.7777777777777778,
              "#fb9f3a"
             ],
             [
              0.8888888888888888,
              "#fdca26"
             ],
             [
              1,
              "#f0f921"
             ]
            ],
            "type": "histogram2dcontour"
           }
          ],
          "mesh3d": [
           {
            "colorbar": {
             "outlinewidth": 0,
             "ticks": ""
            },
            "type": "mesh3d"
           }
          ],
          "parcoords": [
           {
            "line": {
             "colorbar": {
              "outlinewidth": 0,
              "ticks": ""
             }
            },
            "type": "parcoords"
           }
          ],
          "pie": [
           {
            "automargin": true,
            "type": "pie"
           }
          ],
          "scatter": [
           {
            "marker": {
             "colorbar": {
              "outlinewidth": 0,
              "ticks": ""
             }
            },
            "type": "scatter"
           }
          ],
          "scatter3d": [
           {
            "line": {
             "colorbar": {
              "outlinewidth": 0,
              "ticks": ""
             }
            },
            "marker": {
             "colorbar": {
              "outlinewidth": 0,
              "ticks": ""
             }
            },
            "type": "scatter3d"
           }
          ],
          "scattercarpet": [
           {
            "marker": {
             "colorbar": {
              "outlinewidth": 0,
              "ticks": ""
             }
            },
            "type": "scattercarpet"
           }
          ],
          "scattergeo": [
           {
            "marker": {
             "colorbar": {
              "outlinewidth": 0,
              "ticks": ""
             }
            },
            "type": "scattergeo"
           }
          ],
          "scattergl": [
           {
            "marker": {
             "colorbar": {
              "outlinewidth": 0,
              "ticks": ""
             }
            },
            "type": "scattergl"
           }
          ],
          "scattermapbox": [
           {
            "marker": {
             "colorbar": {
              "outlinewidth": 0,
              "ticks": ""
             }
            },
            "type": "scattermapbox"
           }
          ],
          "scatterpolar": [
           {
            "marker": {
             "colorbar": {
              "outlinewidth": 0,
              "ticks": ""
             }
            },
            "type": "scatterpolar"
           }
          ],
          "scatterpolargl": [
           {
            "marker": {
             "colorbar": {
              "outlinewidth": 0,
              "ticks": ""
             }
            },
            "type": "scatterpolargl"
           }
          ],
          "scatterternary": [
           {
            "marker": {
             "colorbar": {
              "outlinewidth": 0,
              "ticks": ""
             }
            },
            "type": "scatterternary"
           }
          ],
          "surface": [
           {
            "colorbar": {
             "outlinewidth": 0,
             "ticks": ""
            },
            "colorscale": [
             [
              0,
              "#0d0887"
             ],
             [
              0.1111111111111111,
              "#46039f"
             ],
             [
              0.2222222222222222,
              "#7201a8"
             ],
             [
              0.3333333333333333,
              "#9c179e"
             ],
             [
              0.4444444444444444,
              "#bd3786"
             ],
             [
              0.5555555555555556,
              "#d8576b"
             ],
             [
              0.6666666666666666,
              "#ed7953"
             ],
             [
              0.7777777777777778,
              "#fb9f3a"
             ],
             [
              0.8888888888888888,
              "#fdca26"
             ],
             [
              1,
              "#f0f921"
             ]
            ],
            "type": "surface"
           }
          ],
          "table": [
           {
            "cells": {
             "fill": {
              "color": "#EBF0F8"
             },
             "line": {
              "color": "white"
             }
            },
            "header": {
             "fill": {
              "color": "#C8D4E3"
             },
             "line": {
              "color": "white"
             }
            },
            "type": "table"
           }
          ]
         },
         "layout": {
          "annotationdefaults": {
           "arrowcolor": "#2a3f5f",
           "arrowhead": 0,
           "arrowwidth": 1
          },
          "autotypenumbers": "strict",
          "coloraxis": {
           "colorbar": {
            "outlinewidth": 0,
            "ticks": ""
           }
          },
          "colorscale": {
           "diverging": [
            [
             0,
             "#8e0152"
            ],
            [
             0.1,
             "#c51b7d"
            ],
            [
             0.2,
             "#de77ae"
            ],
            [
             0.3,
             "#f1b6da"
            ],
            [
             0.4,
             "#fde0ef"
            ],
            [
             0.5,
             "#f7f7f7"
            ],
            [
             0.6,
             "#e6f5d0"
            ],
            [
             0.7,
             "#b8e186"
            ],
            [
             0.8,
             "#7fbc41"
            ],
            [
             0.9,
             "#4d9221"
            ],
            [
             1,
             "#276419"
            ]
           ],
           "sequential": [
            [
             0,
             "#0d0887"
            ],
            [
             0.1111111111111111,
             "#46039f"
            ],
            [
             0.2222222222222222,
             "#7201a8"
            ],
            [
             0.3333333333333333,
             "#9c179e"
            ],
            [
             0.4444444444444444,
             "#bd3786"
            ],
            [
             0.5555555555555556,
             "#d8576b"
            ],
            [
             0.6666666666666666,
             "#ed7953"
            ],
            [
             0.7777777777777778,
             "#fb9f3a"
            ],
            [
             0.8888888888888888,
             "#fdca26"
            ],
            [
             1,
             "#f0f921"
            ]
           ],
           "sequentialminus": [
            [
             0,
             "#0d0887"
            ],
            [
             0.1111111111111111,
             "#46039f"
            ],
            [
             0.2222222222222222,
             "#7201a8"
            ],
            [
             0.3333333333333333,
             "#9c179e"
            ],
            [
             0.4444444444444444,
             "#bd3786"
            ],
            [
             0.5555555555555556,
             "#d8576b"
            ],
            [
             0.6666666666666666,
             "#ed7953"
            ],
            [
             0.7777777777777778,
             "#fb9f3a"
            ],
            [
             0.8888888888888888,
             "#fdca26"
            ],
            [
             1,
             "#f0f921"
            ]
           ]
          },
          "colorway": [
           "#636efa",
           "#EF553B",
           "#00cc96",
           "#ab63fa",
           "#FFA15A",
           "#19d3f3",
           "#FF6692",
           "#B6E880",
           "#FF97FF",
           "#FECB52"
          ],
          "font": {
           "color": "#2a3f5f"
          },
          "geo": {
           "bgcolor": "white",
           "lakecolor": "white",
           "landcolor": "#E5ECF6",
           "showlakes": true,
           "showland": true,
           "subunitcolor": "white"
          },
          "hoverlabel": {
           "align": "left"
          },
          "hovermode": "closest",
          "mapbox": {
           "style": "light"
          },
          "paper_bgcolor": "white",
          "plot_bgcolor": "#E5ECF6",
          "polar": {
           "angularaxis": {
            "gridcolor": "white",
            "linecolor": "white",
            "ticks": ""
           },
           "bgcolor": "#E5ECF6",
           "radialaxis": {
            "gridcolor": "white",
            "linecolor": "white",
            "ticks": ""
           }
          },
          "scene": {
           "xaxis": {
            "backgroundcolor": "#E5ECF6",
            "gridcolor": "white",
            "gridwidth": 2,
            "linecolor": "white",
            "showbackground": true,
            "ticks": "",
            "zerolinecolor": "white"
           },
           "yaxis": {
            "backgroundcolor": "#E5ECF6",
            "gridcolor": "white",
            "gridwidth": 2,
            "linecolor": "white",
            "showbackground": true,
            "ticks": "",
            "zerolinecolor": "white"
           },
           "zaxis": {
            "backgroundcolor": "#E5ECF6",
            "gridcolor": "white",
            "gridwidth": 2,
            "linecolor": "white",
            "showbackground": true,
            "ticks": "",
            "zerolinecolor": "white"
           }
          },
          "shapedefaults": {
           "line": {
            "color": "#2a3f5f"
           }
          },
          "ternary": {
           "aaxis": {
            "gridcolor": "white",
            "linecolor": "white",
            "ticks": ""
           },
           "baxis": {
            "gridcolor": "white",
            "linecolor": "white",
            "ticks": ""
           },
           "bgcolor": "#E5ECF6",
           "caxis": {
            "gridcolor": "white",
            "linecolor": "white",
            "ticks": ""
           }
          },
          "title": {
           "x": 0.05
          },
          "xaxis": {
           "automargin": true,
           "gridcolor": "white",
           "linecolor": "white",
           "ticks": "",
           "title": {
            "standoff": 15
           },
           "zerolinecolor": "white",
           "zerolinewidth": 2
          },
          "yaxis": {
           "automargin": true,
           "gridcolor": "white",
           "linecolor": "white",
           "ticks": "",
           "title": {
            "standoff": 15
           },
           "zerolinecolor": "white",
           "zerolinewidth": 2
          }
         }
        },
        "xaxis": {
         "anchor": "y",
         "domain": [
          0,
          1
         ],
         "showticklabels": false
        },
        "yaxis": {
         "anchor": "x",
         "domain": [
          0,
          1
         ],
         "showticklabels": false
        }
       }
      }
     },
     "metadata": {},
     "output_type": "display_data"
    },
    {
     "name": "stdout",
     "output_type": "stream",
     "text": [
      "[9, 5, 1, 4, 2, 7, 0, 1, 9, 8, 5, 8, 9, 4, 7, 8]\n",
      "[9, 5, 1, 4, 2, 2, 0, 1, 9, 8, 5, 8, 9, 4, 7, 8]\n"
     ]
    }
   ],
   "source": [
    "import numpy as np\n",
    "\n",
    "images, labels = next(test_iter)\n",
    "\n",
    "imshow(torchvision.utils.make_grid(images))\n",
    "\n",
    "print(list(torch.argmax(net(images), axis=1).numpy()))\n",
    "print([l.item() for l in labels])"
   ]
  },
  {
   "cell_type": "markdown",
   "metadata": {},
   "source": [
    "## Evaluating the Model"
   ]
  },
  {
   "cell_type": "code",
   "execution_count": 8,
   "metadata": {},
   "outputs": [],
   "source": [
    "def evaluate_model(net, dataloader, class_specific_performance=False):\n",
    "    if not class_specific_performance:\n",
    "        correct, total = (0, 0)\n",
    "    else:        \n",
    "        correct = {digit: 0 for digit in range(10)}\n",
    "        total = {digit: 0 for digit in range(10)}\n",
    "\n",
    "    with torch.no_grad():\n",
    "        for (batch, labels) in dataloader:\n",
    "            outputs = net(batch)\n",
    "            preds = torch.argmax(outputs, 1)\n",
    "\n",
    "            if not class_specific_performance:\n",
    "                total += labels.shape[0]\n",
    "                correct += torch.sum(preds == labels).item()\n",
    "            else:\n",
    "                for label, pred in zip(labels, preds):                \n",
    "                    if pred == label:\n",
    "                        correct[label.item()] += 1\n",
    "                    total[label.item()] += 1\n",
    "    return correct, total"
   ]
  },
  {
   "cell_type": "code",
   "execution_count": 9,
   "metadata": {},
   "outputs": [
    {
     "name": "stdout",
     "output_type": "stream",
     "text": [
      "The model classified 9769 digits correctly, out of 10000 total, for an accuracy of 97.69%\n"
     ]
    }
   ],
   "source": [
    "correct, total = evaluate_model(net, testloader)\n",
    "\n",
    "print(f\"The model classified {correct} digits correctly, out of {total} total, for an accuracy of {correct * 100 / total :.2f}%\")"
   ]
  },
  {
   "cell_type": "markdown",
   "metadata": {},
   "source": [
    "## But how does it perform in the rotated context?"
   ]
  },
  {
   "cell_type": "code",
   "execution_count": 10,
   "metadata": {},
   "outputs": [
    {
     "name": "stdout",
     "output_type": "stream",
     "text": [
      "The model classified 8125 rotated digits correctly, out of 10000 total, for an accuracy of 81.25%\n"
     ]
    }
   ],
   "source": [
    "correct, total = evaluate_model(net, rotated_testloader, class_specific_performance=True)\n",
    "c = sum(correct.values())\n",
    "t = sum(total.values())\n",
    "print(f\"The model classified {c} rotated digits correctly, out of {t} total, for an accuracy of {c * 100 / t :.2f}%\")"
   ]
  },
  {
   "cell_type": "markdown",
   "metadata": {},
   "source": [
    "Open Question: Why does this change on each run?"
   ]
  },
  {
   "cell_type": "code",
   "execution_count": 11,
   "metadata": {},
   "outputs": [
    {
     "data": {
      "application/vnd.plotly.v1+json": {
       "config": {
        "plotlyServerURL": "https://plot.ly"
       },
       "data": [
        {
         "alignmentgroup": "True",
         "hovertemplate": "digit=%{x}<br>Classification Success Rate=%{y}<extra></extra>",
         "legendgroup": "",
         "marker": {
          "color": "#636efa",
          "pattern": {
           "shape": ""
          }
         },
         "name": "",
         "offsetgroup": "",
         "orientation": "v",
         "showlegend": false,
         "textposition": "auto",
         "type": "bar",
         "x": [
          0,
          1,
          2,
          3,
          4,
          5,
          6,
          7,
          8,
          9
         ],
         "xaxis": "x",
         "y": [
          0.93,
          0.919,
          0.741,
          0.815,
          0.744,
          0.796,
          0.739,
          0.794,
          0.781,
          0.866
         ],
         "yaxis": "y"
        }
       ],
       "layout": {
        "barmode": "relative",
        "legend": {
         "tracegroupgap": 0
        },
        "margin": {
         "t": 60
        },
        "template": {
         "data": {
          "bar": [
           {
            "error_x": {
             "color": "#2a3f5f"
            },
            "error_y": {
             "color": "#2a3f5f"
            },
            "marker": {
             "line": {
              "color": "#E5ECF6",
              "width": 0.5
             },
             "pattern": {
              "fillmode": "overlay",
              "size": 10,
              "solidity": 0.2
             }
            },
            "type": "bar"
           }
          ],
          "barpolar": [
           {
            "marker": {
             "line": {
              "color": "#E5ECF6",
              "width": 0.5
             },
             "pattern": {
              "fillmode": "overlay",
              "size": 10,
              "solidity": 0.2
             }
            },
            "type": "barpolar"
           }
          ],
          "carpet": [
           {
            "aaxis": {
             "endlinecolor": "#2a3f5f",
             "gridcolor": "white",
             "linecolor": "white",
             "minorgridcolor": "white",
             "startlinecolor": "#2a3f5f"
            },
            "baxis": {
             "endlinecolor": "#2a3f5f",
             "gridcolor": "white",
             "linecolor": "white",
             "minorgridcolor": "white",
             "startlinecolor": "#2a3f5f"
            },
            "type": "carpet"
           }
          ],
          "choropleth": [
           {
            "colorbar": {
             "outlinewidth": 0,
             "ticks": ""
            },
            "type": "choropleth"
           }
          ],
          "contour": [
           {
            "colorbar": {
             "outlinewidth": 0,
             "ticks": ""
            },
            "colorscale": [
             [
              0,
              "#0d0887"
             ],
             [
              0.1111111111111111,
              "#46039f"
             ],
             [
              0.2222222222222222,
              "#7201a8"
             ],
             [
              0.3333333333333333,
              "#9c179e"
             ],
             [
              0.4444444444444444,
              "#bd3786"
             ],
             [
              0.5555555555555556,
              "#d8576b"
             ],
             [
              0.6666666666666666,
              "#ed7953"
             ],
             [
              0.7777777777777778,
              "#fb9f3a"
             ],
             [
              0.8888888888888888,
              "#fdca26"
             ],
             [
              1,
              "#f0f921"
             ]
            ],
            "type": "contour"
           }
          ],
          "contourcarpet": [
           {
            "colorbar": {
             "outlinewidth": 0,
             "ticks": ""
            },
            "type": "contourcarpet"
           }
          ],
          "heatmap": [
           {
            "colorbar": {
             "outlinewidth": 0,
             "ticks": ""
            },
            "colorscale": [
             [
              0,
              "#0d0887"
             ],
             [
              0.1111111111111111,
              "#46039f"
             ],
             [
              0.2222222222222222,
              "#7201a8"
             ],
             [
              0.3333333333333333,
              "#9c179e"
             ],
             [
              0.4444444444444444,
              "#bd3786"
             ],
             [
              0.5555555555555556,
              "#d8576b"
             ],
             [
              0.6666666666666666,
              "#ed7953"
             ],
             [
              0.7777777777777778,
              "#fb9f3a"
             ],
             [
              0.8888888888888888,
              "#fdca26"
             ],
             [
              1,
              "#f0f921"
             ]
            ],
            "type": "heatmap"
           }
          ],
          "heatmapgl": [
           {
            "colorbar": {
             "outlinewidth": 0,
             "ticks": ""
            },
            "colorscale": [
             [
              0,
              "#0d0887"
             ],
             [
              0.1111111111111111,
              "#46039f"
             ],
             [
              0.2222222222222222,
              "#7201a8"
             ],
             [
              0.3333333333333333,
              "#9c179e"
             ],
             [
              0.4444444444444444,
              "#bd3786"
             ],
             [
              0.5555555555555556,
              "#d8576b"
             ],
             [
              0.6666666666666666,
              "#ed7953"
             ],
             [
              0.7777777777777778,
              "#fb9f3a"
             ],
             [
              0.8888888888888888,
              "#fdca26"
             ],
             [
              1,
              "#f0f921"
             ]
            ],
            "type": "heatmapgl"
           }
          ],
          "histogram": [
           {
            "marker": {
             "pattern": {
              "fillmode": "overlay",
              "size": 10,
              "solidity": 0.2
             }
            },
            "type": "histogram"
           }
          ],
          "histogram2d": [
           {
            "colorbar": {
             "outlinewidth": 0,
             "ticks": ""
            },
            "colorscale": [
             [
              0,
              "#0d0887"
             ],
             [
              0.1111111111111111,
              "#46039f"
             ],
             [
              0.2222222222222222,
              "#7201a8"
             ],
             [
              0.3333333333333333,
              "#9c179e"
             ],
             [
              0.4444444444444444,
              "#bd3786"
             ],
             [
              0.5555555555555556,
              "#d8576b"
             ],
             [
              0.6666666666666666,
              "#ed7953"
             ],
             [
              0.7777777777777778,
              "#fb9f3a"
             ],
             [
              0.8888888888888888,
              "#fdca26"
             ],
             [
              1,
              "#f0f921"
             ]
            ],
            "type": "histogram2d"
           }
          ],
          "histogram2dcontour": [
           {
            "colorbar": {
             "outlinewidth": 0,
             "ticks": ""
            },
            "colorscale": [
             [
              0,
              "#0d0887"
             ],
             [
              0.1111111111111111,
              "#46039f"
             ],
             [
              0.2222222222222222,
              "#7201a8"
             ],
             [
              0.3333333333333333,
              "#9c179e"
             ],
             [
              0.4444444444444444,
              "#bd3786"
             ],
             [
              0.5555555555555556,
              "#d8576b"
             ],
             [
              0.6666666666666666,
              "#ed7953"
             ],
             [
              0.7777777777777778,
              "#fb9f3a"
             ],
             [
              0.8888888888888888,
              "#fdca26"
             ],
             [
              1,
              "#f0f921"
             ]
            ],
            "type": "histogram2dcontour"
           }
          ],
          "mesh3d": [
           {
            "colorbar": {
             "outlinewidth": 0,
             "ticks": ""
            },
            "type": "mesh3d"
           }
          ],
          "parcoords": [
           {
            "line": {
             "colorbar": {
              "outlinewidth": 0,
              "ticks": ""
             }
            },
            "type": "parcoords"
           }
          ],
          "pie": [
           {
            "automargin": true,
            "type": "pie"
           }
          ],
          "scatter": [
           {
            "marker": {
             "colorbar": {
              "outlinewidth": 0,
              "ticks": ""
             }
            },
            "type": "scatter"
           }
          ],
          "scatter3d": [
           {
            "line": {
             "colorbar": {
              "outlinewidth": 0,
              "ticks": ""
             }
            },
            "marker": {
             "colorbar": {
              "outlinewidth": 0,
              "ticks": ""
             }
            },
            "type": "scatter3d"
           }
          ],
          "scattercarpet": [
           {
            "marker": {
             "colorbar": {
              "outlinewidth": 0,
              "ticks": ""
             }
            },
            "type": "scattercarpet"
           }
          ],
          "scattergeo": [
           {
            "marker": {
             "colorbar": {
              "outlinewidth": 0,
              "ticks": ""
             }
            },
            "type": "scattergeo"
           }
          ],
          "scattergl": [
           {
            "marker": {
             "colorbar": {
              "outlinewidth": 0,
              "ticks": ""
             }
            },
            "type": "scattergl"
           }
          ],
          "scattermapbox": [
           {
            "marker": {
             "colorbar": {
              "outlinewidth": 0,
              "ticks": ""
             }
            },
            "type": "scattermapbox"
           }
          ],
          "scatterpolar": [
           {
            "marker": {
             "colorbar": {
              "outlinewidth": 0,
              "ticks": ""
             }
            },
            "type": "scatterpolar"
           }
          ],
          "scatterpolargl": [
           {
            "marker": {
             "colorbar": {
              "outlinewidth": 0,
              "ticks": ""
             }
            },
            "type": "scatterpolargl"
           }
          ],
          "scatterternary": [
           {
            "marker": {
             "colorbar": {
              "outlinewidth": 0,
              "ticks": ""
             }
            },
            "type": "scatterternary"
           }
          ],
          "surface": [
           {
            "colorbar": {
             "outlinewidth": 0,
             "ticks": ""
            },
            "colorscale": [
             [
              0,
              "#0d0887"
             ],
             [
              0.1111111111111111,
              "#46039f"
             ],
             [
              0.2222222222222222,
              "#7201a8"
             ],
             [
              0.3333333333333333,
              "#9c179e"
             ],
             [
              0.4444444444444444,
              "#bd3786"
             ],
             [
              0.5555555555555556,
              "#d8576b"
             ],
             [
              0.6666666666666666,
              "#ed7953"
             ],
             [
              0.7777777777777778,
              "#fb9f3a"
             ],
             [
              0.8888888888888888,
              "#fdca26"
             ],
             [
              1,
              "#f0f921"
             ]
            ],
            "type": "surface"
           }
          ],
          "table": [
           {
            "cells": {
             "fill": {
              "color": "#EBF0F8"
             },
             "line": {
              "color": "white"
             }
            },
            "header": {
             "fill": {
              "color": "#C8D4E3"
             },
             "line": {
              "color": "white"
             }
            },
            "type": "table"
           }
          ]
         },
         "layout": {
          "annotationdefaults": {
           "arrowcolor": "#2a3f5f",
           "arrowhead": 0,
           "arrowwidth": 1
          },
          "autotypenumbers": "strict",
          "coloraxis": {
           "colorbar": {
            "outlinewidth": 0,
            "ticks": ""
           }
          },
          "colorscale": {
           "diverging": [
            [
             0,
             "#8e0152"
            ],
            [
             0.1,
             "#c51b7d"
            ],
            [
             0.2,
             "#de77ae"
            ],
            [
             0.3,
             "#f1b6da"
            ],
            [
             0.4,
             "#fde0ef"
            ],
            [
             0.5,
             "#f7f7f7"
            ],
            [
             0.6,
             "#e6f5d0"
            ],
            [
             0.7,
             "#b8e186"
            ],
            [
             0.8,
             "#7fbc41"
            ],
            [
             0.9,
             "#4d9221"
            ],
            [
             1,
             "#276419"
            ]
           ],
           "sequential": [
            [
             0,
             "#0d0887"
            ],
            [
             0.1111111111111111,
             "#46039f"
            ],
            [
             0.2222222222222222,
             "#7201a8"
            ],
            [
             0.3333333333333333,
             "#9c179e"
            ],
            [
             0.4444444444444444,
             "#bd3786"
            ],
            [
             0.5555555555555556,
             "#d8576b"
            ],
            [
             0.6666666666666666,
             "#ed7953"
            ],
            [
             0.7777777777777778,
             "#fb9f3a"
            ],
            [
             0.8888888888888888,
             "#fdca26"
            ],
            [
             1,
             "#f0f921"
            ]
           ],
           "sequentialminus": [
            [
             0,
             "#0d0887"
            ],
            [
             0.1111111111111111,
             "#46039f"
            ],
            [
             0.2222222222222222,
             "#7201a8"
            ],
            [
             0.3333333333333333,
             "#9c179e"
            ],
            [
             0.4444444444444444,
             "#bd3786"
            ],
            [
             0.5555555555555556,
             "#d8576b"
            ],
            [
             0.6666666666666666,
             "#ed7953"
            ],
            [
             0.7777777777777778,
             "#fb9f3a"
            ],
            [
             0.8888888888888888,
             "#fdca26"
            ],
            [
             1,
             "#f0f921"
            ]
           ]
          },
          "colorway": [
           "#636efa",
           "#EF553B",
           "#00cc96",
           "#ab63fa",
           "#FFA15A",
           "#19d3f3",
           "#FF6692",
           "#B6E880",
           "#FF97FF",
           "#FECB52"
          ],
          "font": {
           "color": "#2a3f5f"
          },
          "geo": {
           "bgcolor": "white",
           "lakecolor": "white",
           "landcolor": "#E5ECF6",
           "showlakes": true,
           "showland": true,
           "subunitcolor": "white"
          },
          "hoverlabel": {
           "align": "left"
          },
          "hovermode": "closest",
          "mapbox": {
           "style": "light"
          },
          "paper_bgcolor": "white",
          "plot_bgcolor": "#E5ECF6",
          "polar": {
           "angularaxis": {
            "gridcolor": "white",
            "linecolor": "white",
            "ticks": ""
           },
           "bgcolor": "#E5ECF6",
           "radialaxis": {
            "gridcolor": "white",
            "linecolor": "white",
            "ticks": ""
           }
          },
          "scene": {
           "xaxis": {
            "backgroundcolor": "#E5ECF6",
            "gridcolor": "white",
            "gridwidth": 2,
            "linecolor": "white",
            "showbackground": true,
            "ticks": "",
            "zerolinecolor": "white"
           },
           "yaxis": {
            "backgroundcolor": "#E5ECF6",
            "gridcolor": "white",
            "gridwidth": 2,
            "linecolor": "white",
            "showbackground": true,
            "ticks": "",
            "zerolinecolor": "white"
           },
           "zaxis": {
            "backgroundcolor": "#E5ECF6",
            "gridcolor": "white",
            "gridwidth": 2,
            "linecolor": "white",
            "showbackground": true,
            "ticks": "",
            "zerolinecolor": "white"
           }
          },
          "shapedefaults": {
           "line": {
            "color": "#2a3f5f"
           }
          },
          "ternary": {
           "aaxis": {
            "gridcolor": "white",
            "linecolor": "white",
            "ticks": ""
           },
           "baxis": {
            "gridcolor": "white",
            "linecolor": "white",
            "ticks": ""
           },
           "bgcolor": "#E5ECF6",
           "caxis": {
            "gridcolor": "white",
            "linecolor": "white",
            "ticks": ""
           }
          },
          "title": {
           "x": 0.05
          },
          "xaxis": {
           "automargin": true,
           "gridcolor": "white",
           "linecolor": "white",
           "ticks": "",
           "title": {
            "standoff": 15
           },
           "zerolinecolor": "white",
           "zerolinewidth": 2
          },
          "yaxis": {
           "automargin": true,
           "gridcolor": "white",
           "linecolor": "white",
           "ticks": "",
           "title": {
            "standoff": 15
           },
           "zerolinecolor": "white",
           "zerolinewidth": 2
          }
         }
        },
        "xaxis": {
         "anchor": "y",
         "domain": [
          0,
          1
         ],
         "tickmode": "linear",
         "title": {
          "text": "digit"
         }
        },
        "yaxis": {
         "anchor": "x",
         "domain": [
          0,
          1
         ],
         "range": [
          0,
          1
         ],
         "tickformat": ",.0%",
         "title": {
          "text": "Classification Success Rate"
         }
        }
       }
      }
     },
     "metadata": {},
     "output_type": "display_data"
    }
   ],
   "source": [
    "digits, counts = list(zip(*correct.items()))\n",
    "fig = px.bar(x = digits, y=np.array(counts)/1000, labels={'x': \"digit\", 'y': \"Classification Success Rate\"}, range_y=(0, 1))\n",
    "fig.update_layout(yaxis={\"tickformat\": \",.0%\"}, xaxis={\"tickmode\": \"linear\"})\n",
    "fig.show()"
   ]
  },
  {
   "cell_type": "markdown",
   "metadata": {},
   "source": [
    "## Now let's train the model again, this time using rotated data, and store the updates efficiently"
   ]
  },
  {
   "cell_type": "code",
   "execution_count": 12,
   "metadata": {},
   "outputs": [
    {
     "name": "stderr",
     "output_type": "stream",
     "text": [
      "/Users/montyevans/opt/miniconda3/envs/raffellab/lib/python3.9/site-packages/onnx2pytorch/convert/layer.py:30: UserWarning:\n",
      "\n",
      "The given NumPy array is not writable, and PyTorch does not support non-writable tensors. This means writing to this tensor will result in undefined behavior. You may want to copy the array to protect its data or make it writable before converting it to a tensor. This type of warning will be suppressed for the rest of this program. (Triggered internally at  /Users/distiller/project/pytorch/torch/csrc/utils/tensor_numpy.cpp:178.)\n",
      "\n",
      "/Users/montyevans/opt/miniconda3/envs/raffellab/lib/python3.9/site-packages/onnx2pytorch/convert/model.py:147: UserWarning:\n",
      "\n",
      "Using experimental implementation that allows 'batch_size > 1'.Batchnorm layers could potentially produce false outputs.\n",
      "\n"
     ]
    }
   ],
   "source": [
    "import onnx\n",
    "from onnx2pytorch import ConvertModel\n",
    "\n",
    "onnx_model = onnx.load(\"mnist_test_pretrained.onnx\")\n",
    "imported_pytorch_model = ConvertModel(onnx_model, experimental=True)"
   ]
  },
  {
   "cell_type": "markdown",
   "metadata": {},
   "source": [
    "Annoyingly, there is no native Pytorch implementation to import an ONNX model. However, I found an external library that attempts to do this, though it produces some strange results. Specifically, it adds several parameters to the model's state dict that I don't understand: they concern the weight and bias of the ReLUs, which I don't understand, since ReLUs have neither of those things."
   ]
  },
  {
   "cell_type": "code",
   "execution_count": 13,
   "metadata": {},
   "outputs": [
    {
     "name": "stdout",
     "output_type": "stream",
     "text": [
      "odict_keys(['_initializer_conv1_weight', '_initializer_conv1_bias', '_initializer_conv2_weight', '_initializer_conv2_bias', '_initializer_fc1_weight', '_initializer_fc1_bias', '_initializer_fc2_weight', '_initializer_fc2_bias', '_initializer_fc3_weight', '_initializer_fc3_bias', 'Conv_onnx::Relu_11.weight', 'Conv_onnx::Relu_11.bias', 'Conv_onnx::Relu_14.weight', 'Conv_onnx::Relu_14.bias', 'Gemm_onnx::Relu_18.weight', 'Gemm_onnx::Relu_18.bias', 'Gemm_onnx::Relu_20.weight', 'Gemm_onnx::Relu_20.bias', 'Gemm_22.weight', 'Gemm_22.bias'])\n",
      "\n",
      " ----- \n",
      "\n",
      "odict_keys(['conv1.weight', 'conv1.bias', 'conv2.weight', 'conv2.bias', 'fc1.weight', 'fc1.bias', 'fc2.weight', 'fc2.bias', 'fc3.weight', 'fc3.bias'])\n"
     ]
    }
   ],
   "source": [
    "print(imported_pytorch_model.state_dict().keys())\n",
    "print(\"\\n ----- \\n\")\n",
    "print(net.state_dict().keys())"
   ]
  },
  {
   "cell_type": "markdown",
   "metadata": {},
   "source": [
    "Nevertheless, we persist. Let's evaluate the imported model's performance and verify that it has similar performance to the original."
   ]
  },
  {
   "cell_type": "code",
   "execution_count": 14,
   "metadata": {},
   "outputs": [
    {
     "name": "stderr",
     "output_type": "stream",
     "text": [
      "/Users/montyevans/opt/miniconda3/envs/raffellab/lib/python3.9/site-packages/torch/nn/functional.py:749: UserWarning:\n",
      "\n",
      "Note that order of the arguments: ceil_mode and return_indices will changeto match the args list in nn.MaxPool2d in a future release.\n",
      "\n"
     ]
    },
    {
     "name": "stdout",
     "output_type": "stream",
     "text": [
      "The imported model classified 9769 digits correctly, out of 10000 total, for an accuracy of 97.69%\n",
      "The imported model classified 8092 rotated digits correctly, out of 10000 total, for an accuracy of 80.92%\n"
     ]
    }
   ],
   "source": [
    "correct_normal, total_normal = evaluate_model(imported_pytorch_model, testloader)\n",
    "correct_rotated, total_rotated = evaluate_model(imported_pytorch_model, rotated_testloader)\n",
    "\n",
    "print(f\"The imported model classified {correct_normal} digits correctly, out of {total_normal} total, for an accuracy of {correct_normal * 100 / total_normal :.2f}%\")\n",
    "print(f\"The imported model classified {correct_rotated} rotated digits correctly, out of {total_rotated} total, for an accuracy of {correct_rotated * 100 / total_rotated :.2f}%\")"
   ]
  },
  {
   "cell_type": "markdown",
   "metadata": {},
   "source": [
    "It does - great!\n",
    "\n",
    "Now, there are two approaches we could take to non-dense fine tuning. To clarify terminology, we distinguish between a _parameter_ and a _parameter group_. A _parameter_ is a single scalar value that is trained and used by the model during inference to produce a result. When people refer to the size of large models (e.g. T5 has 11B parameters), they are referring to these scalar values.\n",
    "\n",
    "A _parameter group_ is collection of parameters that has some conceptual and practical meaning as a unit of computation. Typical examples are the bias vector and the weight matrix of a linear layer, or the kernel of a 2D convolution. \n",
    "\n",
    "A typical training run (like the one we did at the start of this notebook) trains all possible parameters at every training step: every parameter within every parameter group. If you wanted to do less exhaustive training (and efficiently store the corresponding update), there are two natural approaches.\n",
    "\n",
    "- Select some subset of the _parameter groups_, and only train them. We refer to this as _globally sparse_ training.\n",
    "- Within each parameter group, select some subset of _parameters_, and only train them. We refer to this as _locally sparse_ training.\n",
    "\n",
    "(You could, of course, combine both approaches).\n",
    "\n",
    "To keep this test run simple, we take the second approach and train only the first convolutional layer, and the final dense layer."
   ]
  },
  {
   "cell_type": "markdown",
   "metadata": {},
   "source": [
    "## Sparsely fine-tuning the model"
   ]
  },
  {
   "cell_type": "code",
   "execution_count": 15,
   "metadata": {},
   "outputs": [],
   "source": [
    "from collections import defaultdict\n",
    "\n",
    "def train_with_mask(net, optimizer, dataloader, num_epochs=2, parameter_masks = None):\n",
    "    if parameter_masks is None: parameter_masks = defaultdict(lambda: 1) # If no masks are provided, train all parameters as normal\n",
    "\n",
    "    loss_fn = torch.nn.CrossEntropyLoss()\n",
    "\n",
    "    for e in range(num_epochs):\n",
    "        flag = 0\n",
    "        cumulative_loss = 0\n",
    "        loss_window = len(dataloader) // 10\n",
    "        for i, (batch, labels) in enumerate(dataloader, 1):\n",
    "            optimizer.zero_grad()\n",
    "\n",
    "            preds = net(batch)\n",
    "            loss = loss_fn(preds, labels)\n",
    "            loss.backward()\n",
    "\n",
    "            # Mask out the parameters here\n",
    "            for name, params in net.named_parameters():\n",
    "                params.grad.data.copy_(params.grad.data * parameter_masks[name])\n",
    "                # params.grad.data.copy_(params.grad.data * 0)\n",
    "\n",
    "            optimizer.step()\n",
    "\n",
    "            cumulative_loss += loss\n",
    "\n",
    "            if i % loss_window == 0:\n",
    "                print(f\"Loss at epoch {e+1}, batch {i}: {cumulative_loss / loss_window :.2f}\")\n",
    "                cumulative_loss = 0"
   ]
  },
  {
   "cell_type": "code",
   "execution_count": 16,
   "metadata": {},
   "outputs": [
    {
     "name": "stdout",
     "output_type": "stream",
     "text": [
      "Loss at epoch 1, batch 375: 0.57\n",
      "Loss at epoch 1, batch 750: 0.45\n",
      "Loss at epoch 1, batch 1125: 0.43\n",
      "Loss at epoch 1, batch 1500: 0.41\n",
      "Loss at epoch 1, batch 1875: 0.41\n",
      "Loss at epoch 1, batch 2250: 0.39\n",
      "Loss at epoch 1, batch 2625: 0.38\n",
      "Loss at epoch 1, batch 3000: 0.38\n",
      "Loss at epoch 1, batch 3375: 0.37\n",
      "Loss at epoch 1, batch 3750: 0.38\n",
      "Loss at epoch 2, batch 375: 0.38\n",
      "Loss at epoch 2, batch 750: 0.37\n",
      "Loss at epoch 2, batch 1125: 0.38\n",
      "Loss at epoch 2, batch 1500: 0.36\n",
      "Loss at epoch 2, batch 1875: 0.37\n",
      "Loss at epoch 2, batch 2250: 0.36\n",
      "Loss at epoch 2, batch 2625: 0.37\n",
      "Loss at epoch 2, batch 3000: 0.37\n",
      "Loss at epoch 2, batch 3375: 0.35\n",
      "Loss at epoch 2, batch 3750: 0.34\n"
     ]
    }
   ],
   "source": [
    "from copy import deepcopy\n",
    "\n",
    "masks = defaultdict(lambda: 0)\n",
    "\n",
    "to_train = ['Conv_onnx::Relu_11.weight',\n",
    " 'Conv_onnx::Relu_11.bias',\n",
    " 'Gemm_22.weight',\n",
    " 'Gemm_22.bias']\n",
    "\n",
    "for param_name in to_train: masks[param_name] = 1\n",
    "\n",
    "model_copy = deepcopy(imported_pytorch_model) # Allow fresh fine-tuning without restarting the notebook\n",
    "\n",
    "active_model = model_copy\n",
    "optimizer = torch.optim.Adam(active_model.parameters())\n",
    "train_with_mask(active_model, optimizer, rotated_trainloader, 1, parameter_masks=masks)"
   ]
  },
  {
   "cell_type": "code",
   "execution_count": 17,
   "metadata": {},
   "outputs": [
    {
     "name": "stdout",
     "output_type": "stream",
     "text": [
      "The imported model classified 9769 digits correctly, out of 10000 total, for an accuracy of 97.69%\n",
      "The imported model classified 8188 rotated digits correctly, out of 10000 total, for an accuracy of 81.88%\n"
     ]
    }
   ],
   "source": [
    "correct_normal, total_normal = evaluate_model(imported_pytorch_model, testloader)\n",
    "correct_rotated, total_rotated = evaluate_model(imported_pytorch_model, rotated_testloader)\n",
    "\n",
    "print(f\"The imported model classified {correct_normal} digits correctly, out of {total_normal} total, for an accuracy of {correct_normal * 100 / total_normal :.2f}%\")\n",
    "print(f\"The imported model classified {correct_rotated} rotated digits correctly, out of {total_rotated} total, for an accuracy of {correct_rotated * 100 / total_rotated :.2f}%\")"
   ]
  },
  {
   "cell_type": "markdown",
   "metadata": {},
   "source": [
    "Success! The model improved its accuracy on the rotated digit set by 10% (and dropped 1% on the standard set, but omelettes and eggs...)\n",
    "\n",
    "Let's check to see that the parameters we wanted to train actually changed, while the others stayed the same."
   ]
  },
  {
   "cell_type": "code",
   "execution_count": 24,
   "metadata": {},
   "outputs": [
    {
     "name": "stdout",
     "output_type": "stream",
     "text": [
      "conv1.weight i.e. Conv_onnx::Relu_11.weight changed --- Yay!\n",
      "conv1.bias i.e. Conv_onnx::Relu_11.bias changed --- Yay!\n",
      "conv2.weight i.e. Conv_onnx::Relu_14.weight did not change --- Yay!\n",
      "conv2.bias i.e. Conv_onnx::Relu_14.bias did not change --- Yay!\n",
      "fc1.weight i.e. Gemm_onnx::Relu_18.weight did not change --- Yay!\n",
      "fc1.bias i.e. Gemm_onnx::Relu_18.bias did not change --- Yay!\n",
      "fc2.weight i.e. Gemm_onnx::Relu_20.weight did not change --- Yay!\n",
      "fc2.bias i.e. Gemm_onnx::Relu_20.bias did not change --- Yay!\n",
      "fc3.weight i.e. Gemm_22.weight changed --- Yay!\n",
      "fc3.bias i.e. Gemm_22.bias changed --- Yay!\n"
     ]
    }
   ],
   "source": [
    "param_pairs = list(zip(net.named_parameters(), active_model.named_parameters()))\n",
    "for param in param_pairs:\n",
    "    if torch.allclose(param[0][1], param[1][1]):\n",
    "        print(f\"{param[0][0]} i.e. {param[1][0]} did not change\", end=' --- ')\n",
    "        print(\"Goddamn\") if param[1][0] in to_train else print(\"Yay!\")\n",
    "    else:\n",
    "        print(f\"{param[0][0]} i.e. {param[1][0]} changed\", end=' --- ')\n",
    "        print(\"Goddamn\") if param[1][0] not in to_train else print(\"Yay!\")"
   ]
  },
  {
   "cell_type": "markdown",
   "metadata": {},
   "source": [
    "## Unresolved Questions\n",
    "\n",
    "How can a model's state dict have more keys that the model has parameters? Are the parameters not just the values in the state dict?\n",
    "\n",
    "There are two items in the imported model's state dict for each parameter in the original model, but besides the names, they seem to be copies of eachother. I am going to go ahead an select one of the copies, and ignore this curiosity. Hopefully this will not be a problem."
   ]
  },
  {
   "cell_type": "code",
   "execution_count": 74,
   "metadata": {},
   "outputs": [
    {
     "name": "stdout",
     "output_type": "stream",
     "text": [
      "Conv_onnx::Relu_11.weight\n",
      "torch.Size([3, 1, 5, 5])\n"
     ]
    },
    {
     "ename": "AssertionError",
     "evalue": "The parameter groups are not equal",
     "output_type": "error",
     "traceback": [
      "\u001b[0;31m---------------------------------------------------------------------------\u001b[0m",
      "\u001b[0;31mAssertionError\u001b[0m                            Traceback (most recent call last)",
      "\u001b[0;32m/var/folders/wk/44b1lq3s5tbf11plmxffm5fr0000gn/T/ipykernel_11445/3228480275.py\u001b[0m in \u001b[0;36m<module>\u001b[0;34m\u001b[0m\n\u001b[1;32m      4\u001b[0m \u001b[0;34m\u001b[0m\u001b[0m\n\u001b[1;32m      5\u001b[0m \u001b[0;32mfor\u001b[0m \u001b[0mi\u001b[0m \u001b[0;32min\u001b[0m \u001b[0mrange\u001b[0m\u001b[0;34m(\u001b[0m\u001b[0;36m10\u001b[0m\u001b[0;34m)\u001b[0m\u001b[0;34m:\u001b[0m\u001b[0;34m\u001b[0m\u001b[0;34m\u001b[0m\u001b[0m\n\u001b[0;32m----> 6\u001b[0;31m     \u001b[0;32massert\u001b[0m \u001b[0mnp\u001b[0m\u001b[0;34m.\u001b[0m\u001b[0mallclose\u001b[0m\u001b[0;34m(\u001b[0m\u001b[0mitems\u001b[0m\u001b[0;34m[\u001b[0m\u001b[0mi\u001b[0m\u001b[0;34m]\u001b[0m\u001b[0;34m[\u001b[0m\u001b[0;36m1\u001b[0m\u001b[0;34m]\u001b[0m\u001b[0;34m,\u001b[0m\u001b[0mitems\u001b[0m\u001b[0;34m[\u001b[0m\u001b[0mi\u001b[0m\u001b[0;34m+\u001b[0m\u001b[0;36m10\u001b[0m\u001b[0;34m]\u001b[0m\u001b[0;34m[\u001b[0m\u001b[0;36m1\u001b[0m\u001b[0;34m]\u001b[0m\u001b[0;34m)\u001b[0m\u001b[0;34m,\u001b[0m \u001b[0;34m\"The parameter groups are not equal\"\u001b[0m\u001b[0;34m\u001b[0m\u001b[0;34m\u001b[0m\u001b[0m\n\u001b[0m",
      "\u001b[0;31mAssertionError\u001b[0m: The parameter groups are not equal"
     ]
    }
   ],
   "source": [
    "items = [(k, v) for k, v in imported_pytorch_model.state_dict().items()]\n",
    "print(items[10][0])\n",
    "print(items[10][1].shape)\n",
    "\n",
    "for i in range(10):\n",
    "    assert np.allclose(items[i][1],items[i+10][1]), \"The parameter groups are not equal\""
   ]
  },
  {
   "cell_type": "code",
   "execution_count": 45,
   "metadata": {},
   "outputs": [],
   "source": []
  },
  {
   "cell_type": "code",
   "execution_count": 15,
   "metadata": {},
   "outputs": [
    {
     "data": {
      "text/plain": [
       "['Conv_onnx::Relu_11.weight',\n",
       " 'Conv_onnx::Relu_11.bias',\n",
       " 'Conv_onnx::Relu_14.weight',\n",
       " 'Conv_onnx::Relu_14.bias',\n",
       " 'Gemm_onnx::Relu_18.weight',\n",
       " 'Gemm_onnx::Relu_18.bias',\n",
       " 'Gemm_onnx::Relu_20.weight',\n",
       " 'Gemm_onnx::Relu_20.bias',\n",
       " 'Gemm_22.weight',\n",
       " 'Gemm_22.bias']"
      ]
     },
     "execution_count": 15,
     "metadata": {},
     "output_type": "execute_result"
    }
   ],
   "source": [
    "l = list(imported_pytorch_model.named_parameters())\n",
    "[x[0] for x in l]"
   ]
  },
  {
   "cell_type": "code",
   "execution_count": 28,
   "metadata": {},
   "outputs": [
    {
     "data": {
      "text/plain": [
       "torch.Size([3, 1, 5, 5])"
      ]
     },
     "execution_count": 28,
     "metadata": {},
     "output_type": "execute_result"
    }
   ],
   "source": [
    "l[0].shape"
   ]
  },
  {
   "cell_type": "code",
   "execution_count": 16,
   "metadata": {},
   "outputs": [
    {
     "data": {
      "text/plain": [
       "['conv1.weight',\n",
       " 'conv1.bias',\n",
       " 'conv2.weight',\n",
       " 'conv2.bias',\n",
       " 'fc1.weight',\n",
       " 'fc1.bias',\n",
       " 'fc2.weight',\n",
       " 'fc2.bias',\n",
       " 'fc3.weight',\n",
       " 'fc3.bias']"
      ]
     },
     "execution_count": 16,
     "metadata": {},
     "output_type": "execute_result"
    }
   ],
   "source": [
    "[x.name for x in onnx_model.graph.initializer]"
   ]
  },
  {
   "cell_type": "code",
   "execution_count": 21,
   "metadata": {},
   "outputs": [
    {
     "data": {
      "text/plain": [
       "odict_keys(['conv1.weight', 'conv1.bias', 'conv2.weight', 'conv2.bias', 'fc1.weight', 'fc1.bias', 'fc2.weight', 'fc2.bias', 'fc3.weight', 'fc3.bias'])"
      ]
     },
     "execution_count": 21,
     "metadata": {},
     "output_type": "execute_result"
    }
   ],
   "source": [
    "net.state_dict().keys()"
   ]
  }
 ],
 "metadata": {
  "interpreter": {
   "hash": "9c01baedbc736a94a9664335a750a75cd4fe1534c0fde3980701cc4f06df05d1"
  },
  "kernelspec": {
   "display_name": "Python 3.9.5 ('base')",
   "language": "python",
   "name": "python3"
  },
  "language_info": {
   "codemirror_mode": {
    "name": "ipython",
    "version": 3
   },
   "file_extension": ".py",
   "mimetype": "text/x-python",
   "name": "python",
   "nbconvert_exporter": "python",
   "pygments_lexer": "ipython3",
   "version": "3.9.7"
  },
  "orig_nbformat": 4
 },
 "nbformat": 4,
 "nbformat_minor": 2
}
