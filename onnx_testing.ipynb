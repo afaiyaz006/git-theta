{
 "cells": [
  {
   "cell_type": "code",
   "execution_count": 24,
   "metadata": {},
   "outputs": [],
   "source": [
    "import onnx\n",
    "import torch\n",
    "import numpy as np\n",
    "from onnx import numpy_helper as nh\n",
    "import copy\n",
    "import pickle\n",
    "import hashlib\n",
    "from onnx_functions import OnnxFunctions as OnnxModel\n",
    "from difftools import *\n",
    "import sys"
   ]
  },
  {
   "cell_type": "code",
   "execution_count": 3,
   "metadata": {},
   "outputs": [],
   "source": [
    "class MLP(torch.nn.Module):\n",
    "        def __init__(self):\n",
    "            super(MLP, self).__init__()\n",
    "            self.fc1 = torch.nn.Linear(5, 3)\n",
    "            self.relu = torch.nn.ReLU()\n",
    "            self.fc2 = torch.nn.Linear(3, 1)\n",
    "            self.sigmoid = torch.nn.Sigmoid()\n",
    "\n",
    "        def forward(self, x):\n",
    "            hidden = self.fc1(x)\n",
    "            relu = self.relu(hidden)\n",
    "            output = self.fc2(relu)\n",
    "            output = self.sigmoid(output)\n",
    "            return output\n",
    "\n",
    "dummy_input = torch.rand(5)\n",
    "model = MLP()\n",
    "\n",
    "torch.onnx.export(model, dummy_input, \"model.onnx\")"
   ]
  },
  {
   "cell_type": "code",
   "execution_count": 4,
   "metadata": {},
   "outputs": [
    {
     "data": {
      "text/plain": [
       "{'inputs': ['input.1'],\n",
       " 'outputs': ['12'],\n",
       " 'weights': ['13', '14', 'fc1.bias', 'fc2.bias']}"
      ]
     },
     "execution_count": 4,
     "metadata": {},
     "output_type": "execute_result"
    }
   ],
   "source": [
    "onnx_model = OnnxModel(\"model.onnx\")\n",
    "onnx_model.get_input_output_weight_names()"
   ]
  },
  {
   "cell_type": "code",
   "execution_count": 7,
   "metadata": {},
   "outputs": [
    {
     "data": {
      "text/plain": [
       "dims: 3\n",
       "data_type: 1\n",
       "name: \"fc1.bias\"\n",
       "raw_data: \"\\210\\021\\352=@>\\322<\\200\\313\\260>\""
      ]
     },
     "execution_count": 7,
     "metadata": {},
     "output_type": "execute_result"
    }
   ],
   "source": [
    "onnx_model.get_weight_by_name('fc1.bias')"
   ]
  },
  {
   "cell_type": "code",
   "execution_count": 5,
   "metadata": {},
   "outputs": [
    {
     "data": {
      "text/plain": [
       "{'inputs': ['input.1'],\n",
       " 'outputs': ['output'],\n",
       " 'weights': ['weights1', 'weights2', 'fc1.bias', 'fc2.bias']}"
      ]
     },
     "execution_count": 5,
     "metadata": {},
     "output_type": "execute_result"
    }
   ],
   "source": [
    "# Hand-written\n",
    "name_map = {\n",
    "    \"12\": \"output\",\n",
    "    \"13\": \"weights1\",\n",
    "    \"14\": \"weights2\",\n",
    "    \"6\" : \"matmul0_output\",\n",
    "    \"7\" : \"add1_output\",\n",
    "    \"8\" : \"relu2_output\",\n",
    "    \"10\": \"matmul3_output\",\n",
    "    \"11\": \"add4_output\"\n",
    "}\n",
    "\n",
    "onnx_model.change_names(name_map)\n",
    "\n",
    "onnx_model.get_input_output_weight_names()"
   ]
  },
  {
   "cell_type": "markdown",
   "metadata": {},
   "source": [
    "## Diff 101 - Creating a diff file, and applying it to an ONNX model"
   ]
  },
  {
   "cell_type": "code",
   "execution_count": 43,
   "metadata": {},
   "outputs": [
    {
     "name": "stdout",
     "output_type": "stream",
     "text": [
      "Update Matrix:\n",
      " tensor([[0.3148, 0.0590, 0.6038],\n",
      "        [0.6837, 0.8210, 0.4121],\n",
      "        [0.6220, 0.3701, 0.8425],\n",
      "        [0.2072, 0.9407, 0.2001],\n",
      "        [0.9929, 0.3732, 0.0429]]) \n",
      "---\n",
      "\n"
     ]
    }
   ],
   "source": [
    "del sys.modules[\"difftools\"]\n",
    "from difftools import *\n",
    "\n",
    "update_matrix = torch.rand((5,3))\n",
    "\n",
    "print('Update Matrix:\\n', update_matrix, '\\n---\\n')\n",
    "\n",
    "basic_update = ModelUpdate(initializer_name=\"weights1\", update_type=\"dense\", value=update_matrix)\n",
    "\n",
    "diffname = create_diff_file(basic_update)"
   ]
  },
  {
   "cell_type": "code",
   "execution_count": 44,
   "metadata": {},
   "outputs": [
    {
     "name": "stdout",
     "output_type": "stream",
     "text": [
      "Initializer in the original model: \n",
      " [[ 0.40592372  0.23077822  0.4108742 ]\n",
      " [ 0.19051802  0.15537947 -0.17507884]\n",
      " [-0.28606987 -0.34657827 -0.39699313]\n",
      " [-0.2849418  -0.22728954 -0.44549283]\n",
      " [ 0.1846577   0.30758405 -0.38323548]]\n",
      "\n",
      "---\n",
      "\n",
      "Initializer in the updated model: \n",
      " [[0.3147961  0.05896282 0.6037595 ]\n",
      " [0.68366444 0.820969   0.4121133 ]\n",
      " [0.62203926 0.37009144 0.84248894]\n",
      " [0.2071746  0.9407131  0.20005661]\n",
      " [0.99287033 0.3731795  0.04293466]]\n"
     ]
    }
   ],
   "source": [
    "del sys.modules[\"difftools\"]\n",
    "from difftools import *\n",
    "\n",
    "updated_onnx_model = apply_diff_file(onnx_model, diffname)\n",
    "\n",
    "print('Initializer in the original model: \\n', nh.to_array(onnx_model.get_weight_by_name(\"weights1\")))\n",
    "print('\\n---\\n')\n",
    "print('Initializer in the updated model: \\n', nh.to_array(updated_onnx_model.get_weight_by_name(\"weights1\")))"
   ]
  },
  {
   "cell_type": "markdown",
   "metadata": {},
   "source": [
    "## Updating multiple initializers in a single go"
   ]
  },
  {
   "cell_type": "code",
   "execution_count": 50,
   "metadata": {},
   "outputs": [
    {
     "name": "stdout",
     "output_type": "stream",
     "text": [
      "Update Matrix 1:\n",
      " tensor([[0.9940, 0.1585, 0.5711],\n",
      "        [0.6978, 0.9266, 0.2635],\n",
      "        [0.4459, 0.5328, 0.5981],\n",
      "        [0.3354, 0.1249, 0.9643],\n",
      "        [0.0641, 0.0722, 0.5938]]) \n",
      "---\n",
      "\n",
      "Update Matrix 2:\n",
      " tensor([[0.7789],\n",
      "        [0.4640],\n",
      "        [0.3771]]) \n",
      "---\n",
      "\n",
      "2\n",
      "Initializers in the original model: \n",
      " [[ 0.40592372  0.23077822  0.4108742 ]\n",
      " [ 0.19051802  0.15537947 -0.17507884]\n",
      " [-0.28606987 -0.34657827 -0.39699313]\n",
      " [-0.2849418  -0.22728954 -0.44549283]\n",
      " [ 0.1846577   0.30758405 -0.38323548]] \n",
      "\n",
      " [[ 0.22380811]\n",
      " [-0.5261495 ]\n",
      " [-0.03400868]]\n",
      "\n",
      "---\n",
      "\n"
     ]
    }
   ],
   "source": [
    "del sys.modules[\"difftools\"]\n",
    "from difftools import *\n",
    "\n",
    "update_matrix_1 = torch.rand((5,3))\n",
    "update_matrix_2 = torch.rand((3,1))\n",
    "\n",
    "print('Update Matrix 1:\\n', update_matrix_1, '\\n---\\n')\n",
    "print('Update Matrix 2:\\n', update_matrix_2, '\\n---\\n')\n",
    "\n",
    "updates = [\n",
    "    ModelUpdate(\"weights1\", \"dense\", update_matrix_1),\n",
    "    ModelUpdate(\"weights2\", \"dense\", update_matrix_2)\n",
    "]\n",
    "\n",
    "diffname = create_diff_file(updates)\n",
    "\n",
    "multi_updated_onnx_model = apply_diff_file(onnx_model, diffname)\n",
    "\n",
    "print('Initializers in the original model: \\n', nh.to_array(onnx_model.get_weight_by_name(\"weights1\")), '\\n\\n', nh.to_array(onnx_model.get_weight_by_name(\"weights2\")))\n",
    "print('\\n---\\n')"
   ]
  },
  {
   "cell_type": "code",
   "execution_count": 51,
   "metadata": {},
   "outputs": [
    {
     "name": "stdout",
     "output_type": "stream",
     "text": [
      "Initializers in the updated model: \n",
      " [[0.99400395 0.15845329 0.57113624]\n",
      " [0.69781685 0.9266338  0.26351333]\n",
      " [0.44593602 0.5327525  0.5981272 ]\n",
      " [0.3353712  0.12488973 0.9642594 ]\n",
      " [0.0640893  0.07219303 0.5937671 ]] \n",
      "\n",
      " [[0.7789321 ]\n",
      " [0.4639855 ]\n",
      " [0.37706804]]\n"
     ]
    }
   ],
   "source": [
    "print('Initializers in the updated model: \\n', nh.to_array(multi_updated_onnx_model.get_weight_by_name(\"weights1\")), '\\n\\n', nh.to_array(multi_updated_onnx_model.get_weight_by_name(\"weights2\")))"
   ]
  }
 ],
 "metadata": {
  "interpreter": {
   "hash": "9c01baedbc736a94a9664335a750a75cd4fe1534c0fde3980701cc4f06df05d1"
  },
  "kernelspec": {
   "display_name": "Python 3.9.5 ('base')",
   "language": "python",
   "name": "python3"
  },
  "language_info": {
   "codemirror_mode": {
    "name": "ipython",
    "version": 3
   },
   "file_extension": ".py",
   "mimetype": "text/x-python",
   "name": "python",
   "nbconvert_exporter": "python",
   "pygments_lexer": "ipython3",
   "version": "3.9.7"
  },
  "orig_nbformat": 4
 },
 "nbformat": 4,
 "nbformat_minor": 2
}
