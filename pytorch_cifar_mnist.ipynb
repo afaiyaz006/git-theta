{
 "cells": [
  {
   "cell_type": "markdown",
   "metadata": {},
   "source": [
    "# There and Back Again: A Collaborative Learning Demonstration on MNIST and rotated-MNIST\n",
    "\n",
    "## The Basic Ingredients\n",
    "\n",
    "- Loading the dataset\n",
    "- Visualizing the images\n",
    "- Defining the model\n",
    "- Running the training loop\n",
    "- Evaluating the model"
   ]
  },
  {
   "cell_type": "markdown",
   "metadata": {},
   "source": [
    "## Loading the dataset"
   ]
  },
  {
   "cell_type": "code",
   "execution_count": 43,
   "metadata": {},
   "outputs": [],
   "source": [
    "import torch\n",
    "import torchvision\n",
    "import torchvision.transforms as tf\n",
    "\n",
    "transform = tf.Compose([\n",
    "    tf.ToTensor(),\n",
    "    tf.Normalize(0.5, 0.5),\n",
    "])\n",
    "\n",
    "rotated_transform = tf.Compose([\n",
    "    tf.ToTensor(),\n",
    "    tf.Normalize(0.5, 0.5),\n",
    "    tf.RandomRotation(45)\n",
    "])\n",
    "\n",
    "batch_size = 16\n",
    "\n",
    "trainset = torchvision.datasets.MNIST(root='./data', train=True, download=True, transform=transform)\n",
    "trainloader = torch.utils.data.DataLoader(trainset, batch_size = batch_size, shuffle=True)\n",
    "train_iter = iter(trainloader)\n",
    "\n",
    "testset = torchvision.datasets.MNIST(root='./data', train=False, download=True, transform=transform)\n",
    "testloader = torch.utils.data.DataLoader(testset, batch_size = batch_size, shuffle=True)\n",
    "test_iter = iter(testloader)\n",
    "\n",
    "\n",
    "rotated_trainset = torchvision.datasets.MNIST(root='./data', train=True, download=True, transform=rotated_transform)\n",
    "rotated_trainloader = torch.utils.data.DataLoader(rotated_trainset, batch_size = batch_size, shuffle=True)\n",
    "rotated_train_iter = iter(rotated_trainloader)\n",
    "\n",
    "rotated_testset = torchvision.datasets.MNIST(root='./data', train=False, download=True, transform=rotated_transform)\n",
    "rotated_testloader = torch.utils.data.DataLoader(rotated_testset, batch_size = batch_size, shuffle=True)\n",
    "rotated_test_iter = iter(rotated_testloader)"
   ]
  },
  {
   "cell_type": "markdown",
   "metadata": {},
   "source": [
    "## Visualizing the dataset"
   ]
  },
  {
   "cell_type": "code",
   "execution_count": 44,
   "metadata": {},
   "outputs": [
    {
     "data": {
      "application/vnd.plotly.v1+json": {
       "config": {
        "plotlyServerURL": "https://plot.ly"
       },
       "data": [
        {
         "hovertemplate": "x: %{x}<br>y: %{y}<extra></extra>",
         "name": "0",
         "source": "data:image/png;base64,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",
         "type": "image",
         "xaxis": "x",
         "yaxis": "y"
        }
       ],
       "layout": {
        "height": 400,
        "margin": {
         "b": 0,
         "l": 0,
         "r": 0,
         "t": 0
        },
        "template": {
         "data": {
          "bar": [
           {
            "error_x": {
             "color": "#2a3f5f"
            },
            "error_y": {
             "color": "#2a3f5f"
            },
            "marker": {
             "line": {
              "color": "#E5ECF6",
              "width": 0.5
             },
             "pattern": {
              "fillmode": "overlay",
              "size": 10,
              "solidity": 0.2
             }
            },
            "type": "bar"
           }
          ],
          "barpolar": [
           {
            "marker": {
             "line": {
              "color": "#E5ECF6",
              "width": 0.5
             },
             "pattern": {
              "fillmode": "overlay",
              "size": 10,
              "solidity": 0.2
             }
            },
            "type": "barpolar"
           }
          ],
          "carpet": [
           {
            "aaxis": {
             "endlinecolor": "#2a3f5f",
             "gridcolor": "white",
             "linecolor": "white",
             "minorgridcolor": "white",
             "startlinecolor": "#2a3f5f"
            },
            "baxis": {
             "endlinecolor": "#2a3f5f",
             "gridcolor": "white",
             "linecolor": "white",
             "minorgridcolor": "white",
             "startlinecolor": "#2a3f5f"
            },
            "type": "carpet"
           }
          ],
          "choropleth": [
           {
            "colorbar": {
             "outlinewidth": 0,
             "ticks": ""
            },
            "type": "choropleth"
           }
          ],
          "contour": [
           {
            "colorbar": {
             "outlinewidth": 0,
             "ticks": ""
            },
            "colorscale": [
             [
              0,
              "#0d0887"
             ],
             [
              0.1111111111111111,
              "#46039f"
             ],
             [
              0.2222222222222222,
              "#7201a8"
             ],
             [
              0.3333333333333333,
              "#9c179e"
             ],
             [
              0.4444444444444444,
              "#bd3786"
             ],
             [
              0.5555555555555556,
              "#d8576b"
             ],
             [
              0.6666666666666666,
              "#ed7953"
             ],
             [
              0.7777777777777778,
              "#fb9f3a"
             ],
             [
              0.8888888888888888,
              "#fdca26"
             ],
             [
              1,
              "#f0f921"
             ]
            ],
            "type": "contour"
           }
          ],
          "contourcarpet": [
           {
            "colorbar": {
             "outlinewidth": 0,
             "ticks": ""
            },
            "type": "contourcarpet"
           }
          ],
          "heatmap": [
           {
            "colorbar": {
             "outlinewidth": 0,
             "ticks": ""
            },
            "colorscale": [
             [
              0,
              "#0d0887"
             ],
             [
              0.1111111111111111,
              "#46039f"
             ],
             [
              0.2222222222222222,
              "#7201a8"
             ],
             [
              0.3333333333333333,
              "#9c179e"
             ],
             [
              0.4444444444444444,
              "#bd3786"
             ],
             [
              0.5555555555555556,
              "#d8576b"
             ],
             [
              0.6666666666666666,
              "#ed7953"
             ],
             [
              0.7777777777777778,
              "#fb9f3a"
             ],
             [
              0.8888888888888888,
              "#fdca26"
             ],
             [
              1,
              "#f0f921"
             ]
            ],
            "type": "heatmap"
           }
          ],
          "heatmapgl": [
           {
            "colorbar": {
             "outlinewidth": 0,
             "ticks": ""
            },
            "colorscale": [
             [
              0,
              "#0d0887"
             ],
             [
              0.1111111111111111,
              "#46039f"
             ],
             [
              0.2222222222222222,
              "#7201a8"
             ],
             [
              0.3333333333333333,
              "#9c179e"
             ],
             [
              0.4444444444444444,
              "#bd3786"
             ],
             [
              0.5555555555555556,
              "#d8576b"
             ],
             [
              0.6666666666666666,
              "#ed7953"
             ],
             [
              0.7777777777777778,
              "#fb9f3a"
             ],
             [
              0.8888888888888888,
              "#fdca26"
             ],
             [
              1,
              "#f0f921"
             ]
            ],
            "type": "heatmapgl"
           }
          ],
          "histogram": [
           {
            "marker": {
             "pattern": {
              "fillmode": "overlay",
              "size": 10,
              "solidity": 0.2
             }
            },
            "type": "histogram"
           }
          ],
          "histogram2d": [
           {
            "colorbar": {
             "outlinewidth": 0,
             "ticks": ""
            },
            "colorscale": [
             [
              0,
              "#0d0887"
             ],
             [
              0.1111111111111111,
              "#46039f"
             ],
             [
              0.2222222222222222,
              "#7201a8"
             ],
             [
              0.3333333333333333,
              "#9c179e"
             ],
             [
              0.4444444444444444,
              "#bd3786"
             ],
             [
              0.5555555555555556,
              "#d8576b"
             ],
             [
              0.6666666666666666,
              "#ed7953"
             ],
             [
              0.7777777777777778,
              "#fb9f3a"
             ],
             [
              0.8888888888888888,
              "#fdca26"
             ],
             [
              1,
              "#f0f921"
             ]
            ],
            "type": "histogram2d"
           }
          ],
          "histogram2dcontour": [
           {
            "colorbar": {
             "outlinewidth": 0,
             "ticks": ""
            },
            "colorscale": [
             [
              0,
              "#0d0887"
             ],
             [
              0.1111111111111111,
              "#46039f"
             ],
             [
              0.2222222222222222,
              "#7201a8"
             ],
             [
              0.3333333333333333,
              "#9c179e"
             ],
             [
              0.4444444444444444,
              "#bd3786"
             ],
             [
              0.5555555555555556,
              "#d8576b"
             ],
             [
              0.6666666666666666,
              "#ed7953"
             ],
             [
              0.7777777777777778,
              "#fb9f3a"
             ],
             [
              0.8888888888888888,
              "#fdca26"
             ],
             [
              1,
              "#f0f921"
             ]
            ],
            "type": "histogram2dcontour"
           }
          ],
          "mesh3d": [
           {
            "colorbar": {
             "outlinewidth": 0,
             "ticks": ""
            },
            "type": "mesh3d"
           }
          ],
          "parcoords": [
           {
            "line": {
             "colorbar": {
              "outlinewidth": 0,
              "ticks": ""
             }
            },
            "type": "parcoords"
           }
          ],
          "pie": [
           {
            "automargin": true,
            "type": "pie"
           }
          ],
          "scatter": [
           {
            "marker": {
             "colorbar": {
              "outlinewidth": 0,
              "ticks": ""
             }
            },
            "type": "scatter"
           }
          ],
          "scatter3d": [
           {
            "line": {
             "colorbar": {
              "outlinewidth": 0,
              "ticks": ""
             }
            },
            "marker": {
             "colorbar": {
              "outlinewidth": 0,
              "ticks": ""
             }
            },
            "type": "scatter3d"
           }
          ],
          "scattercarpet": [
           {
            "marker": {
             "colorbar": {
              "outlinewidth": 0,
              "ticks": ""
             }
            },
            "type": "scattercarpet"
           }
          ],
          "scattergeo": [
           {
            "marker": {
             "colorbar": {
              "outlinewidth": 0,
              "ticks": ""
             }
            },
            "type": "scattergeo"
           }
          ],
          "scattergl": [
           {
            "marker": {
             "colorbar": {
              "outlinewidth": 0,
              "ticks": ""
             }
            },
            "type": "scattergl"
           }
          ],
          "scattermapbox": [
           {
            "marker": {
             "colorbar": {
              "outlinewidth": 0,
              "ticks": ""
             }
            },
            "type": "scattermapbox"
           }
          ],
          "scatterpolar": [
           {
            "marker": {
             "colorbar": {
              "outlinewidth": 0,
              "ticks": ""
             }
            },
            "type": "scatterpolar"
           }
          ],
          "scatterpolargl": [
           {
            "marker": {
             "colorbar": {
              "outlinewidth": 0,
              "ticks": ""
             }
            },
            "type": "scatterpolargl"
           }
          ],
          "scatterternary": [
           {
            "marker": {
             "colorbar": {
              "outlinewidth": 0,
              "ticks": ""
             }
            },
            "type": "scatterternary"
           }
          ],
          "surface": [
           {
            "colorbar": {
             "outlinewidth": 0,
             "ticks": ""
            },
            "colorscale": [
             [
              0,
              "#0d0887"
             ],
             [
              0.1111111111111111,
              "#46039f"
             ],
             [
              0.2222222222222222,
              "#7201a8"
             ],
             [
              0.3333333333333333,
              "#9c179e"
             ],
             [
              0.4444444444444444,
              "#bd3786"
             ],
             [
              0.5555555555555556,
              "#d8576b"
             ],
             [
              0.6666666666666666,
              "#ed7953"
             ],
             [
              0.7777777777777778,
              "#fb9f3a"
             ],
             [
              0.8888888888888888,
              "#fdca26"
             ],
             [
              1,
              "#f0f921"
             ]
            ],
            "type": "surface"
           }
          ],
          "table": [
           {
            "cells": {
             "fill": {
              "color": "#EBF0F8"
             },
             "line": {
              "color": "white"
             }
            },
            "header": {
             "fill": {
              "color": "#C8D4E3"
             },
             "line": {
              "color": "white"
             }
            },
            "type": "table"
           }
          ]
         },
         "layout": {
          "annotationdefaults": {
           "arrowcolor": "#2a3f5f",
           "arrowhead": 0,
           "arrowwidth": 1
          },
          "autotypenumbers": "strict",
          "coloraxis": {
           "colorbar": {
            "outlinewidth": 0,
            "ticks": ""
           }
          },
          "colorscale": {
           "diverging": [
            [
             0,
             "#8e0152"
            ],
            [
             0.1,
             "#c51b7d"
            ],
            [
             0.2,
             "#de77ae"
            ],
            [
             0.3,
             "#f1b6da"
            ],
            [
             0.4,
             "#fde0ef"
            ],
            [
             0.5,
             "#f7f7f7"
            ],
            [
             0.6,
             "#e6f5d0"
            ],
            [
             0.7,
             "#b8e186"
            ],
            [
             0.8,
             "#7fbc41"
            ],
            [
             0.9,
             "#4d9221"
            ],
            [
             1,
             "#276419"
            ]
           ],
           "sequential": [
            [
             0,
             "#0d0887"
            ],
            [
             0.1111111111111111,
             "#46039f"
            ],
            [
             0.2222222222222222,
             "#7201a8"
            ],
            [
             0.3333333333333333,
             "#9c179e"
            ],
            [
             0.4444444444444444,
             "#bd3786"
            ],
            [
             0.5555555555555556,
             "#d8576b"
            ],
            [
             0.6666666666666666,
             "#ed7953"
            ],
            [
             0.7777777777777778,
             "#fb9f3a"
            ],
            [
             0.8888888888888888,
             "#fdca26"
            ],
            [
             1,
             "#f0f921"
            ]
           ],
           "sequentialminus": [
            [
             0,
             "#0d0887"
            ],
            [
             0.1111111111111111,
             "#46039f"
            ],
            [
             0.2222222222222222,
             "#7201a8"
            ],
            [
             0.3333333333333333,
             "#9c179e"
            ],
            [
             0.4444444444444444,
             "#bd3786"
            ],
            [
             0.5555555555555556,
             "#d8576b"
            ],
            [
             0.6666666666666666,
             "#ed7953"
            ],
            [
             0.7777777777777778,
             "#fb9f3a"
            ],
            [
             0.8888888888888888,
             "#fdca26"
            ],
            [
             1,
             "#f0f921"
            ]
           ]
          },
          "colorway": [
           "#636efa",
           "#EF553B",
           "#00cc96",
           "#ab63fa",
           "#FFA15A",
           "#19d3f3",
           "#FF6692",
           "#B6E880",
           "#FF97FF",
           "#FECB52"
          ],
          "font": {
           "color": "#2a3f5f"
          },
          "geo": {
           "bgcolor": "white",
           "lakecolor": "white",
           "landcolor": "#E5ECF6",
           "showlakes": true,
           "showland": true,
           "subunitcolor": "white"
          },
          "hoverlabel": {
           "align": "left"
          },
          "hovermode": "closest",
          "mapbox": {
           "style": "light"
          },
          "paper_bgcolor": "white",
          "plot_bgcolor": "#E5ECF6",
          "polar": {
           "angularaxis": {
            "gridcolor": "white",
            "linecolor": "white",
            "ticks": ""
           },
           "bgcolor": "#E5ECF6",
           "radialaxis": {
            "gridcolor": "white",
            "linecolor": "white",
            "ticks": ""
           }
          },
          "scene": {
           "xaxis": {
            "backgroundcolor": "#E5ECF6",
            "gridcolor": "white",
            "gridwidth": 2,
            "linecolor": "white",
            "showbackground": true,
            "ticks": "",
            "zerolinecolor": "white"
           },
           "yaxis": {
            "backgroundcolor": "#E5ECF6",
            "gridcolor": "white",
            "gridwidth": 2,
            "linecolor": "white",
            "showbackground": true,
            "ticks": "",
            "zerolinecolor": "white"
           },
           "zaxis": {
            "backgroundcolor": "#E5ECF6",
            "gridcolor": "white",
            "gridwidth": 2,
            "linecolor": "white",
            "showbackground": true,
            "ticks": "",
            "zerolinecolor": "white"
           }
          },
          "shapedefaults": {
           "line": {
            "color": "#2a3f5f"
           }
          },
          "ternary": {
           "aaxis": {
            "gridcolor": "white",
            "linecolor": "white",
            "ticks": ""
           },
           "baxis": {
            "gridcolor": "white",
            "linecolor": "white",
            "ticks": ""
           },
           "bgcolor": "#E5ECF6",
           "caxis": {
            "gridcolor": "white",
            "linecolor": "white",
            "ticks": ""
           }
          },
          "title": {
           "x": 0.05
          },
          "xaxis": {
           "automargin": true,
           "gridcolor": "white",
           "linecolor": "white",
           "ticks": "",
           "title": {
            "standoff": 15
           },
           "zerolinecolor": "white",
           "zerolinewidth": 2
          },
          "yaxis": {
           "automargin": true,
           "gridcolor": "white",
           "linecolor": "white",
           "ticks": "",
           "title": {
            "standoff": 15
           },
           "zerolinecolor": "white",
           "zerolinewidth": 2
          }
         }
        },
        "width": 400,
        "xaxis": {
         "anchor": "y",
         "domain": [
          0,
          1
         ],
         "showticklabels": false
        },
        "yaxis": {
         "anchor": "x",
         "domain": [
          0,
          1
         ],
         "showticklabels": false
        }
       }
      }
     },
     "metadata": {},
     "output_type": "display_data"
    },
    {
     "name": "stdout",
     "output_type": "stream",
     "text": [
      "[0, 1, 5, 5, 2, 3, 8, 0, 8, 8, 6, 1, 8, 8, 3, 5]\n"
     ]
    }
   ],
   "source": [
    "import plotly.express as px\n",
    "\n",
    "def imshow(im):\n",
    "    if torch.min(im) < 0:\n",
    "        im = im - torch.min(im)\n",
    "        im = im / torch.max(im)\n",
    "\n",
    "\n",
    "    ndims = len(im.shape)\n",
    "    im = torch.squeeze(im)\n",
    "    if len(im.shape) == ndims:\n",
    "        im = im.permute(1,2,0)\n",
    "    \n",
    "    fig = px.imshow(im)\n",
    "\n",
    "    fig.update_layout(margin={'t': 0, 'r': 0, 'b': 0, 'l': 0})\n",
    "\n",
    "    if im.shape[0] == im.shape[1]:\n",
    "        fig.update_layout(width=400, height=400)\n",
    "    fig.update_xaxes(showticklabels=False).update_yaxes(showticklabels=False)\n",
    "    fig.show()\n",
    "\n",
    "batch, labels = next(rotated_train_iter)\n",
    "N = 16\n",
    "imshow(torchvision.utils.make_grid(batch[:N, :, :, :], nrow = 4, normalize=True))\n",
    "print([l.item() for l in labels])"
   ]
  },
  {
   "cell_type": "markdown",
   "metadata": {},
   "source": [
    "## Defining the Model"
   ]
  },
  {
   "cell_type": "code",
   "execution_count": 45,
   "metadata": {},
   "outputs": [],
   "source": [
    "import torch.nn as nn\n",
    "import torch.nn.functional as F\n",
    "\n",
    "class Net(nn.Module): # Input size = 32\n",
    "    def __init__(self):\n",
    "        super().__init__()\n",
    "        self.conv1 = nn.Conv2d(1, 3, 5)\n",
    "        self.conv2 = nn.Conv2d(3, 6, 5)\n",
    "        self.max_pool = nn.MaxPool2d(2, 2)\n",
    "        self.fc1 = nn.Linear(6 * 4 * 4, 80)\n",
    "        self.fc2 = nn.Linear(80, 40)\n",
    "        self.fc3 = nn.Linear(40, 10)\n",
    "\n",
    "    def forward(self, x):\n",
    "        x = self.max_pool(F.relu(self.conv1(x)))\n",
    "        x = self.max_pool(F.relu(self.conv2(x)))\n",
    "\n",
    "        x = torch.flatten(x, 1)\n",
    "\n",
    "        x = F.relu(self.fc1(x))\n",
    "        x = F.relu(self.fc2(x))\n",
    "        x = self.fc3(x)\n",
    "\n",
    "        return x \n",
    "        \n",
    "\n",
    "net = Net()"
   ]
  },
  {
   "cell_type": "markdown",
   "metadata": {},
   "source": [
    "## Initial Model Training"
   ]
  },
  {
   "cell_type": "code",
   "execution_count": 46,
   "metadata": {},
   "outputs": [],
   "source": [
    "def train(net, optimizer, dataloader, num_epochs=2):\n",
    "    loss_fn = torch.nn.CrossEntropyLoss()\n",
    "\n",
    "    for e in range(num_epochs):\n",
    "        cumulative_loss = 0\n",
    "        loss_window = len(dataloader) // 10\n",
    "        for i, (batch, labels) in enumerate(dataloader, 1):\n",
    "            optimizer.zero_grad()\n",
    "\n",
    "            preds = net(batch)\n",
    "            loss = loss_fn(preds, labels)\n",
    "            loss.backward()\n",
    "            optimizer.step()\n",
    "\n",
    "            cumulative_loss += loss\n",
    "\n",
    "            if i % loss_window == 0:\n",
    "                print(f\"Loss at epoch {e+1}, batch {i}: {cumulative_loss / loss_window :.2f}\")\n",
    "                cumulative_loss = 0"
   ]
  },
  {
   "cell_type": "code",
   "execution_count": 47,
   "metadata": {},
   "outputs": [
    {
     "name": "stdout",
     "output_type": "stream",
     "text": [
      "Loss at epoch 1, batch 375: 0.99\n",
      "Loss at epoch 1, batch 750: 0.29\n",
      "Loss at epoch 1, batch 1125: 0.22\n",
      "Loss at epoch 1, batch 1500: 0.18\n",
      "Loss at epoch 1, batch 1875: 0.17\n",
      "Loss at epoch 1, batch 2250: 0.16\n",
      "Loss at epoch 1, batch 2625: 0.16\n",
      "Loss at epoch 1, batch 3000: 0.14\n",
      "Loss at epoch 1, batch 3375: 0.13\n",
      "Loss at epoch 1, batch 3750: 0.12\n",
      "Loss at epoch 2, batch 375: 0.12\n",
      "Loss at epoch 2, batch 750: 0.11\n",
      "Loss at epoch 2, batch 1125: 0.11\n",
      "Loss at epoch 2, batch 1500: 0.10\n",
      "Loss at epoch 2, batch 1875: 0.11\n",
      "Loss at epoch 2, batch 2250: 0.10\n",
      "Loss at epoch 2, batch 2625: 0.09\n",
      "Loss at epoch 2, batch 3000: 0.09\n",
      "Loss at epoch 2, batch 3375: 0.07\n",
      "Loss at epoch 2, batch 3750: 0.09\n"
     ]
    }
   ],
   "source": [
    "optimizer = torch.optim.Adam(net.parameters(), lr = 0.001)\n",
    "num_epochs = 2\n",
    "\n",
    "train(net, optimizer, trainloader, num_epochs)"
   ]
  },
  {
   "cell_type": "code",
   "execution_count": 48,
   "metadata": {},
   "outputs": [],
   "source": [
    "torch.onnx.export(net, batch, \"mnist_test_pretrained.onnx\", do_constant_folding=False)"
   ]
  },
  {
   "cell_type": "markdown",
   "metadata": {},
   "source": [
    "## Doing some inference"
   ]
  },
  {
   "cell_type": "code",
   "execution_count": 49,
   "metadata": {},
   "outputs": [
    {
     "data": {
      "application/vnd.plotly.v1+json": {
       "config": {
        "plotlyServerURL": "https://plot.ly"
       },
       "data": [
        {
         "hovertemplate": "x: %{x}<br>y: %{y}<extra></extra>",
         "name": "0",
         "source": "data:image/png;base64,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",
         "type": "image",
         "xaxis": "x",
         "yaxis": "y"
        }
       ],
       "layout": {
        "margin": {
         "b": 0,
         "l": 0,
         "r": 0,
         "t": 0
        },
        "template": {
         "data": {
          "bar": [
           {
            "error_x": {
             "color": "#2a3f5f"
            },
            "error_y": {
             "color": "#2a3f5f"
            },
            "marker": {
             "line": {
              "color": "#E5ECF6",
              "width": 0.5
             },
             "pattern": {
              "fillmode": "overlay",
              "size": 10,
              "solidity": 0.2
             }
            },
            "type": "bar"
           }
          ],
          "barpolar": [
           {
            "marker": {
             "line": {
              "color": "#E5ECF6",
              "width": 0.5
             },
             "pattern": {
              "fillmode": "overlay",
              "size": 10,
              "solidity": 0.2
             }
            },
            "type": "barpolar"
           }
          ],
          "carpet": [
           {
            "aaxis": {
             "endlinecolor": "#2a3f5f",
             "gridcolor": "white",
             "linecolor": "white",
             "minorgridcolor": "white",
             "startlinecolor": "#2a3f5f"
            },
            "baxis": {
             "endlinecolor": "#2a3f5f",
             "gridcolor": "white",
             "linecolor": "white",
             "minorgridcolor": "white",
             "startlinecolor": "#2a3f5f"
            },
            "type": "carpet"
           }
          ],
          "choropleth": [
           {
            "colorbar": {
             "outlinewidth": 0,
             "ticks": ""
            },
            "type": "choropleth"
           }
          ],
          "contour": [
           {
            "colorbar": {
             "outlinewidth": 0,
             "ticks": ""
            },
            "colorscale": [
             [
              0,
              "#0d0887"
             ],
             [
              0.1111111111111111,
              "#46039f"
             ],
             [
              0.2222222222222222,
              "#7201a8"
             ],
             [
              0.3333333333333333,
              "#9c179e"
             ],
             [
              0.4444444444444444,
              "#bd3786"
             ],
             [
              0.5555555555555556,
              "#d8576b"
             ],
             [
              0.6666666666666666,
              "#ed7953"
             ],
             [
              0.7777777777777778,
              "#fb9f3a"
             ],
             [
              0.8888888888888888,
              "#fdca26"
             ],
             [
              1,
              "#f0f921"
             ]
            ],
            "type": "contour"
           }
          ],
          "contourcarpet": [
           {
            "colorbar": {
             "outlinewidth": 0,
             "ticks": ""
            },
            "type": "contourcarpet"
           }
          ],
          "heatmap": [
           {
            "colorbar": {
             "outlinewidth": 0,
             "ticks": ""
            },
            "colorscale": [
             [
              0,
              "#0d0887"
             ],
             [
              0.1111111111111111,
              "#46039f"
             ],
             [
              0.2222222222222222,
              "#7201a8"
             ],
             [
              0.3333333333333333,
              "#9c179e"
             ],
             [
              0.4444444444444444,
              "#bd3786"
             ],
             [
              0.5555555555555556,
              "#d8576b"
             ],
             [
              0.6666666666666666,
              "#ed7953"
             ],
             [
              0.7777777777777778,
              "#fb9f3a"
             ],
             [
              0.8888888888888888,
              "#fdca26"
             ],
             [
              1,
              "#f0f921"
             ]
            ],
            "type": "heatmap"
           }
          ],
          "heatmapgl": [
           {
            "colorbar": {
             "outlinewidth": 0,
             "ticks": ""
            },
            "colorscale": [
             [
              0,
              "#0d0887"
             ],
             [
              0.1111111111111111,
              "#46039f"
             ],
             [
              0.2222222222222222,
              "#7201a8"
             ],
             [
              0.3333333333333333,
              "#9c179e"
             ],
             [
              0.4444444444444444,
              "#bd3786"
             ],
             [
              0.5555555555555556,
              "#d8576b"
             ],
             [
              0.6666666666666666,
              "#ed7953"
             ],
             [
              0.7777777777777778,
              "#fb9f3a"
             ],
             [
              0.8888888888888888,
              "#fdca26"
             ],
             [
              1,
              "#f0f921"
             ]
            ],
            "type": "heatmapgl"
           }
          ],
          "histogram": [
           {
            "marker": {
             "pattern": {
              "fillmode": "overlay",
              "size": 10,
              "solidity": 0.2
             }
            },
            "type": "histogram"
           }
          ],
          "histogram2d": [
           {
            "colorbar": {
             "outlinewidth": 0,
             "ticks": ""
            },
            "colorscale": [
             [
              0,
              "#0d0887"
             ],
             [
              0.1111111111111111,
              "#46039f"
             ],
             [
              0.2222222222222222,
              "#7201a8"
             ],
             [
              0.3333333333333333,
              "#9c179e"
             ],
             [
              0.4444444444444444,
              "#bd3786"
             ],
             [
              0.5555555555555556,
              "#d8576b"
             ],
             [
              0.6666666666666666,
              "#ed7953"
             ],
             [
              0.7777777777777778,
              "#fb9f3a"
             ],
             [
              0.8888888888888888,
              "#fdca26"
             ],
             [
              1,
              "#f0f921"
             ]
            ],
            "type": "histogram2d"
           }
          ],
          "histogram2dcontour": [
           {
            "colorbar": {
             "outlinewidth": 0,
             "ticks": ""
            },
            "colorscale": [
             [
              0,
              "#0d0887"
             ],
             [
              0.1111111111111111,
              "#46039f"
             ],
             [
              0.2222222222222222,
              "#7201a8"
             ],
             [
              0.3333333333333333,
              "#9c179e"
             ],
             [
              0.4444444444444444,
              "#bd3786"
             ],
             [
              0.5555555555555556,
              "#d8576b"
             ],
             [
              0.6666666666666666,
              "#ed7953"
             ],
             [
              0.7777777777777778,
              "#fb9f3a"
             ],
             [
              0.8888888888888888,
              "#fdca26"
             ],
             [
              1,
              "#f0f921"
             ]
            ],
            "type": "histogram2dcontour"
           }
          ],
          "mesh3d": [
           {
            "colorbar": {
             "outlinewidth": 0,
             "ticks": ""
            },
            "type": "mesh3d"
           }
          ],
          "parcoords": [
           {
            "line": {
             "colorbar": {
              "outlinewidth": 0,
              "ticks": ""
             }
            },
            "type": "parcoords"
           }
          ],
          "pie": [
           {
            "automargin": true,
            "type": "pie"
           }
          ],
          "scatter": [
           {
            "marker": {
             "colorbar": {
              "outlinewidth": 0,
              "ticks": ""
             }
            },
            "type": "scatter"
           }
          ],
          "scatter3d": [
           {
            "line": {
             "colorbar": {
              "outlinewidth": 0,
              "ticks": ""
             }
            },
            "marker": {
             "colorbar": {
              "outlinewidth": 0,
              "ticks": ""
             }
            },
            "type": "scatter3d"
           }
          ],
          "scattercarpet": [
           {
            "marker": {
             "colorbar": {
              "outlinewidth": 0,
              "ticks": ""
             }
            },
            "type": "scattercarpet"
           }
          ],
          "scattergeo": [
           {
            "marker": {
             "colorbar": {
              "outlinewidth": 0,
              "ticks": ""
             }
            },
            "type": "scattergeo"
           }
          ],
          "scattergl": [
           {
            "marker": {
             "colorbar": {
              "outlinewidth": 0,
              "ticks": ""
             }
            },
            "type": "scattergl"
           }
          ],
          "scattermapbox": [
           {
            "marker": {
             "colorbar": {
              "outlinewidth": 0,
              "ticks": ""
             }
            },
            "type": "scattermapbox"
           }
          ],
          "scatterpolar": [
           {
            "marker": {
             "colorbar": {
              "outlinewidth": 0,
              "ticks": ""
             }
            },
            "type": "scatterpolar"
           }
          ],
          "scatterpolargl": [
           {
            "marker": {
             "colorbar": {
              "outlinewidth": 0,
              "ticks": ""
             }
            },
            "type": "scatterpolargl"
           }
          ],
          "scatterternary": [
           {
            "marker": {
             "colorbar": {
              "outlinewidth": 0,
              "ticks": ""
             }
            },
            "type": "scatterternary"
           }
          ],
          "surface": [
           {
            "colorbar": {
             "outlinewidth": 0,
             "ticks": ""
            },
            "colorscale": [
             [
              0,
              "#0d0887"
             ],
             [
              0.1111111111111111,
              "#46039f"
             ],
             [
              0.2222222222222222,
              "#7201a8"
             ],
             [
              0.3333333333333333,
              "#9c179e"
             ],
             [
              0.4444444444444444,
              "#bd3786"
             ],
             [
              0.5555555555555556,
              "#d8576b"
             ],
             [
              0.6666666666666666,
              "#ed7953"
             ],
             [
              0.7777777777777778,
              "#fb9f3a"
             ],
             [
              0.8888888888888888,
              "#fdca26"
             ],
             [
              1,
              "#f0f921"
             ]
            ],
            "type": "surface"
           }
          ],
          "table": [
           {
            "cells": {
             "fill": {
              "color": "#EBF0F8"
             },
             "line": {
              "color": "white"
             }
            },
            "header": {
             "fill": {
              "color": "#C8D4E3"
             },
             "line": {
              "color": "white"
             }
            },
            "type": "table"
           }
          ]
         },
         "layout": {
          "annotationdefaults": {
           "arrowcolor": "#2a3f5f",
           "arrowhead": 0,
           "arrowwidth": 1
          },
          "autotypenumbers": "strict",
          "coloraxis": {
           "colorbar": {
            "outlinewidth": 0,
            "ticks": ""
           }
          },
          "colorscale": {
           "diverging": [
            [
             0,
             "#8e0152"
            ],
            [
             0.1,
             "#c51b7d"
            ],
            [
             0.2,
             "#de77ae"
            ],
            [
             0.3,
             "#f1b6da"
            ],
            [
             0.4,
             "#fde0ef"
            ],
            [
             0.5,
             "#f7f7f7"
            ],
            [
             0.6,
             "#e6f5d0"
            ],
            [
             0.7,
             "#b8e186"
            ],
            [
             0.8,
             "#7fbc41"
            ],
            [
             0.9,
             "#4d9221"
            ],
            [
             1,
             "#276419"
            ]
           ],
           "sequential": [
            [
             0,
             "#0d0887"
            ],
            [
             0.1111111111111111,
             "#46039f"
            ],
            [
             0.2222222222222222,
             "#7201a8"
            ],
            [
             0.3333333333333333,
             "#9c179e"
            ],
            [
             0.4444444444444444,
             "#bd3786"
            ],
            [
             0.5555555555555556,
             "#d8576b"
            ],
            [
             0.6666666666666666,
             "#ed7953"
            ],
            [
             0.7777777777777778,
             "#fb9f3a"
            ],
            [
             0.8888888888888888,
             "#fdca26"
            ],
            [
             1,
             "#f0f921"
            ]
           ],
           "sequentialminus": [
            [
             0,
             "#0d0887"
            ],
            [
             0.1111111111111111,
             "#46039f"
            ],
            [
             0.2222222222222222,
             "#7201a8"
            ],
            [
             0.3333333333333333,
             "#9c179e"
            ],
            [
             0.4444444444444444,
             "#bd3786"
            ],
            [
             0.5555555555555556,
             "#d8576b"
            ],
            [
             0.6666666666666666,
             "#ed7953"
            ],
            [
             0.7777777777777778,
             "#fb9f3a"
            ],
            [
             0.8888888888888888,
             "#fdca26"
            ],
            [
             1,
             "#f0f921"
            ]
           ]
          },
          "colorway": [
           "#636efa",
           "#EF553B",
           "#00cc96",
           "#ab63fa",
           "#FFA15A",
           "#19d3f3",
           "#FF6692",
           "#B6E880",
           "#FF97FF",
           "#FECB52"
          ],
          "font": {
           "color": "#2a3f5f"
          },
          "geo": {
           "bgcolor": "white",
           "lakecolor": "white",
           "landcolor": "#E5ECF6",
           "showlakes": true,
           "showland": true,
           "subunitcolor": "white"
          },
          "hoverlabel": {
           "align": "left"
          },
          "hovermode": "closest",
          "mapbox": {
           "style": "light"
          },
          "paper_bgcolor": "white",
          "plot_bgcolor": "#E5ECF6",
          "polar": {
           "angularaxis": {
            "gridcolor": "white",
            "linecolor": "white",
            "ticks": ""
           },
           "bgcolor": "#E5ECF6",
           "radialaxis": {
            "gridcolor": "white",
            "linecolor": "white",
            "ticks": ""
           }
          },
          "scene": {
           "xaxis": {
            "backgroundcolor": "#E5ECF6",
            "gridcolor": "white",
            "gridwidth": 2,
            "linecolor": "white",
            "showbackground": true,
            "ticks": "",
            "zerolinecolor": "white"
           },
           "yaxis": {
            "backgroundcolor": "#E5ECF6",
            "gridcolor": "white",
            "gridwidth": 2,
            "linecolor": "white",
            "showbackground": true,
            "ticks": "",
            "zerolinecolor": "white"
           },
           "zaxis": {
            "backgroundcolor": "#E5ECF6",
            "gridcolor": "white",
            "gridwidth": 2,
            "linecolor": "white",
            "showbackground": true,
            "ticks": "",
            "zerolinecolor": "white"
           }
          },
          "shapedefaults": {
           "line": {
            "color": "#2a3f5f"
           }
          },
          "ternary": {
           "aaxis": {
            "gridcolor": "white",
            "linecolor": "white",
            "ticks": ""
           },
           "baxis": {
            "gridcolor": "white",
            "linecolor": "white",
            "ticks": ""
           },
           "bgcolor": "#E5ECF6",
           "caxis": {
            "gridcolor": "white",
            "linecolor": "white",
            "ticks": ""
           }
          },
          "title": {
           "x": 0.05
          },
          "xaxis": {
           "automargin": true,
           "gridcolor": "white",
           "linecolor": "white",
           "ticks": "",
           "title": {
            "standoff": 15
           },
           "zerolinecolor": "white",
           "zerolinewidth": 2
          },
          "yaxis": {
           "automargin": true,
           "gridcolor": "white",
           "linecolor": "white",
           "ticks": "",
           "title": {
            "standoff": 15
           },
           "zerolinecolor": "white",
           "zerolinewidth": 2
          }
         }
        },
        "xaxis": {
         "anchor": "y",
         "domain": [
          0,
          1
         ],
         "showticklabels": false
        },
        "yaxis": {
         "anchor": "x",
         "domain": [
          0,
          1
         ],
         "showticklabels": false
        }
       }
      }
     },
     "metadata": {},
     "output_type": "display_data"
    },
    {
     "name": "stdout",
     "output_type": "stream",
     "text": [
      "[5, 8, 0, 7, 4, 2, 5, 0, 7, 2, 2, 6, 3, 9, 4, 7]\n",
      "[5, 8, 0, 7, 4, 2, 5, 0, 7, 2, 2, 6, 3, 9, 4, 7]\n"
     ]
    }
   ],
   "source": [
    "import numpy as np\n",
    "\n",
    "images, labels = next(test_iter)\n",
    "\n",
    "imshow(torchvision.utils.make_grid(images))\n",
    "\n",
    "print(list(torch.argmax(net(images), axis=1).numpy()))\n",
    "print([l.item() for l in labels])"
   ]
  },
  {
   "cell_type": "markdown",
   "metadata": {},
   "source": [
    "## Evaluating the Model"
   ]
  },
  {
   "cell_type": "code",
   "execution_count": 50,
   "metadata": {},
   "outputs": [],
   "source": [
    "def evaluate_model(net, dataloader, class_specific_performance=False):\n",
    "    if not class_specific_performance:\n",
    "        correct, total = (0, 0)\n",
    "    else:        \n",
    "        correct = {digit: 0 for digit in range(10)}\n",
    "        total = {digit: 0 for digit in range(10)}\n",
    "\n",
    "    with torch.no_grad():\n",
    "        for (batch, labels) in dataloader:\n",
    "            outputs = net(batch)\n",
    "            preds = torch.argmax(outputs, 1)\n",
    "\n",
    "            if not class_specific_performance:\n",
    "                total += labels.shape[0]\n",
    "                correct += torch.sum(preds == labels).item()\n",
    "            else:\n",
    "                for label, pred in zip(labels, preds):                \n",
    "                    if pred == label:\n",
    "                        correct[label.item()] += 1\n",
    "                    total[label.item()] += 1\n",
    "    return correct, total"
   ]
  },
  {
   "cell_type": "code",
   "execution_count": 51,
   "metadata": {},
   "outputs": [
    {
     "name": "stdout",
     "output_type": "stream",
     "text": [
      "The model classified 9759 digits correctly, out of 10000 total, for an accuracy of 97.59%\n"
     ]
    }
   ],
   "source": [
    "correct, total = evaluate_model(net, testloader)\n",
    "\n",
    "print(f\"The model classified {correct} digits correctly, out of {total} total, for an accuracy of {correct * 100 / total :.2f}%\")"
   ]
  },
  {
   "cell_type": "markdown",
   "metadata": {},
   "source": [
    "## But how does it perform in the rotated context?"
   ]
  },
  {
   "cell_type": "code",
   "execution_count": 52,
   "metadata": {},
   "outputs": [
    {
     "name": "stdout",
     "output_type": "stream",
     "text": [
      "The model classified 8036 rotated digits correctly, out of 10000 total, for an accuracy of 80.36%\n"
     ]
    }
   ],
   "source": [
    "correct, total = evaluate_model(net, rotated_testloader, class_specific_performance=True)\n",
    "c = sum(correct.values())\n",
    "t = sum(total.values())\n",
    "print(f\"The model classified {c} rotated digits correctly, out of {t} total, for an accuracy of {c * 100 / t :.2f}%\")"
   ]
  },
  {
   "cell_type": "markdown",
   "metadata": {},
   "source": [
    "Open Question: Why does this change on each run?"
   ]
  },
  {
   "cell_type": "code",
   "execution_count": 53,
   "metadata": {},
   "outputs": [
    {
     "data": {
      "application/vnd.plotly.v1+json": {
       "config": {
        "plotlyServerURL": "https://plot.ly"
       },
       "data": [
        {
         "alignmentgroup": "True",
         "hovertemplate": "digit=%{x}<br>Classification Success Rate=%{y}<extra></extra>",
         "legendgroup": "",
         "marker": {
          "color": "#636efa",
          "pattern": {
           "shape": ""
          }
         },
         "name": "",
         "offsetgroup": "",
         "orientation": "v",
         "showlegend": false,
         "textposition": "auto",
         "type": "bar",
         "x": [
          0,
          1,
          2,
          3,
          4,
          5,
          6,
          7,
          8,
          9
         ],
         "xaxis": "x",
         "y": [
          0.949,
          0.968,
          0.791,
          0.807,
          0.651,
          0.791,
          0.794,
          0.64,
          0.761,
          0.884
         ],
         "yaxis": "y"
        }
       ],
       "layout": {
        "barmode": "relative",
        "legend": {
         "tracegroupgap": 0
        },
        "margin": {
         "t": 60
        },
        "template": {
         "data": {
          "bar": [
           {
            "error_x": {
             "color": "#2a3f5f"
            },
            "error_y": {
             "color": "#2a3f5f"
            },
            "marker": {
             "line": {
              "color": "#E5ECF6",
              "width": 0.5
             },
             "pattern": {
              "fillmode": "overlay",
              "size": 10,
              "solidity": 0.2
             }
            },
            "type": "bar"
           }
          ],
          "barpolar": [
           {
            "marker": {
             "line": {
              "color": "#E5ECF6",
              "width": 0.5
             },
             "pattern": {
              "fillmode": "overlay",
              "size": 10,
              "solidity": 0.2
             }
            },
            "type": "barpolar"
           }
          ],
          "carpet": [
           {
            "aaxis": {
             "endlinecolor": "#2a3f5f",
             "gridcolor": "white",
             "linecolor": "white",
             "minorgridcolor": "white",
             "startlinecolor": "#2a3f5f"
            },
            "baxis": {
             "endlinecolor": "#2a3f5f",
             "gridcolor": "white",
             "linecolor": "white",
             "minorgridcolor": "white",
             "startlinecolor": "#2a3f5f"
            },
            "type": "carpet"
           }
          ],
          "choropleth": [
           {
            "colorbar": {
             "outlinewidth": 0,
             "ticks": ""
            },
            "type": "choropleth"
           }
          ],
          "contour": [
           {
            "colorbar": {
             "outlinewidth": 0,
             "ticks": ""
            },
            "colorscale": [
             [
              0,
              "#0d0887"
             ],
             [
              0.1111111111111111,
              "#46039f"
             ],
             [
              0.2222222222222222,
              "#7201a8"
             ],
             [
              0.3333333333333333,
              "#9c179e"
             ],
             [
              0.4444444444444444,
              "#bd3786"
             ],
             [
              0.5555555555555556,
              "#d8576b"
             ],
             [
              0.6666666666666666,
              "#ed7953"
             ],
             [
              0.7777777777777778,
              "#fb9f3a"
             ],
             [
              0.8888888888888888,
              "#fdca26"
             ],
             [
              1,
              "#f0f921"
             ]
            ],
            "type": "contour"
           }
          ],
          "contourcarpet": [
           {
            "colorbar": {
             "outlinewidth": 0,
             "ticks": ""
            },
            "type": "contourcarpet"
           }
          ],
          "heatmap": [
           {
            "colorbar": {
             "outlinewidth": 0,
             "ticks": ""
            },
            "colorscale": [
             [
              0,
              "#0d0887"
             ],
             [
              0.1111111111111111,
              "#46039f"
             ],
             [
              0.2222222222222222,
              "#7201a8"
             ],
             [
              0.3333333333333333,
              "#9c179e"
             ],
             [
              0.4444444444444444,
              "#bd3786"
             ],
             [
              0.5555555555555556,
              "#d8576b"
             ],
             [
              0.6666666666666666,
              "#ed7953"
             ],
             [
              0.7777777777777778,
              "#fb9f3a"
             ],
             [
              0.8888888888888888,
              "#fdca26"
             ],
             [
              1,
              "#f0f921"
             ]
            ],
            "type": "heatmap"
           }
          ],
          "heatmapgl": [
           {
            "colorbar": {
             "outlinewidth": 0,
             "ticks": ""
            },
            "colorscale": [
             [
              0,
              "#0d0887"
             ],
             [
              0.1111111111111111,
              "#46039f"
             ],
             [
              0.2222222222222222,
              "#7201a8"
             ],
             [
              0.3333333333333333,
              "#9c179e"
             ],
             [
              0.4444444444444444,
              "#bd3786"
             ],
             [
              0.5555555555555556,
              "#d8576b"
             ],
             [
              0.6666666666666666,
              "#ed7953"
             ],
             [
              0.7777777777777778,
              "#fb9f3a"
             ],
             [
              0.8888888888888888,
              "#fdca26"
             ],
             [
              1,
              "#f0f921"
             ]
            ],
            "type": "heatmapgl"
           }
          ],
          "histogram": [
           {
            "marker": {
             "pattern": {
              "fillmode": "overlay",
              "size": 10,
              "solidity": 0.2
             }
            },
            "type": "histogram"
           }
          ],
          "histogram2d": [
           {
            "colorbar": {
             "outlinewidth": 0,
             "ticks": ""
            },
            "colorscale": [
             [
              0,
              "#0d0887"
             ],
             [
              0.1111111111111111,
              "#46039f"
             ],
             [
              0.2222222222222222,
              "#7201a8"
             ],
             [
              0.3333333333333333,
              "#9c179e"
             ],
             [
              0.4444444444444444,
              "#bd3786"
             ],
             [
              0.5555555555555556,
              "#d8576b"
             ],
             [
              0.6666666666666666,
              "#ed7953"
             ],
             [
              0.7777777777777778,
              "#fb9f3a"
             ],
             [
              0.8888888888888888,
              "#fdca26"
             ],
             [
              1,
              "#f0f921"
             ]
            ],
            "type": "histogram2d"
           }
          ],
          "histogram2dcontour": [
           {
            "colorbar": {
             "outlinewidth": 0,
             "ticks": ""
            },
            "colorscale": [
             [
              0,
              "#0d0887"
             ],
             [
              0.1111111111111111,
              "#46039f"
             ],
             [
              0.2222222222222222,
              "#7201a8"
             ],
             [
              0.3333333333333333,
              "#9c179e"
             ],
             [
              0.4444444444444444,
              "#bd3786"
             ],
             [
              0.5555555555555556,
              "#d8576b"
             ],
             [
              0.6666666666666666,
              "#ed7953"
             ],
             [
              0.7777777777777778,
              "#fb9f3a"
             ],
             [
              0.8888888888888888,
              "#fdca26"
             ],
             [
              1,
              "#f0f921"
             ]
            ],
            "type": "histogram2dcontour"
           }
          ],
          "mesh3d": [
           {
            "colorbar": {
             "outlinewidth": 0,
             "ticks": ""
            },
            "type": "mesh3d"
           }
          ],
          "parcoords": [
           {
            "line": {
             "colorbar": {
              "outlinewidth": 0,
              "ticks": ""
             }
            },
            "type": "parcoords"
           }
          ],
          "pie": [
           {
            "automargin": true,
            "type": "pie"
           }
          ],
          "scatter": [
           {
            "marker": {
             "colorbar": {
              "outlinewidth": 0,
              "ticks": ""
             }
            },
            "type": "scatter"
           }
          ],
          "scatter3d": [
           {
            "line": {
             "colorbar": {
              "outlinewidth": 0,
              "ticks": ""
             }
            },
            "marker": {
             "colorbar": {
              "outlinewidth": 0,
              "ticks": ""
             }
            },
            "type": "scatter3d"
           }
          ],
          "scattercarpet": [
           {
            "marker": {
             "colorbar": {
              "outlinewidth": 0,
              "ticks": ""
             }
            },
            "type": "scattercarpet"
           }
          ],
          "scattergeo": [
           {
            "marker": {
             "colorbar": {
              "outlinewidth": 0,
              "ticks": ""
             }
            },
            "type": "scattergeo"
           }
          ],
          "scattergl": [
           {
            "marker": {
             "colorbar": {
              "outlinewidth": 0,
              "ticks": ""
             }
            },
            "type": "scattergl"
           }
          ],
          "scattermapbox": [
           {
            "marker": {
             "colorbar": {
              "outlinewidth": 0,
              "ticks": ""
             }
            },
            "type": "scattermapbox"
           }
          ],
          "scatterpolar": [
           {
            "marker": {
             "colorbar": {
              "outlinewidth": 0,
              "ticks": ""
             }
            },
            "type": "scatterpolar"
           }
          ],
          "scatterpolargl": [
           {
            "marker": {
             "colorbar": {
              "outlinewidth": 0,
              "ticks": ""
             }
            },
            "type": "scatterpolargl"
           }
          ],
          "scatterternary": [
           {
            "marker": {
             "colorbar": {
              "outlinewidth": 0,
              "ticks": ""
             }
            },
            "type": "scatterternary"
           }
          ],
          "surface": [
           {
            "colorbar": {
             "outlinewidth": 0,
             "ticks": ""
            },
            "colorscale": [
             [
              0,
              "#0d0887"
             ],
             [
              0.1111111111111111,
              "#46039f"
             ],
             [
              0.2222222222222222,
              "#7201a8"
             ],
             [
              0.3333333333333333,
              "#9c179e"
             ],
             [
              0.4444444444444444,
              "#bd3786"
             ],
             [
              0.5555555555555556,
              "#d8576b"
             ],
             [
              0.6666666666666666,
              "#ed7953"
             ],
             [
              0.7777777777777778,
              "#fb9f3a"
             ],
             [
              0.8888888888888888,
              "#fdca26"
             ],
             [
              1,
              "#f0f921"
             ]
            ],
            "type": "surface"
           }
          ],
          "table": [
           {
            "cells": {
             "fill": {
              "color": "#EBF0F8"
             },
             "line": {
              "color": "white"
             }
            },
            "header": {
             "fill": {
              "color": "#C8D4E3"
             },
             "line": {
              "color": "white"
             }
            },
            "type": "table"
           }
          ]
         },
         "layout": {
          "annotationdefaults": {
           "arrowcolor": "#2a3f5f",
           "arrowhead": 0,
           "arrowwidth": 1
          },
          "autotypenumbers": "strict",
          "coloraxis": {
           "colorbar": {
            "outlinewidth": 0,
            "ticks": ""
           }
          },
          "colorscale": {
           "diverging": [
            [
             0,
             "#8e0152"
            ],
            [
             0.1,
             "#c51b7d"
            ],
            [
             0.2,
             "#de77ae"
            ],
            [
             0.3,
             "#f1b6da"
            ],
            [
             0.4,
             "#fde0ef"
            ],
            [
             0.5,
             "#f7f7f7"
            ],
            [
             0.6,
             "#e6f5d0"
            ],
            [
             0.7,
             "#b8e186"
            ],
            [
             0.8,
             "#7fbc41"
            ],
            [
             0.9,
             "#4d9221"
            ],
            [
             1,
             "#276419"
            ]
           ],
           "sequential": [
            [
             0,
             "#0d0887"
            ],
            [
             0.1111111111111111,
             "#46039f"
            ],
            [
             0.2222222222222222,
             "#7201a8"
            ],
            [
             0.3333333333333333,
             "#9c179e"
            ],
            [
             0.4444444444444444,
             "#bd3786"
            ],
            [
             0.5555555555555556,
             "#d8576b"
            ],
            [
             0.6666666666666666,
             "#ed7953"
            ],
            [
             0.7777777777777778,
             "#fb9f3a"
            ],
            [
             0.8888888888888888,
             "#fdca26"
            ],
            [
             1,
             "#f0f921"
            ]
           ],
           "sequentialminus": [
            [
             0,
             "#0d0887"
            ],
            [
             0.1111111111111111,
             "#46039f"
            ],
            [
             0.2222222222222222,
             "#7201a8"
            ],
            [
             0.3333333333333333,
             "#9c179e"
            ],
            [
             0.4444444444444444,
             "#bd3786"
            ],
            [
             0.5555555555555556,
             "#d8576b"
            ],
            [
             0.6666666666666666,
             "#ed7953"
            ],
            [
             0.7777777777777778,
             "#fb9f3a"
            ],
            [
             0.8888888888888888,
             "#fdca26"
            ],
            [
             1,
             "#f0f921"
            ]
           ]
          },
          "colorway": [
           "#636efa",
           "#EF553B",
           "#00cc96",
           "#ab63fa",
           "#FFA15A",
           "#19d3f3",
           "#FF6692",
           "#B6E880",
           "#FF97FF",
           "#FECB52"
          ],
          "font": {
           "color": "#2a3f5f"
          },
          "geo": {
           "bgcolor": "white",
           "lakecolor": "white",
           "landcolor": "#E5ECF6",
           "showlakes": true,
           "showland": true,
           "subunitcolor": "white"
          },
          "hoverlabel": {
           "align": "left"
          },
          "hovermode": "closest",
          "mapbox": {
           "style": "light"
          },
          "paper_bgcolor": "white",
          "plot_bgcolor": "#E5ECF6",
          "polar": {
           "angularaxis": {
            "gridcolor": "white",
            "linecolor": "white",
            "ticks": ""
           },
           "bgcolor": "#E5ECF6",
           "radialaxis": {
            "gridcolor": "white",
            "linecolor": "white",
            "ticks": ""
           }
          },
          "scene": {
           "xaxis": {
            "backgroundcolor": "#E5ECF6",
            "gridcolor": "white",
            "gridwidth": 2,
            "linecolor": "white",
            "showbackground": true,
            "ticks": "",
            "zerolinecolor": "white"
           },
           "yaxis": {
            "backgroundcolor": "#E5ECF6",
            "gridcolor": "white",
            "gridwidth": 2,
            "linecolor": "white",
            "showbackground": true,
            "ticks": "",
            "zerolinecolor": "white"
           },
           "zaxis": {
            "backgroundcolor": "#E5ECF6",
            "gridcolor": "white",
            "gridwidth": 2,
            "linecolor": "white",
            "showbackground": true,
            "ticks": "",
            "zerolinecolor": "white"
           }
          },
          "shapedefaults": {
           "line": {
            "color": "#2a3f5f"
           }
          },
          "ternary": {
           "aaxis": {
            "gridcolor": "white",
            "linecolor": "white",
            "ticks": ""
           },
           "baxis": {
            "gridcolor": "white",
            "linecolor": "white",
            "ticks": ""
           },
           "bgcolor": "#E5ECF6",
           "caxis": {
            "gridcolor": "white",
            "linecolor": "white",
            "ticks": ""
           }
          },
          "title": {
           "x": 0.05
          },
          "xaxis": {
           "automargin": true,
           "gridcolor": "white",
           "linecolor": "white",
           "ticks": "",
           "title": {
            "standoff": 15
           },
           "zerolinecolor": "white",
           "zerolinewidth": 2
          },
          "yaxis": {
           "automargin": true,
           "gridcolor": "white",
           "linecolor": "white",
           "ticks": "",
           "title": {
            "standoff": 15
           },
           "zerolinecolor": "white",
           "zerolinewidth": 2
          }
         }
        },
        "xaxis": {
         "anchor": "y",
         "domain": [
          0,
          1
         ],
         "tickmode": "linear",
         "title": {
          "text": "digit"
         }
        },
        "yaxis": {
         "anchor": "x",
         "domain": [
          0,
          1
         ],
         "range": [
          0,
          1
         ],
         "tickformat": ",.0%",
         "title": {
          "text": "Classification Success Rate"
         }
        }
       }
      }
     },
     "metadata": {},
     "output_type": "display_data"
    }
   ],
   "source": [
    "digits, counts = list(zip(*correct.items()))\n",
    "fig = px.bar(x = digits, y=np.array(counts)/1000, labels={'x': \"digit\", 'y': \"Classification Success Rate\"}, range_y=(0, 1))\n",
    "fig.update_layout(yaxis={\"tickformat\": \",.0%\"}, xaxis={\"tickmode\": \"linear\"})\n",
    "fig.show()"
   ]
  },
  {
   "cell_type": "markdown",
   "metadata": {},
   "source": [
    "## Now let's train the model again, this time using rotated data, and store the updates efficiently"
   ]
  },
  {
   "cell_type": "code",
   "execution_count": 54,
   "metadata": {},
   "outputs": [
    {
     "name": "stderr",
     "output_type": "stream",
     "text": [
      "/Users/montyevans/opt/miniconda3/envs/raffellab/lib/python3.9/site-packages/onnx2pytorch/convert/model.py:147: UserWarning:\n",
      "\n",
      "Using experimental implementation that allows 'batch_size > 1'.Batchnorm layers could potentially produce false outputs.\n",
      "\n"
     ]
    }
   ],
   "source": [
    "import onnx\n",
    "from onnx2pytorch import ConvertModel\n",
    "\n",
    "onnx_model = onnx.load(\"mnist_test_pretrained.onnx\")\n",
    "imported_pytorch_model = ConvertModel(onnx_model, experimental=True)"
   ]
  },
  {
   "cell_type": "markdown",
   "metadata": {},
   "source": [
    "Annoyingly, there is no native Pytorch implementation to import an ONNX model. However, I found an external library that attempts to do this, though it produces some strange results. Specifically, it adds several parameters to the model's state dict that I don't understand: they concern the weight and bias of the ReLUs, which I don't understand, since ReLUs have neither of those things."
   ]
  },
  {
   "cell_type": "code",
   "execution_count": 55,
   "metadata": {},
   "outputs": [
    {
     "name": "stdout",
     "output_type": "stream",
     "text": [
      "odict_keys(['_initializer_conv1_weight', '_initializer_conv1_bias', '_initializer_conv2_weight', '_initializer_conv2_bias', '_initializer_fc1_weight', '_initializer_fc1_bias', '_initializer_fc2_weight', '_initializer_fc2_bias', '_initializer_fc3_weight', '_initializer_fc3_bias', 'Conv_onnx::Relu_11.weight', 'Conv_onnx::Relu_11.bias', 'Conv_onnx::Relu_14.weight', 'Conv_onnx::Relu_14.bias', 'Gemm_onnx::Relu_18.weight', 'Gemm_onnx::Relu_18.bias', 'Gemm_onnx::Relu_20.weight', 'Gemm_onnx::Relu_20.bias', 'Gemm_22.weight', 'Gemm_22.bias'])\n",
      "\n",
      " ----- \n",
      "\n",
      "odict_keys(['conv1.weight', 'conv1.bias', 'conv2.weight', 'conv2.bias', 'fc1.weight', 'fc1.bias', 'fc2.weight', 'fc2.bias', 'fc3.weight', 'fc3.bias'])\n"
     ]
    }
   ],
   "source": [
    "print(imported_pytorch_model.state_dict().keys())\n",
    "print(\"\\n ----- \\n\")\n",
    "print(net.state_dict().keys())"
   ]
  },
  {
   "cell_type": "markdown",
   "metadata": {},
   "source": [
    "Nevertheless, we persist. Let's evaluate the imported model's performance and verify that it has similar performance to the original."
   ]
  },
  {
   "cell_type": "code",
   "execution_count": 56,
   "metadata": {},
   "outputs": [
    {
     "name": "stderr",
     "output_type": "stream",
     "text": [
      "/Users/montyevans/opt/miniconda3/envs/raffellab/lib/python3.9/site-packages/torch/nn/functional.py:749: UserWarning:\n",
      "\n",
      "Note that order of the arguments: ceil_mode and return_indices will changeto match the args list in nn.MaxPool2d in a future release.\n",
      "\n"
     ]
    },
    {
     "name": "stdout",
     "output_type": "stream",
     "text": [
      "The imported model classified 9759 digits correctly, out of 10000 total, for an accuracy of 97.59%\n",
      "The imported model classified 8122 rotated digits correctly, out of 10000 total, for an accuracy of 81.22%\n"
     ]
    }
   ],
   "source": [
    "correct_normal, total_normal = evaluate_model(imported_pytorch_model, testloader)\n",
    "correct_rotated, total_rotated = evaluate_model(imported_pytorch_model, rotated_testloader)\n",
    "\n",
    "print(f\"The imported model classified {correct_normal} digits correctly, out of {total_normal} total, for an accuracy of {correct_normal * 100 / total_normal :.2f}%\")\n",
    "print(f\"The imported model classified {correct_rotated} rotated digits correctly, out of {total_rotated} total, for an accuracy of {correct_rotated * 100 / total_rotated :.2f}%\")"
   ]
  },
  {
   "cell_type": "markdown",
   "metadata": {},
   "source": [
    "It does - great!\n",
    "\n",
    "Now, there are two approaches we could take to non-dense fine tuning. To clarify terminology, we distinguish between a _parameter_ and a _parameter group_. A _parameter_ is a single scalar value that is trained and used by the model during inference to produce a result. When people refer to the size of large models (e.g. T5 has 11B parameters), they are referring to these scalar values.\n",
    "\n",
    "A _parameter group_ is collection of parameters that has some conceptual and practical meaning as a unit of computation. Typical examples are the bias vector and the weight matrix of a linear layer, or the kernel of a 2D convolution. \n",
    "\n",
    "A typical training run (like the one we did at the start of this notebook) trains all possible parameters at every training step: every parameter within every parameter group. If you wanted to do less exhaustive training (and efficiently store the corresponding update), there are two natural approaches.\n",
    "\n",
    "- Select some subset of the _parameter groups_, and only train them. We refer to this as _globally sparse_ training.\n",
    "- Within each parameter group, select some subset of _parameters_, and only train them. We refer to this as _locally sparse_ training.\n",
    "\n",
    "(You could, of course, combine both approaches).\n",
    "\n",
    "To keep this test run simple, we take the second approach and train only the first convolutional layer, and the final dense layer."
   ]
  },
  {
   "cell_type": "markdown",
   "metadata": {},
   "source": [
    "## Sparsely fine-tuning the model"
   ]
  },
  {
   "cell_type": "code",
   "execution_count": 57,
   "metadata": {},
   "outputs": [],
   "source": [
    "from collections import defaultdict\n",
    "\n",
    "def train_with_mask(net, optimizer, dataloader, num_epochs=2, parameter_masks = None):\n",
    "    if parameter_masks is None: parameter_masks = defaultdict(lambda: 1) # If no masks are provided, train all parameters as normal\n",
    "\n",
    "    loss_fn = torch.nn.CrossEntropyLoss()\n",
    "\n",
    "    for e in range(num_epochs):\n",
    "        flag = 0\n",
    "        cumulative_loss = 0\n",
    "        loss_window = len(dataloader) // 10\n",
    "        for i, (batch, labels) in enumerate(dataloader, 1):\n",
    "            optimizer.zero_grad()\n",
    "\n",
    "            preds = net(batch)\n",
    "            loss = loss_fn(preds, labels)\n",
    "            loss.backward()\n",
    "\n",
    "            # Mask out the parameters here\n",
    "            for name, params in net.named_parameters():\n",
    "                params.grad.data.copy_(params.grad.data * parameter_masks[name])\n",
    "                # params.grad.data.copy_(params.grad.data * 0)\n",
    "\n",
    "            optimizer.step()\n",
    "\n",
    "            cumulative_loss += loss\n",
    "\n",
    "            if i % loss_window == 0:\n",
    "                print(f\"Loss at epoch {e+1}, batch {i}: {cumulative_loss / loss_window :.2f}\")\n",
    "                cumulative_loss = 0"
   ]
  },
  {
   "cell_type": "code",
   "execution_count": null,
   "metadata": {},
   "outputs": [],
   "source": [
    "# We consider 'true' parameter group names to be the ones that the original Pytorch model uses in net.named_parameters(), which\n",
    "# are also the names in the ONNX model. \n",
    "\n",
    "# When we import back to Pytorch, in the model's state_dict() these are a) duplicated and b) both names are changed: N -> (N', N''). The\n",
    "# model only seems to consider the N' in named_parameters() though, so these are what get trained. However, N'' is easier to convert back to N,\n",
    "# so we use it as an intermediary.\n",
    "\n",
    "\n",
    "# Q: How to reliably go from e.g. Conv_onnx::Relu_11.bias -> conv1.weight, and conv1.weight -> Conv_onnx::Relu_11.bias\n",
    "# A: Can we assume the parameters will always be in the same order?\n",
    "\n",
    "\n",
    "def mangle_parameter_name(name, model, direction=\"forward\"):\n",
    "\n",
    "    param_names = list(model.state_dict().keys())\n",
    "    L = int(len(param_names)/2)\n",
    "    simple, complex = param_names[:L], param_names[L:]\n",
    "\n",
    "    \n",
    "    pairs = list(zip(simple, complex))\n",
    "    lookup = {pair[0]: pair[1] for pair in pairs}\n",
    "    rev_lookup = {pair[1]: pair[0] for pair in pairs}\n",
    "\n",
    "    if direction == \"forward\":\n",
    "        layer, component = name.split('.')\n",
    "        middle = f\"_initializer_{layer}_{component}\"\n",
    "        return lookup[middle]\n",
    "\n",
    "    elif direction == \"backward\":\n",
    "        middle = rev_lookup[name]\n",
    "        junk = \"_initializer_\"\n",
    "        name = middle[len(junk):]\n",
    "        layer, component = name.split('_')\n",
    "        return f\"{layer}.{component}\"\n",
    "    else:\n",
    "        raise NotImplementedError(f\"Direction must be once of [forward, backward]. You provided {direction}.\")"
   ]
  },
  {
   "cell_type": "code",
   "execution_count": 94,
   "metadata": {},
   "outputs": [
    {
     "name": "stderr",
     "output_type": "stream",
     "text": [
      "/Users/montyevans/opt/miniconda3/envs/raffellab/lib/python3.9/site-packages/torch/nn/functional.py:749: UserWarning:\n",
      "\n",
      "Note that order of the arguments: ceil_mode and return_indices will changeto match the args list in nn.MaxPool2d in a future release.\n",
      "\n"
     ]
    },
    {
     "name": "stdout",
     "output_type": "stream",
     "text": [
      "Loss at epoch 1, batch 375: 0.58\n",
      "Loss at epoch 1, batch 750: 0.45\n",
      "Loss at epoch 1, batch 1125: 0.41\n",
      "Loss at epoch 1, batch 1500: 0.40\n",
      "Loss at epoch 1, batch 1875: 0.40\n",
      "Loss at epoch 1, batch 2250: 0.40\n",
      "Loss at epoch 1, batch 2625: 0.38\n",
      "Loss at epoch 1, batch 3000: 0.39\n",
      "Loss at epoch 1, batch 3375: 0.38\n",
      "Loss at epoch 1, batch 3750: 0.37\n"
     ]
    }
   ],
   "source": [
    "from copy import deepcopy\n",
    "\n",
    "masks = defaultdict(lambda: 0)\n",
    "\n",
    "# Should have a function to map the 'true' (Pytorch Original, Onnx) names to the Pytorch Imported names.\n",
    "\n",
    "to_train_raw = [\"conv1.weight\", \"conv1.bias\", \"fc3.weight\", \"fc3.bias\"]\n",
    "to_train = [mangle_parameter_name(name, imported_pytorch_model) for name in to_train_raw]\n",
    "\n",
    "for param_name in to_train: masks[param_name] = 1\n",
    "\n",
    "model_copy = deepcopy(imported_pytorch_model) # Allow fresh fine-tuning without restarting the notebook\n",
    "\n",
    "active_model = model_copy\n",
    "optimizer = torch.optim.Adam(active_model.parameters())\n",
    "train_with_mask(active_model, optimizer, rotated_trainloader, 1, parameter_masks=masks)"
   ]
  },
  {
   "cell_type": "code",
   "execution_count": 59,
   "metadata": {},
   "outputs": [
    {
     "name": "stdout",
     "output_type": "stream",
     "text": [
      "The imported model classified 9689 digits correctly, out of 10000 total, for an accuracy of 96.89%\n",
      "The imported model classified 8870 rotated digits correctly, out of 10000 total, for an accuracy of 88.70%\n"
     ]
    }
   ],
   "source": [
    "correct_normal, total_normal = evaluate_model(active_model, testloader)\n",
    "correct_rotated, total_rotated = evaluate_model(active_model, rotated_testloader)\n",
    "\n",
    "print(f\"The imported model classified {correct_normal} digits correctly, out of {total_normal} total, for an accuracy of {correct_normal * 100 / total_normal :.2f}%\")\n",
    "print(f\"The imported model classified {correct_rotated} rotated digits correctly, out of {total_rotated} total, for an accuracy of {correct_rotated * 100 / total_rotated :.2f}%\")"
   ]
  },
  {
   "cell_type": "markdown",
   "metadata": {},
   "source": [
    "Success! The model improved its accuracy on the rotated digit set by 10% (and dropped 1% on the standard set, but omelettes and eggs...)\n",
    "\n",
    "Let's check to see that the parameters we wanted to train actually changed, while the others stayed the same."
   ]
  },
  {
   "cell_type": "code",
   "execution_count": 95,
   "metadata": {},
   "outputs": [
    {
     "name": "stdout",
     "output_type": "stream",
     "text": [
      "conv1.weight i.e. Conv_onnx::Relu_11.weight changed --- Yay!\n",
      "conv1.bias i.e. Conv_onnx::Relu_11.bias changed --- Yay!\n",
      "conv2.weight i.e. Conv_onnx::Relu_14.weight did not change --- Yay!\n",
      "conv2.bias i.e. Conv_onnx::Relu_14.bias did not change --- Yay!\n",
      "fc1.weight i.e. Gemm_onnx::Relu_18.weight did not change --- Yay!\n",
      "fc1.bias i.e. Gemm_onnx::Relu_18.bias did not change --- Yay!\n",
      "fc2.weight i.e. Gemm_onnx::Relu_20.weight did not change --- Yay!\n",
      "fc2.bias i.e. Gemm_onnx::Relu_20.bias did not change --- Yay!\n",
      "fc3.weight i.e. Gemm_22.weight changed --- Yay!\n",
      "fc3.bias i.e. Gemm_22.bias changed --- Yay!\n"
     ]
    }
   ],
   "source": [
    "param_pairs = list(zip(net.named_parameters(), active_model.named_parameters()))\n",
    "for param in param_pairs:\n",
    "    if torch.allclose(param[0][1], param[1][1]):\n",
    "        print(f\"{param[0][0]} i.e. {param[1][0]} did not change\", end=' --- ')\n",
    "        print(\"Goddamn\") if param[1][0] in to_train else print(\"Yay!\")\n",
    "    else:\n",
    "        print(f\"{param[0][0]} i.e. {param[1][0]} changed\", end=' --- ')\n",
    "        print(\"Goddamn\") if param[1][0] not in to_train else print(\"Yay!\")"
   ]
  },
  {
   "cell_type": "markdown",
   "metadata": {},
   "source": [
    "## VCS: Enter Stage-Right"
   ]
  },
  {
   "cell_type": "markdown",
   "metadata": {},
   "source": [
    "Now that we've fine tuned the model, let's \"commit\" this to our VCS."
   ]
  },
  {
   "cell_type": "code",
   "execution_count": 102,
   "metadata": {},
   "outputs": [
    {
     "name": "stdout",
     "output_type": "stream",
     "text": [
      "4\n"
     ]
    },
    {
     "data": {
      "text/plain": [
       "'17b5abd7678b19252fae2adb69c7a7bf.modeldiff'"
      ]
     },
     "execution_count": 102,
     "metadata": {},
     "output_type": "execute_result"
    }
   ],
   "source": [
    "from difftools import ModelUpdate, create_diff_file, apply_diff_file\n",
    "updates = []\n",
    "for param_name in to_train_raw:\n",
    "    mangled_name = mangle_parameter_name(param_name, active_model)\n",
    "    delta = active_model.state_dict()[mangled_name] - imported_pytorch_model.state_dict()[mangled_name]\n",
    "    updates.append(ModelUpdate(param_name, \"dense\", delta))\n",
    "\n",
    "print(len(updates))\n",
    "\n",
    "diff_file = create_diff_file(updates)\n",
    "diff_file"
   ]
  },
  {
   "cell_type": "markdown",
   "metadata": {},
   "source": [
    "And now let's \"checkout\" the original, non-finetuned model, and apply the diff, allowing us to \"train\" it without doing any actual work."
   ]
  },
  {
   "cell_type": "code",
   "execution_count": 106,
   "metadata": {},
   "outputs": [],
   "source": [
    "from difftools import apply_diff_file\n",
    "from onnx_functions import AugumentedOnnxModel\n",
    "\n",
    "onnx_model = AugumentedOnnxModel(\"mnist_test_pretrained.onnx\")\n",
    "model_plus_diff = apply_diff_file(onnx_model, diff_file)\n"
   ]
  },
  {
   "cell_type": "markdown",
   "metadata": {},
   "source": [
    "And then convert it from Onnx to Pytorch, and do some inference."
   ]
  },
  {
   "cell_type": "code",
   "execution_count": 107,
   "metadata": {},
   "outputs": [
    {
     "name": "stderr",
     "output_type": "stream",
     "text": [
      "/Users/montyevans/opt/miniconda3/envs/raffellab/lib/python3.9/site-packages/onnx2pytorch/convert/model.py:147: UserWarning:\n",
      "\n",
      "Using experimental implementation that allows 'batch_size > 1'.Batchnorm layers could potentially produce false outputs.\n",
      "\n"
     ]
    }
   ],
   "source": [
    "imported_pytorch_model_plus_diff = ConvertModel(model_plus_diff.get_model(), experimental=True)"
   ]
  },
  {
   "cell_type": "code",
   "execution_count": 108,
   "metadata": {},
   "outputs": [
    {
     "name": "stderr",
     "output_type": "stream",
     "text": [
      "/Users/montyevans/opt/miniconda3/envs/raffellab/lib/python3.9/site-packages/torch/nn/functional.py:749: UserWarning:\n",
      "\n",
      "Note that order of the arguments: ceil_mode and return_indices will changeto match the args list in nn.MaxPool2d in a future release.\n",
      "\n"
     ]
    },
    {
     "name": "stdout",
     "output_type": "stream",
     "text": [
      "The imported model classified 9690 digits correctly, out of 10000 total, for an accuracy of 96.90%\n",
      "The imported model classified 8883 rotated digits correctly, out of 10000 total, for an accuracy of 88.83%\n"
     ]
    }
   ],
   "source": [
    "correct_normal, total_normal = evaluate_model(imported_pytorch_model_plus_diff, testloader)\n",
    "correct_rotated, total_rotated = evaluate_model(imported_pytorch_model_plus_diff, rotated_testloader)\n",
    "\n",
    "print(f\"The imported model classified {correct_normal} digits correctly, out of {total_normal} total, for an accuracy of {correct_normal * 100 / total_normal :.2f}%\")\n",
    "print(f\"The imported model classified {correct_rotated} rotated digits correctly, out of {total_rotated} total, for an accuracy of {correct_rotated * 100 / total_rotated :.2f}%\")"
   ]
  },
  {
   "cell_type": "markdown",
   "metadata": {},
   "source": [
    "Success! The applied-diff-model achieves the same performance as the fine-tuned-model (because they are, in fact, the same model)!"
   ]
  },
  {
   "cell_type": "markdown",
   "metadata": {},
   "source": [
    "## Unresolved Questions\n",
    "\n",
    "How can a model's state dict have more keys that the model has parameters? Are the parameters not just the values in the state dict?\n",
    "\n",
    "There are two items in the imported model's state dict for each parameter in the original model, but besides the names, they seem to be copies of eachother. I am going to go ahead an select one of the copies, and ignore this curiosity. Hopefully this will not be a problem."
   ]
  }
 ],
 "metadata": {
  "interpreter": {
   "hash": "9c01baedbc736a94a9664335a750a75cd4fe1534c0fde3980701cc4f06df05d1"
  },
  "kernelspec": {
   "display_name": "Python 3.9.5 ('base')",
   "language": "python",
   "name": "python3"
  },
  "language_info": {
   "codemirror_mode": {
    "name": "ipython",
    "version": 3
   },
   "file_extension": ".py",
   "mimetype": "text/x-python",
   "name": "python",
   "nbconvert_exporter": "python",
   "pygments_lexer": "ipython3",
   "version": "3.9.7"
  },
  "orig_nbformat": 4
 },
 "nbformat": 4,
 "nbformat_minor": 2
}
