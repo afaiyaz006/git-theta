{
 "cells": [
  {
   "cell_type": "markdown",
   "metadata": {},
   "source": [
    "# There and Back Again: A Collaborative Learning Demonstration on MNIST and rotated-MNIST\n",
    "\n",
    "## The Basic Ingredients\n",
    "\n",
    "- Loading the dataset\n",
    "- Visualizing the images\n",
    "- Defining the model\n",
    "- Running the training loop\n",
    "- Evaluating the model"
   ]
  },
  {
   "cell_type": "markdown",
   "metadata": {},
   "source": [
    "## Loading the dataset"
   ]
  },
  {
   "cell_type": "code",
   "execution_count": 114,
   "metadata": {},
   "outputs": [],
   "source": [
    "import torch\n",
    "import torchvision\n",
    "import torchvision.transforms as tf\n",
    "\n",
    "transform = tf.Compose([\n",
    "    tf.ToTensor(),\n",
    "    tf.Normalize(0.5, 0.5),\n",
    "])\n",
    "\n",
    "rotated_transform = tf.Compose([\n",
    "    tf.ToTensor(),\n",
    "    tf.Normalize(0.5, 0.5),\n",
    "    tf.RandomRotation(45)\n",
    "])\n",
    "\n",
    "batch_size = 16\n",
    "\n",
    "trainset = torchvision.datasets.MNIST(root='./data', train=True, download=True, transform=transform)\n",
    "trainloader = torch.utils.data.DataLoader(trainset, batch_size = batch_size, shuffle=True)\n",
    "train_iter = iter(trainloader)\n",
    "\n",
    "testset = torchvision.datasets.MNIST(root='./data', train=False, download=True, transform=transform)\n",
    "testloader = torch.utils.data.DataLoader(testset, batch_size = batch_size, shuffle=True)\n",
    "test_iter = iter(testloader)\n",
    "\n",
    "\n",
    "rotated_trainset = torchvision.datasets.MNIST(root='./data', train=True, download=True, transform=rotated_transform)\n",
    "rotated_trainloader = torch.utils.data.DataLoader(rotated_trainset, batch_size = batch_size, shuffle=True)\n",
    "rotated_train_iter = iter(rotated_trainloader)\n",
    "\n",
    "rotated_testset = torchvision.datasets.MNIST(root='./data', train=False, download=True, transform=rotated_transform)\n",
    "rotated_testloader = torch.utils.data.DataLoader(rotated_testset, batch_size = batch_size, shuffle=True)\n",
    "rotated_test_iter = iter(rotated_testloader)"
   ]
  },
  {
   "cell_type": "markdown",
   "metadata": {},
   "source": [
    "## Visualizing the dataset"
   ]
  },
  {
   "cell_type": "code",
   "execution_count": 115,
   "metadata": {},
   "outputs": [
    {
     "data": {
      "application/vnd.plotly.v1+json": {
       "config": {
        "plotlyServerURL": "https://plot.ly"
       },
       "data": [
        {
         "hovertemplate": "x: %{x}<br>y: %{y}<extra></extra>",
         "name": "0",
         "source": "data:image/png;base64,iVBORw0KGgoAAAANSUhEUgAAAHoAAAB6CAIAAAD/O9CzAAAbbUlEQVR4Xu2de1RU1/n39wiKISteAMkaRaCJBq0prQZxBEyHRi1qTAIVotbEmhitVqrBa01XZmbpqgFBwWBNUrOWkURukrq8YLHqjKiDipVqdbwLjCRcRRDwArP3ef945OSwz2X2mRnz9tfl5x+Y8zz7Oc/5zjP77LPPnjMIPeUp/6to4I/BYEAImUymHkZnQCs5IBqLDwvCOJ6NDAgVUIjMGFYcARp6U1tVQe1bvA85GJNmx+MBxXhkF27JTcGSkIKPXq+3WCz01m5MJhP1diqE8jhq9yXOFvCk3AoopMtxHELIYrHo9XqEkMlkslgsCrr/+CgkjxAKCAhoamoKCwu7evWqcLuk4r2o104ZMWJERkbGd999RxtkMJlMcukajUaj0QjK6vX62NhYhJDBYDCbzZTnj4BkkpLJX7p0acSIEfC/r69vXV1dZWVlTxdZfpBbHJfnvffeO3nypJ+f3x/+8IdLly4tXbr0+eefxxjv27fvmWeeob3ZMJvNBoPhl7/8ZWxsbGxsrEajsVgsCjkgxQyfBJK7s9lsYWFhFy9ePHjwIEIIdA8ODv7Nb35Du8pEQEj+LLdt2zaMsaMb4f/wMjk5mW7DBnQdknAcBz2MGIPBIJeqUziOy8nJmTRpEm3oRjlyXFxcXFwcHHVOTo6/v7+/vz9sdzgca9euTUhIoNsghCRzpl9388EHH9jt9urq6n/+859nzpwxGo1DhgxZuHAh7PXEiRN0A0+gIDeST5WCiOA4DmPc0tLy9ttv094IIWeRAwICMMZr165du3YtQig+Pp43EUIwxj+4iqAj06+l+PDDD/n/7Xb7f5vc/v7+b731Vm1tLa+sHGlpaXRjhJB8ZIRQQkJCQkICxri8vFxsIoTMnj0bil0SPrKKU+XmzZv5/zmO69Wr1yuvvDJ69GiBi2fQaDSoe8TCzk9/+tOioqLAwECO4wghtNk9SktL169fz3Gc5PF2dHT85S9/obcKkO3EWXjttdfu37+Pn1h1I2cFLkl4eHh1dbWwiv/6179+2M3x48eFJrkCV2DBggUY4927d8NLfoxgs9kwxhcvXgwLC/vB24MkJiY+0b7bbDZzHAfDRNqmSHp6enp6Oq/pT37yE+HAyd/fv6amBkylpaVDhw4VNHXOggULQPGLFy/abLZly5YhhBISEqBPv3jxIt3AfUJCQr777juMsc1m+93vfkebPQfHca6Nvv38/PR6/fnz5yVHIA8fPgS5W1tbx44dS5udsWnTpqKiIoyxw+Gor6/HGLe1tVVWVmKM29vbaW/3SUhIgCHgzJkzaZvn0Ov1HMcpjBRdY82aNaA1dqkz4ZkzZw6cHnfv3u1wOAghDodj586dDQ0NY8aMob1dJjo6uqGhweFw2Gy2Jyc3aK2243bK0KFDLRYLaO1wOJTPbOyUl5e3tbVBmTc0NHhy7sFsNkNpe/CcwHfQZrPZbDYbjUbQ2rNy9+7de/r06XxpX7t2jfZwlY8++qitra2qqsrf33/nzp1OB+BMHD58GAJt3759+/bttFk9IC6cEuXwVGcSHBx84sQJXmsPyj1ixIj169e3t7fDJc+IESP4XdCu7AQFBTU0NGCMbTabn58fbVYPVcJ8gQu38+j1etfOmTy9e/cWyt3c3FxcXPziiy/Sfurx9fW9ePGi8PJy/fr1hJDJkydPnjxZ4MiMVqu9cOECDPtUTY/w11HUpRo/yKOKV6/Xg7JgpToWs9ksLnaFi0Ah48eP57XGGM+bN4/2cJWioqKioqL6+np4GRwcHBwcDIOWno7M6HQ6yHLv3r19+/alzfJIys1rx2+hTFzPLptSXGhCzHL/4x//EMrdq5fzC2nGyPX19YSQ0aNHw6XmggUL6uvry8vLxRf6PM73DUer0Wjg2lqr1c6ZMwchNGvWrEuXLqka+kAEKGR+I9QyQshkMsGUt9Ck0WhgepYyMTJo0KB+/frB/62trfPnz/fU9f2YMWOuXLlCCHnw4EFFRUVAQMC3334bEBAwZ84cF0b0CCE0fPhwGPlhjE+cOJGfn5+fnw/jnl27dkGxpKSk0M0QQj2rW1zgULZUj8H7MMJSg4sXL+brGqqEBSpnOY4dO8bfeMIYE0IKCwsLCwtpP3aioqJaWlrKy8thCAjSwz9nzpwZPnw43aAbObmFHTQvPW9VBYsi/FX78uXL4bPFAuTsNP6ECRMwxkuXLrXZbDabzeFw0B4IoZ4KOOlMrFbrgAED+E/H3/72t/j4+JCQkKNHj8bFxV2/fr2n+2PEifJbLBYL3L6BjsJkMrkst1Py8vJw95gsLS0tKSmpp9054gMREh8fn5WVlZmZ2dDQEBYW5u0tceOXiuBEbh5vb29vb+9Fixbt3bsXITRt2rTm5mbaiRn+6kut1lTRKcuxefPmwYMHd3R0cBzX3Nzc2dlJe7gHXJp++OGHer3ey8uLslKpAhJviFPY7wt7CnHeLEyaNCkrK+vWrVu//vWv33zzTdrMhsFgkJutbmpqcnrqongsN2WW24E7KOStgFzeLJw/f37fvn2hoaEK5xjUcxeSGarNXCFn6er+EdRXRiFjdvbt24cQqqqqEt7280hkOZ5o8Kc85b+bx0NRyU+BO30I39+5E1myLepurmx1AYWcGWOKG/JAhMd9N2O4HxmT1DI7nh8tZ/YdKSeM2MfdHoQ9e6TS+b8Bk8mkkPOPLbdCKnK40MSDuLZ3OdF/VLklM2DB5YZuwr5fnU5Hb5Jq7lxunU6XlJSUkZFRUFDAz94VFBTQfs4Q71sVbjYfPnz4rVu3MMawPsSz5OfnI5llX1SZO5G7oKCgrKxs2bJlsAhm+fLlb7/9dllZWWJioqoZH1ViTZo0KTExESE0ZMgQ4XZVQSiKioqCg4MlFZGDcXccx82YMePkyZNwO9dqtdIejKFSUlI4jqOmBXQ6nd1ut9vtHMcFBQUJTZIon6l5YDotMDDw3XffffTo0aNHj27evJmbm3vz5k3aVT1arba2ttbhcHR0dMgtf0WCVA0Gg9O0dTpdfn4+x3EY466uLtAau7myLCMjg6ripKQk0FpVdSsTGhr64osvZmVl3bt3b9myZQ6Ho66uLjk5mRBy8+ZNflmeOxiNRpimZ/mmgVOtEUIcx1VVVYHEhJCuri74xy25heh0Oui+CwoKWOqandDQ0AMHDlAbk5OTBwwYQAiBdeyUVRVvvvkm7r4rkpWVRZvVAypzHNfV1SUs7a6uLslzpjqCgoJAaKvV6oFwzPTr1+/06dOnT5+mDSrJyMiAT71HSg/EhXLGGNvt9q6uro0bN8LL6urqvLw8ug07kKvVapWb231CjB07trq6urq6mjao5Jlnntm7dy/G2OFwuLj8oyegNYiel5eXl5c3btw4hBC/kW4gQHoClsdut8OYpKysrKamBvprq9VaU1NDu3qUCRMmIIS0Wu2KFStom0r8/f2nTp0K/7e0tPSwqQfU9PLygkEOv1YyJSUFNhJCdDrdqVOnhK2YgD6Ex2q1ct1AsUPHkpGRQbd0j5KSknXr1hFCli5dSttU0qdPn3Xr1jkcDozx8ePH3VwFxncjklUMnQkhZNy4cVDv6lDopjMyMoTqsygueeeU4oMPPmhrayspKens7HzhhRdos3p0Oh2cITHGubm5tFklvKBwhhSaEhMT4Z0AH6HJY8BYJSkpiXM2LpwwYQIh5NixYwihQYMGIYS8vLy8vLz4xQhTp06FVTKEEMkrBdfgV4FxHDd48GDarAar1aog6MmTJ/l3gjJ5GBa5QUdCSFtb2+LFixcvXjx06FBYlJ6ZmXnt2jVCSEFBASFEq9XSjd2guLgYqvuzzz5jWa6mQGJiInQjYkFJ90BQ8p3wPE7lRgg1Nzdv3ry5qamJEFJZWcm/Aa2trbt37w4MDAwMDKTbuMd7773X0tLicDhu3LgRHBxMm1WSkpJCCQoXlqC1XIfueVJSUux2O/uFz8qVK8vLy7OzswkhBw8e9PPz8/PzY1/ixE51dTWUtqempUDQ/Pz8qqoqqBXqwpJu4AL8CEQS6EkUHOTIzs7eunUrIeTPf/7zt99+6/J36xXwrNw6nQ46brHK8I9CabPMCjxGuXJhxkrBQQFYCtvc3Hz9+nVCyKhRo2gPKYQTST0tEsC3m1taWl599VXaphKdTger4Ph+gz9twoUl3aAb4YTX47OHQurBwcG3b9+mtyKEEMrIyCgrK0MIKVz1KMyuWSyWK1eu+Pn57dmzByFUWlrq9KtEcqEkGT58eN++fTmOu3v3bmlpKW1WyalTp2BauFevXhzHEUJgoVpUVFRwcHBMTAzdQArWk7XwTBgUFJSRkWG321NSUjZt2hQVFSVwlEZOprq6OoTQypUrR40adeTIkYaGhpCQENqpG7kgcrz++uuuXdfI7cjLy4t0Lw/v3bt3eno6QgimdOQmdqhQzi89EEJlZWXp6elBQUE1NTXLli0bP348bIyKilKoawqD4tKvy5cvJyUl+fr63r9/n7YhhER5q2Lnzp30JmfA7sQJ9+7dG2MMl3WrVq1atWoV5aAMU3UnJSUVFhZmZGTk5+fX1NQsX7586NChqrQGnErmWa0tFktra2tVVVVOTg5tY0Nyv15eXowqi5szVTdIvHz5ctqgHuUal0ScNCMVFRUKD71gRK7MnSKZNlN1exbJPORQ5fzkMBgMHsmEqbqdIpmKQkW4UOOeRTJhpJgzUpO2XPynPOV/l8czFZLF7+YHB5oLrYwBkXxMQBxZDOO+qCAejIykjl2272YPanK27NMF+L27EJk9c7W4H1l6ZKI2Los/i48Yk8nE3lCVM8DiD2FZPCnETWSrWy2mJ1DjPHzecrsQH5j7PImYEnK7vJsnqjggzk28RS3itNljchxnsVj0er3FYoFbg8rfFKXlZt+TJNBcLLqbYSVxGvPWrVsGg8HlK3gFOMHSTnicAkwmI4QsFotwXpN6L3v03U4PgBHGOL6+vj//+c/prZ4gKCjoq6++Cg0NTUpKKmBYG82YMNf92ATaIID/xj9tQAgJ5WbcJSPCaOLI8fHxv/jFL44dO3bu3Dmj0ZiVlcU/csXN5YBATU3Ntm3bEELTpk2jba4CCur1emG1wtf6TaJHg/x/Q9yx5OXl7dmzBx7UARBC6ruJi4vr16+fC3fjKHQ6HdxOjIyMjIyMpM1SiFPlMZvNULY8tIfgYRaAsMD5yNIDwScKLPQymUx2ux0h9PLLL48aNaq9vb29vf3SpUt79+6tqqoym81ulvmpU6fgvocr68ekgK5Z4Vk2FosFrLTBfby9vS0Wy40bN0JCQlw+nv79+xNCtm7dGhkZGRAQABuPHj165cqVo0eP8vXes5EK4EFcqgpcDr5saYMU4up2TmxsbHR0dP/+/fv370+ZNm7cSAixWCw1NTWdnZ2XL1++fPmyK6viEFqyZAkhBG6h8QwcOBB1604IsVqtq1evFqfBwoEDB3jFaZtK2OXWdz95Ej4Qzvn666/v3r2LMa6qqpo4cWJVVdWWLVsQQgMGDEhPT4cDKC8vhyfgx8TE1NTUPHjwwMfHhw7kjJdeeuncuXNyJTxw4MCRI0dC/069JYwI5XZHcahueGaWU4zdj36iDZJwHIcx/vzzzzHGJSUlbW1tkPHNmzfhQZCEkOzsbGGT9PR0k8nk8uLgDRs2KDzAd+TIkdnZ2XV1dR9//DFtY2DNmjW84rSNDZCPvX9g/xwghNDOnTuhroOCgrRa7eDBg7Ozs1977TVCCIwiMMaffPLJJ598wq/F6dOnj3i0x86GDRt4NQcMGMCP3j799NPQ0NBjx47BTrH8uhkF+AL3iOK0QQpVHT1CCF2/fv369esYY61Wu2vXrueff3716tWrV6+Gw87NzcUY//vf/yaEnDt3DiE0cuRItcug4uLioBfipcQYFxQU1NfXY4yNRiN03M3NzRjjf/3rX3fu3KFDMPPpp5+6IzffF6uqbtbOBDhy5MiRI0cwxg0NDYSQCxcuEEJqa2tHjx6dm5s7evTo//znP6DR/fv309LSSPcyqClTptCxREycOLGzsxOE3rVrV3t7+8OHD2tra69duzZ37tyQkJCsrKzExMTExMQ7d+58/PHH/fv3HzZsGB2FmS+++ALkJoS4EEc4mqZtUqhy/oElS5b07t37+PHjhJCTJ0+mpqbW1tbCKmkfHx8fH5/U1NSKiopZs2ZhjMvLy0E+jLHCtdyMGTPsdvvt27dv375dVVUVHh6u0WjCw8PnzZvX3t7u5hJsBaBLqa2tpQ1sqFIQPNVVtxAYmT333HO0oRtvb294yvQXX3wBV89yDBw4EGP8+9//ntoOKbJMofBXaAoXgWJA7kOHDh06dIi2iRBHZpSb73Y4mVEgPSMoyd27dxFCbW1ttKEbh8MBv/i1YMEC2taTu3fvtrW1ff/999R2yO/8+fPUdk8xbdq0AwcOTJky5fDhw7RNDRzHKVw3Oq3oJ3URLy4QYPbs2c899xz19N6XX35Z+JIdub0o40KBCyXW6/XiytXr9cITqUajkVxe+lhu1/KWQyFaYWHh9u3bd+zYkZSUlJaWVl9ff+fOnW3btjF+k0MhslPef//9gwcPTpw4MTY21oXvtPHymc1mOHmi7okU2MjnJik08MNBunMkQpTjdHV1LVy4MDo6eseOHe++++6ZM2fu3LkDjwVwbU2w8u6E1NXVwfJou93+xz/+Ue3XR2JjY2NjY4VS8roL+3SYj+VfUvTouyF1BW+nMB58RUWFr68v/P/ss892dHT0tEvDGFyB9evXHz58uKysTNz/io/dIFozBXdqeHGpLsVisRw7dkx5bC5xqhTvhhFJOcSHQcGotQKqEj516hSltWTaCmg0GhAaTowWi0Wv14vfPx6hAhJyI5UHwAJ/SJ4N6yZqheaBLkWj0RiNRrlylgwue4KS9FaA0d9gMDB6Uii3UraKYUzDqY9Ya4gs11C6ugEDc43LRZeD92eM70HUpsrOk4v8lKf8X+Dx+VT8QWD8mIsb8kAEscP/xchCXNsLtJI+VTJGRGo8AXZ/dk+A3Z/dk8JkMrG3lfRUOlVGRERYrdY+ffrQhp6wVAQgmYEC7JHVojay2szlkKhuPvTZs2fT0tLOnz//zjvv9HSRQNU7rwqWyE4dJHEaGRzkfBSm9QFxQ1puoYePj8/atWt/9rOfIYT4dSDKiHfAo2ASotVqJX+7U+Gw5bYzItlcYXeAwWBgeUYRBS23kEePHsGvP2VnZ8N0NgtOE1VgzZo1c+fORfITxy5HVobK2eleUlJS3nrrLdefAmcwGCQ7MvjxNFhRxq64ELnIknz11VfwSAyHzC8sCWGPPGHCBISQwrft1QKLQRiXvgjzVKpuhFBFRQVCaMyYMT4+PsOHD585c+aT+9nb5OTk3/72t/RWVwkODt68efP9+/dbW1v3799fUlJy9uzZefPmwc+NuIzRaNy1a1dxcfGsWbPCw8NpMyNOy2Ty5MmZmZlwM3vmzJnsKwicRuZJTk7mS5ulEuUiDxs2LDU1lRBy9+5dQkhnZ+eWLVsuXLgAP+e3b98+4uqP+iUlJXV2djY2NsITpNmRS9UJwhVJLixRUyA8PBzu4oPcLi/IgsVp8MtyGzZs+NOf/oQQgpWO8+fPf+ONN7q6uurr6+Eo6MaKzJgxIzc3d+vWrdA1AZGRkVDjvr6+vr6+coNmF+VGCMGPqlVWVnrqF3uB8PBwEBpj7LLWwIMHDzDG/M9UUsA65vb2dowx+8PGfHx8MMaEkK1bt8KWsLCwyMhIQgjG+OHDh/fu3SsuLj5w4ICc4m5RWVnZ2NjoKcV5rYEjR47QHsxMmDABPiXvv/8+betm5MiRn3322ffffy9eECBHUVERxnjOnDn8j17u2rULTphTp0798ssvR40ahTGGG2mvv/56z9aeoLGxsbGx0Wg0LlmyhLapQavVarVaXmt2CeSAMhQvZaEghCj8Sq2YU6dOYYzhZK7X6zs6OlJTU6kfXv3Vr35FCHFTEFmmTJlCCLHZbLRBJSUlJbzW7st9/vx5QsjDhw9pg4DS0tKmpqampibaII9erwe5Q0JCQkJCLl26JPn8KULI3LlzYSGUh9mzZ8+ePXtsNpsLC+94cnJycnJyoAdwX2uEUN++feFMuGnTpk2bNlHW/fv3x8TElJaWYoyfffZZyqqMl5fXiRMncnNzS0tL5R6WvHTpUkIIywNvXWHHjh2NjY30VjVMnjwZSpvqHN1h7dq1GzZsANFjYmIWL14M24cMGbJ//37Y/sYbb/RsxAS/fNlgMMDDbCnq6urOnDnjebkjIyNv3Lhx48YNQgjLqldJRo0a1dTUxMst/KVDN7Hb7fX19XDuWrx48fHjxzMzM6FbJ4Q0NTWNHDmSbsNGcXExIeTMmTO0ASGE0PTp0wkhoaGhtMFlIiIiEELffPMNIaStrU3t+hiKiooK0LqlpQXmDDxIQ0NDY2MjSPzw4UOQGybdXGbevHlXr16Njo6mDQghhKZPn+6xkcmiRYsQQhEREY8ePerq6nK6ANMp8JRmkNvhcLiwlkwZf39/f39/ODEQQgoLC6nliZK4fFUyduzYuro6p4MiJgIDAxctWsRxHCFk0qRJyjNWjBm/8847DoeD4ziM8eXLl1mmeRkjAy+88AJo3dHR0a9fP4XBOBJEVrULIePGjVOWxckUFRAVFbVixYq6urqNGzd2dHSUlJQcOXIEFnRLwpjuxIkTP//8c41GQwhBCL300ku0hwjGyAihYcOGrVq1iv9p9dTU1Hv37n355Zc9vX6Aisyyo3Xr1gn7DV9f39LS0r///e8CFxonJ9CNGzfOnj07ICCgo6OjsrLywoUL8fHxtJOrHD582Gq1xsbGwqq7r7/+WtVAWIGoqKjjx4+fPXtWo9FwHBcTEwOLMT1IRETEihUrVq5cCS+Tk5MRQo2NjZcvX+7h1xPZBcfjx483m80RERFwe2XhwoUxMTEsWrOXyauvvsprzQJ7ZJhQjIiImDJlivgX3MVIhpLcyBMWFjZ//vwtW7bcunXr0KFDmZmZmZmZ8KQJ2lXAD9UN0fkbGR0dHdHR0a2trUFBQW5efRhkVmMJVxh/9NFHqampAiMTVM5AYWFhQkKCcIvHSxsh9M033/j7+1+9evXkyZOvvPKK8pvKK0D33fxbevr06fnz5w8aNEiV1nIVYTAYJE1eXl7e3t7p6enwtGAFJJsDlIkf5w0aNKikpERokkQhsjKwMn3+/PkK41fqwCX6bjCr/Z4kYsgbHMSVvmbNGmqLWoSRR4wYgRDT78YgZzkbZD6XPBcuXKA3IYTkw8rmJCeN+7gQWS57CmFkB8PdzieBcqp0Z0Kh3FgIuyfA7s/uCbD7s3iy+AAGg4Hd+SlP+Z/j/wFzgbuEjCCfJAAAAABJRU5ErkJggg==",
         "type": "image",
         "xaxis": "x",
         "yaxis": "y"
        }
       ],
       "layout": {
        "height": 400,
        "margin": {
         "b": 0,
         "l": 0,
         "r": 0,
         "t": 0
        },
        "template": {
         "data": {
          "bar": [
           {
            "error_x": {
             "color": "#2a3f5f"
            },
            "error_y": {
             "color": "#2a3f5f"
            },
            "marker": {
             "line": {
              "color": "#E5ECF6",
              "width": 0.5
             },
             "pattern": {
              "fillmode": "overlay",
              "size": 10,
              "solidity": 0.2
             }
            },
            "type": "bar"
           }
          ],
          "barpolar": [
           {
            "marker": {
             "line": {
              "color": "#E5ECF6",
              "width": 0.5
             },
             "pattern": {
              "fillmode": "overlay",
              "size": 10,
              "solidity": 0.2
             }
            },
            "type": "barpolar"
           }
          ],
          "carpet": [
           {
            "aaxis": {
             "endlinecolor": "#2a3f5f",
             "gridcolor": "white",
             "linecolor": "white",
             "minorgridcolor": "white",
             "startlinecolor": "#2a3f5f"
            },
            "baxis": {
             "endlinecolor": "#2a3f5f",
             "gridcolor": "white",
             "linecolor": "white",
             "minorgridcolor": "white",
             "startlinecolor": "#2a3f5f"
            },
            "type": "carpet"
           }
          ],
          "choropleth": [
           {
            "colorbar": {
             "outlinewidth": 0,
             "ticks": ""
            },
            "type": "choropleth"
           }
          ],
          "contour": [
           {
            "colorbar": {
             "outlinewidth": 0,
             "ticks": ""
            },
            "colorscale": [
             [
              0,
              "#0d0887"
             ],
             [
              0.1111111111111111,
              "#46039f"
             ],
             [
              0.2222222222222222,
              "#7201a8"
             ],
             [
              0.3333333333333333,
              "#9c179e"
             ],
             [
              0.4444444444444444,
              "#bd3786"
             ],
             [
              0.5555555555555556,
              "#d8576b"
             ],
             [
              0.6666666666666666,
              "#ed7953"
             ],
             [
              0.7777777777777778,
              "#fb9f3a"
             ],
             [
              0.8888888888888888,
              "#fdca26"
             ],
             [
              1,
              "#f0f921"
             ]
            ],
            "type": "contour"
           }
          ],
          "contourcarpet": [
           {
            "colorbar": {
             "outlinewidth": 0,
             "ticks": ""
            },
            "type": "contourcarpet"
           }
          ],
          "heatmap": [
           {
            "colorbar": {
             "outlinewidth": 0,
             "ticks": ""
            },
            "colorscale": [
             [
              0,
              "#0d0887"
             ],
             [
              0.1111111111111111,
              "#46039f"
             ],
             [
              0.2222222222222222,
              "#7201a8"
             ],
             [
              0.3333333333333333,
              "#9c179e"
             ],
             [
              0.4444444444444444,
              "#bd3786"
             ],
             [
              0.5555555555555556,
              "#d8576b"
             ],
             [
              0.6666666666666666,
              "#ed7953"
             ],
             [
              0.7777777777777778,
              "#fb9f3a"
             ],
             [
              0.8888888888888888,
              "#fdca26"
             ],
             [
              1,
              "#f0f921"
             ]
            ],
            "type": "heatmap"
           }
          ],
          "heatmapgl": [
           {
            "colorbar": {
             "outlinewidth": 0,
             "ticks": ""
            },
            "colorscale": [
             [
              0,
              "#0d0887"
             ],
             [
              0.1111111111111111,
              "#46039f"
             ],
             [
              0.2222222222222222,
              "#7201a8"
             ],
             [
              0.3333333333333333,
              "#9c179e"
             ],
             [
              0.4444444444444444,
              "#bd3786"
             ],
             [
              0.5555555555555556,
              "#d8576b"
             ],
             [
              0.6666666666666666,
              "#ed7953"
             ],
             [
              0.7777777777777778,
              "#fb9f3a"
             ],
             [
              0.8888888888888888,
              "#fdca26"
             ],
             [
              1,
              "#f0f921"
             ]
            ],
            "type": "heatmapgl"
           }
          ],
          "histogram": [
           {
            "marker": {
             "pattern": {
              "fillmode": "overlay",
              "size": 10,
              "solidity": 0.2
             }
            },
            "type": "histogram"
           }
          ],
          "histogram2d": [
           {
            "colorbar": {
             "outlinewidth": 0,
             "ticks": ""
            },
            "colorscale": [
             [
              0,
              "#0d0887"
             ],
             [
              0.1111111111111111,
              "#46039f"
             ],
             [
              0.2222222222222222,
              "#7201a8"
             ],
             [
              0.3333333333333333,
              "#9c179e"
             ],
             [
              0.4444444444444444,
              "#bd3786"
             ],
             [
              0.5555555555555556,
              "#d8576b"
             ],
             [
              0.6666666666666666,
              "#ed7953"
             ],
             [
              0.7777777777777778,
              "#fb9f3a"
             ],
             [
              0.8888888888888888,
              "#fdca26"
             ],
             [
              1,
              "#f0f921"
             ]
            ],
            "type": "histogram2d"
           }
          ],
          "histogram2dcontour": [
           {
            "colorbar": {
             "outlinewidth": 0,
             "ticks": ""
            },
            "colorscale": [
             [
              0,
              "#0d0887"
             ],
             [
              0.1111111111111111,
              "#46039f"
             ],
             [
              0.2222222222222222,
              "#7201a8"
             ],
             [
              0.3333333333333333,
              "#9c179e"
             ],
             [
              0.4444444444444444,
              "#bd3786"
             ],
             [
              0.5555555555555556,
              "#d8576b"
             ],
             [
              0.6666666666666666,
              "#ed7953"
             ],
             [
              0.7777777777777778,
              "#fb9f3a"
             ],
             [
              0.8888888888888888,
              "#fdca26"
             ],
             [
              1,
              "#f0f921"
             ]
            ],
            "type": "histogram2dcontour"
           }
          ],
          "mesh3d": [
           {
            "colorbar": {
             "outlinewidth": 0,
             "ticks": ""
            },
            "type": "mesh3d"
           }
          ],
          "parcoords": [
           {
            "line": {
             "colorbar": {
              "outlinewidth": 0,
              "ticks": ""
             }
            },
            "type": "parcoords"
           }
          ],
          "pie": [
           {
            "automargin": true,
            "type": "pie"
           }
          ],
          "scatter": [
           {
            "marker": {
             "colorbar": {
              "outlinewidth": 0,
              "ticks": ""
             }
            },
            "type": "scatter"
           }
          ],
          "scatter3d": [
           {
            "line": {
             "colorbar": {
              "outlinewidth": 0,
              "ticks": ""
             }
            },
            "marker": {
             "colorbar": {
              "outlinewidth": 0,
              "ticks": ""
             }
            },
            "type": "scatter3d"
           }
          ],
          "scattercarpet": [
           {
            "marker": {
             "colorbar": {
              "outlinewidth": 0,
              "ticks": ""
             }
            },
            "type": "scattercarpet"
           }
          ],
          "scattergeo": [
           {
            "marker": {
             "colorbar": {
              "outlinewidth": 0,
              "ticks": ""
             }
            },
            "type": "scattergeo"
           }
          ],
          "scattergl": [
           {
            "marker": {
             "colorbar": {
              "outlinewidth": 0,
              "ticks": ""
             }
            },
            "type": "scattergl"
           }
          ],
          "scattermapbox": [
           {
            "marker": {
             "colorbar": {
              "outlinewidth": 0,
              "ticks": ""
             }
            },
            "type": "scattermapbox"
           }
          ],
          "scatterpolar": [
           {
            "marker": {
             "colorbar": {
              "outlinewidth": 0,
              "ticks": ""
             }
            },
            "type": "scatterpolar"
           }
          ],
          "scatterpolargl": [
           {
            "marker": {
             "colorbar": {
              "outlinewidth": 0,
              "ticks": ""
             }
            },
            "type": "scatterpolargl"
           }
          ],
          "scatterternary": [
           {
            "marker": {
             "colorbar": {
              "outlinewidth": 0,
              "ticks": ""
             }
            },
            "type": "scatterternary"
           }
          ],
          "surface": [
           {
            "colorbar": {
             "outlinewidth": 0,
             "ticks": ""
            },
            "colorscale": [
             [
              0,
              "#0d0887"
             ],
             [
              0.1111111111111111,
              "#46039f"
             ],
             [
              0.2222222222222222,
              "#7201a8"
             ],
             [
              0.3333333333333333,
              "#9c179e"
             ],
             [
              0.4444444444444444,
              "#bd3786"
             ],
             [
              0.5555555555555556,
              "#d8576b"
             ],
             [
              0.6666666666666666,
              "#ed7953"
             ],
             [
              0.7777777777777778,
              "#fb9f3a"
             ],
             [
              0.8888888888888888,
              "#fdca26"
             ],
             [
              1,
              "#f0f921"
             ]
            ],
            "type": "surface"
           }
          ],
          "table": [
           {
            "cells": {
             "fill": {
              "color": "#EBF0F8"
             },
             "line": {
              "color": "white"
             }
            },
            "header": {
             "fill": {
              "color": "#C8D4E3"
             },
             "line": {
              "color": "white"
             }
            },
            "type": "table"
           }
          ]
         },
         "layout": {
          "annotationdefaults": {
           "arrowcolor": "#2a3f5f",
           "arrowhead": 0,
           "arrowwidth": 1
          },
          "autotypenumbers": "strict",
          "coloraxis": {
           "colorbar": {
            "outlinewidth": 0,
            "ticks": ""
           }
          },
          "colorscale": {
           "diverging": [
            [
             0,
             "#8e0152"
            ],
            [
             0.1,
             "#c51b7d"
            ],
            [
             0.2,
             "#de77ae"
            ],
            [
             0.3,
             "#f1b6da"
            ],
            [
             0.4,
             "#fde0ef"
            ],
            [
             0.5,
             "#f7f7f7"
            ],
            [
             0.6,
             "#e6f5d0"
            ],
            [
             0.7,
             "#b8e186"
            ],
            [
             0.8,
             "#7fbc41"
            ],
            [
             0.9,
             "#4d9221"
            ],
            [
             1,
             "#276419"
            ]
           ],
           "sequential": [
            [
             0,
             "#0d0887"
            ],
            [
             0.1111111111111111,
             "#46039f"
            ],
            [
             0.2222222222222222,
             "#7201a8"
            ],
            [
             0.3333333333333333,
             "#9c179e"
            ],
            [
             0.4444444444444444,
             "#bd3786"
            ],
            [
             0.5555555555555556,
             "#d8576b"
            ],
            [
             0.6666666666666666,
             "#ed7953"
            ],
            [
             0.7777777777777778,
             "#fb9f3a"
            ],
            [
             0.8888888888888888,
             "#fdca26"
            ],
            [
             1,
             "#f0f921"
            ]
           ],
           "sequentialminus": [
            [
             0,
             "#0d0887"
            ],
            [
             0.1111111111111111,
             "#46039f"
            ],
            [
             0.2222222222222222,
             "#7201a8"
            ],
            [
             0.3333333333333333,
             "#9c179e"
            ],
            [
             0.4444444444444444,
             "#bd3786"
            ],
            [
             0.5555555555555556,
             "#d8576b"
            ],
            [
             0.6666666666666666,
             "#ed7953"
            ],
            [
             0.7777777777777778,
             "#fb9f3a"
            ],
            [
             0.8888888888888888,
             "#fdca26"
            ],
            [
             1,
             "#f0f921"
            ]
           ]
          },
          "colorway": [
           "#636efa",
           "#EF553B",
           "#00cc96",
           "#ab63fa",
           "#FFA15A",
           "#19d3f3",
           "#FF6692",
           "#B6E880",
           "#FF97FF",
           "#FECB52"
          ],
          "font": {
           "color": "#2a3f5f"
          },
          "geo": {
           "bgcolor": "white",
           "lakecolor": "white",
           "landcolor": "#E5ECF6",
           "showlakes": true,
           "showland": true,
           "subunitcolor": "white"
          },
          "hoverlabel": {
           "align": "left"
          },
          "hovermode": "closest",
          "mapbox": {
           "style": "light"
          },
          "paper_bgcolor": "white",
          "plot_bgcolor": "#E5ECF6",
          "polar": {
           "angularaxis": {
            "gridcolor": "white",
            "linecolor": "white",
            "ticks": ""
           },
           "bgcolor": "#E5ECF6",
           "radialaxis": {
            "gridcolor": "white",
            "linecolor": "white",
            "ticks": ""
           }
          },
          "scene": {
           "xaxis": {
            "backgroundcolor": "#E5ECF6",
            "gridcolor": "white",
            "gridwidth": 2,
            "linecolor": "white",
            "showbackground": true,
            "ticks": "",
            "zerolinecolor": "white"
           },
           "yaxis": {
            "backgroundcolor": "#E5ECF6",
            "gridcolor": "white",
            "gridwidth": 2,
            "linecolor": "white",
            "showbackground": true,
            "ticks": "",
            "zerolinecolor": "white"
           },
           "zaxis": {
            "backgroundcolor": "#E5ECF6",
            "gridcolor": "white",
            "gridwidth": 2,
            "linecolor": "white",
            "showbackground": true,
            "ticks": "",
            "zerolinecolor": "white"
           }
          },
          "shapedefaults": {
           "line": {
            "color": "#2a3f5f"
           }
          },
          "ternary": {
           "aaxis": {
            "gridcolor": "white",
            "linecolor": "white",
            "ticks": ""
           },
           "baxis": {
            "gridcolor": "white",
            "linecolor": "white",
            "ticks": ""
           },
           "bgcolor": "#E5ECF6",
           "caxis": {
            "gridcolor": "white",
            "linecolor": "white",
            "ticks": ""
           }
          },
          "title": {
           "x": 0.05
          },
          "xaxis": {
           "automargin": true,
           "gridcolor": "white",
           "linecolor": "white",
           "ticks": "",
           "title": {
            "standoff": 15
           },
           "zerolinecolor": "white",
           "zerolinewidth": 2
          },
          "yaxis": {
           "automargin": true,
           "gridcolor": "white",
           "linecolor": "white",
           "ticks": "",
           "title": {
            "standoff": 15
           },
           "zerolinecolor": "white",
           "zerolinewidth": 2
          }
         }
        },
        "width": 400,
        "xaxis": {
         "anchor": "y",
         "domain": [
          0,
          1
         ],
         "showticklabels": false
        },
        "yaxis": {
         "anchor": "x",
         "domain": [
          0,
          1
         ],
         "showticklabels": false
        }
       }
      }
     },
     "metadata": {},
     "output_type": "display_data"
    },
    {
     "name": "stdout",
     "output_type": "stream",
     "text": [
      "[2, 2, 7, 8, 3, 2, 1, 0, 8, 8, 1, 0, 7, 1, 9, 5]\n"
     ]
    }
   ],
   "source": [
    "import plotly.express as px\n",
    "\n",
    "def imshow(im):\n",
    "    if torch.min(im) < 0:\n",
    "        im = im - torch.min(im)\n",
    "        im = im / torch.max(im)\n",
    "\n",
    "\n",
    "    ndims = len(im.shape)\n",
    "    im = torch.squeeze(im)\n",
    "    if len(im.shape) == ndims:\n",
    "        im = im.permute(1,2,0)\n",
    "    \n",
    "    fig = px.imshow(im)\n",
    "\n",
    "    fig.update_layout(margin={'t': 0, 'r': 0, 'b': 0, 'l': 0})\n",
    "\n",
    "    if im.shape[0] == im.shape[1]:\n",
    "        fig.update_layout(width=400, height=400)\n",
    "    fig.update_xaxes(showticklabels=False).update_yaxes(showticklabels=False)\n",
    "    fig.show()\n",
    "\n",
    "batch, labels = next(rotated_train_iter)\n",
    "N = 16\n",
    "imshow(torchvision.utils.make_grid(batch[:N, :, :, :], nrow = 4, normalize=True))\n",
    "print([l.item() for l in labels])"
   ]
  },
  {
   "cell_type": "markdown",
   "metadata": {},
   "source": [
    "## Defining the Model"
   ]
  },
  {
   "cell_type": "code",
   "execution_count": 116,
   "metadata": {},
   "outputs": [],
   "source": [
    "import torch.nn as nn\n",
    "import torch.nn.functional as F\n",
    "\n",
    "class Net(nn.Module): # Input size = 32\n",
    "    def __init__(self):\n",
    "        super().__init__()\n",
    "        self.conv1 = nn.Conv2d(1, 3, 5)\n",
    "        self.conv2 = nn.Conv2d(3, 6, 5)\n",
    "        self.max_pool = nn.MaxPool2d(2, 2)\n",
    "        self.fc1 = nn.Linear(6 * 4 * 4, 80)\n",
    "        self.fc2 = nn.Linear(80, 40)\n",
    "        self.fc3 = nn.Linear(40, 10)\n",
    "\n",
    "    def forward(self, x):\n",
    "        x = self.max_pool(F.relu(self.conv1(x)))\n",
    "        x = self.max_pool(F.relu(self.conv2(x)))\n",
    "\n",
    "        x = torch.flatten(x, 1)\n",
    "\n",
    "        x = F.relu(self.fc1(x))\n",
    "        x = F.relu(self.fc2(x))\n",
    "        x = self.fc3(x)\n",
    "\n",
    "        return x \n",
    "        \n",
    "\n",
    "net = Net()"
   ]
  },
  {
   "cell_type": "markdown",
   "metadata": {},
   "source": [
    "## Initial Model Training"
   ]
  },
  {
   "cell_type": "code",
   "execution_count": 117,
   "metadata": {},
   "outputs": [],
   "source": [
    "def train(net, optimizer, dataloader, num_epochs=2):\n",
    "    loss_fn = torch.nn.CrossEntropyLoss()\n",
    "\n",
    "    for e in range(num_epochs):\n",
    "        cumulative_loss = 0\n",
    "        loss_window = len(dataloader) // 10\n",
    "        for i, (batch, labels) in enumerate(dataloader, 1):\n",
    "            optimizer.zero_grad()\n",
    "\n",
    "            preds = net(batch)\n",
    "            loss = loss_fn(preds, labels)\n",
    "            loss.backward()\n",
    "            optimizer.step()\n",
    "\n",
    "            cumulative_loss += loss\n",
    "\n",
    "            if i % loss_window == 0:\n",
    "                print(f\"Loss at epoch {e+1}, batch {i}: {cumulative_loss / loss_window :.2f}\")\n",
    "                cumulative_loss = 0"
   ]
  },
  {
   "cell_type": "code",
   "execution_count": 118,
   "metadata": {},
   "outputs": [
    {
     "name": "stdout",
     "output_type": "stream",
     "text": [
      "Loss at epoch 1, batch 375: 0.92\n",
      "Loss at epoch 1, batch 750: 0.28\n",
      "Loss at epoch 1, batch 1125: 0.23\n",
      "Loss at epoch 1, batch 1500: 0.18\n",
      "Loss at epoch 1, batch 1875: 0.15\n",
      "Loss at epoch 1, batch 2250: 0.13\n",
      "Loss at epoch 1, batch 2625: 0.12\n",
      "Loss at epoch 1, batch 3000: 0.12\n",
      "Loss at epoch 1, batch 3375: 0.11\n",
      "Loss at epoch 1, batch 3750: 0.11\n",
      "Loss at epoch 2, batch 375: 0.11\n",
      "Loss at epoch 2, batch 750: 0.10\n",
      "Loss at epoch 2, batch 1125: 0.10\n",
      "Loss at epoch 2, batch 1500: 0.09\n",
      "Loss at epoch 2, batch 1875: 0.08\n",
      "Loss at epoch 2, batch 2250: 0.09\n",
      "Loss at epoch 2, batch 2625: 0.08\n",
      "Loss at epoch 2, batch 3000: 0.08\n",
      "Loss at epoch 2, batch 3375: 0.08\n",
      "Loss at epoch 2, batch 3750: 0.09\n"
     ]
    }
   ],
   "source": [
    "optimizer = torch.optim.Adam(net.parameters(), lr = 0.001)\n",
    "num_epochs = 2\n",
    "\n",
    "train(net, optimizer, trainloader, num_epochs)"
   ]
  },
  {
   "cell_type": "code",
   "execution_count": 119,
   "metadata": {},
   "outputs": [],
   "source": [
    "torch.onnx.export(net, batch, \"mnist_test_pretrained.onnx\", do_constant_folding=False)"
   ]
  },
  {
   "cell_type": "markdown",
   "metadata": {},
   "source": [
    "## Doing some inference"
   ]
  },
  {
   "cell_type": "code",
   "execution_count": 120,
   "metadata": {},
   "outputs": [
    {
     "data": {
      "application/vnd.plotly.v1+json": {
       "config": {
        "plotlyServerURL": "https://plot.ly"
       },
       "data": [
        {
         "hovertemplate": "x: %{x}<br>y: %{y}<extra></extra>",
         "name": "0",
         "source": "data:image/png;base64,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",
         "type": "image",
         "xaxis": "x",
         "yaxis": "y"
        }
       ],
       "layout": {
        "margin": {
         "b": 0,
         "l": 0,
         "r": 0,
         "t": 0
        },
        "template": {
         "data": {
          "bar": [
           {
            "error_x": {
             "color": "#2a3f5f"
            },
            "error_y": {
             "color": "#2a3f5f"
            },
            "marker": {
             "line": {
              "color": "#E5ECF6",
              "width": 0.5
             },
             "pattern": {
              "fillmode": "overlay",
              "size": 10,
              "solidity": 0.2
             }
            },
            "type": "bar"
           }
          ],
          "barpolar": [
           {
            "marker": {
             "line": {
              "color": "#E5ECF6",
              "width": 0.5
             },
             "pattern": {
              "fillmode": "overlay",
              "size": 10,
              "solidity": 0.2
             }
            },
            "type": "barpolar"
           }
          ],
          "carpet": [
           {
            "aaxis": {
             "endlinecolor": "#2a3f5f",
             "gridcolor": "white",
             "linecolor": "white",
             "minorgridcolor": "white",
             "startlinecolor": "#2a3f5f"
            },
            "baxis": {
             "endlinecolor": "#2a3f5f",
             "gridcolor": "white",
             "linecolor": "white",
             "minorgridcolor": "white",
             "startlinecolor": "#2a3f5f"
            },
            "type": "carpet"
           }
          ],
          "choropleth": [
           {
            "colorbar": {
             "outlinewidth": 0,
             "ticks": ""
            },
            "type": "choropleth"
           }
          ],
          "contour": [
           {
            "colorbar": {
             "outlinewidth": 0,
             "ticks": ""
            },
            "colorscale": [
             [
              0,
              "#0d0887"
             ],
             [
              0.1111111111111111,
              "#46039f"
             ],
             [
              0.2222222222222222,
              "#7201a8"
             ],
             [
              0.3333333333333333,
              "#9c179e"
             ],
             [
              0.4444444444444444,
              "#bd3786"
             ],
             [
              0.5555555555555556,
              "#d8576b"
             ],
             [
              0.6666666666666666,
              "#ed7953"
             ],
             [
              0.7777777777777778,
              "#fb9f3a"
             ],
             [
              0.8888888888888888,
              "#fdca26"
             ],
             [
              1,
              "#f0f921"
             ]
            ],
            "type": "contour"
           }
          ],
          "contourcarpet": [
           {
            "colorbar": {
             "outlinewidth": 0,
             "ticks": ""
            },
            "type": "contourcarpet"
           }
          ],
          "heatmap": [
           {
            "colorbar": {
             "outlinewidth": 0,
             "ticks": ""
            },
            "colorscale": [
             [
              0,
              "#0d0887"
             ],
             [
              0.1111111111111111,
              "#46039f"
             ],
             [
              0.2222222222222222,
              "#7201a8"
             ],
             [
              0.3333333333333333,
              "#9c179e"
             ],
             [
              0.4444444444444444,
              "#bd3786"
             ],
             [
              0.5555555555555556,
              "#d8576b"
             ],
             [
              0.6666666666666666,
              "#ed7953"
             ],
             [
              0.7777777777777778,
              "#fb9f3a"
             ],
             [
              0.8888888888888888,
              "#fdca26"
             ],
             [
              1,
              "#f0f921"
             ]
            ],
            "type": "heatmap"
           }
          ],
          "heatmapgl": [
           {
            "colorbar": {
             "outlinewidth": 0,
             "ticks": ""
            },
            "colorscale": [
             [
              0,
              "#0d0887"
             ],
             [
              0.1111111111111111,
              "#46039f"
             ],
             [
              0.2222222222222222,
              "#7201a8"
             ],
             [
              0.3333333333333333,
              "#9c179e"
             ],
             [
              0.4444444444444444,
              "#bd3786"
             ],
             [
              0.5555555555555556,
              "#d8576b"
             ],
             [
              0.6666666666666666,
              "#ed7953"
             ],
             [
              0.7777777777777778,
              "#fb9f3a"
             ],
             [
              0.8888888888888888,
              "#fdca26"
             ],
             [
              1,
              "#f0f921"
             ]
            ],
            "type": "heatmapgl"
           }
          ],
          "histogram": [
           {
            "marker": {
             "pattern": {
              "fillmode": "overlay",
              "size": 10,
              "solidity": 0.2
             }
            },
            "type": "histogram"
           }
          ],
          "histogram2d": [
           {
            "colorbar": {
             "outlinewidth": 0,
             "ticks": ""
            },
            "colorscale": [
             [
              0,
              "#0d0887"
             ],
             [
              0.1111111111111111,
              "#46039f"
             ],
             [
              0.2222222222222222,
              "#7201a8"
             ],
             [
              0.3333333333333333,
              "#9c179e"
             ],
             [
              0.4444444444444444,
              "#bd3786"
             ],
             [
              0.5555555555555556,
              "#d8576b"
             ],
             [
              0.6666666666666666,
              "#ed7953"
             ],
             [
              0.7777777777777778,
              "#fb9f3a"
             ],
             [
              0.8888888888888888,
              "#fdca26"
             ],
             [
              1,
              "#f0f921"
             ]
            ],
            "type": "histogram2d"
           }
          ],
          "histogram2dcontour": [
           {
            "colorbar": {
             "outlinewidth": 0,
             "ticks": ""
            },
            "colorscale": [
             [
              0,
              "#0d0887"
             ],
             [
              0.1111111111111111,
              "#46039f"
             ],
             [
              0.2222222222222222,
              "#7201a8"
             ],
             [
              0.3333333333333333,
              "#9c179e"
             ],
             [
              0.4444444444444444,
              "#bd3786"
             ],
             [
              0.5555555555555556,
              "#d8576b"
             ],
             [
              0.6666666666666666,
              "#ed7953"
             ],
             [
              0.7777777777777778,
              "#fb9f3a"
             ],
             [
              0.8888888888888888,
              "#fdca26"
             ],
             [
              1,
              "#f0f921"
             ]
            ],
            "type": "histogram2dcontour"
           }
          ],
          "mesh3d": [
           {
            "colorbar": {
             "outlinewidth": 0,
             "ticks": ""
            },
            "type": "mesh3d"
           }
          ],
          "parcoords": [
           {
            "line": {
             "colorbar": {
              "outlinewidth": 0,
              "ticks": ""
             }
            },
            "type": "parcoords"
           }
          ],
          "pie": [
           {
            "automargin": true,
            "type": "pie"
           }
          ],
          "scatter": [
           {
            "marker": {
             "colorbar": {
              "outlinewidth": 0,
              "ticks": ""
             }
            },
            "type": "scatter"
           }
          ],
          "scatter3d": [
           {
            "line": {
             "colorbar": {
              "outlinewidth": 0,
              "ticks": ""
             }
            },
            "marker": {
             "colorbar": {
              "outlinewidth": 0,
              "ticks": ""
             }
            },
            "type": "scatter3d"
           }
          ],
          "scattercarpet": [
           {
            "marker": {
             "colorbar": {
              "outlinewidth": 0,
              "ticks": ""
             }
            },
            "type": "scattercarpet"
           }
          ],
          "scattergeo": [
           {
            "marker": {
             "colorbar": {
              "outlinewidth": 0,
              "ticks": ""
             }
            },
            "type": "scattergeo"
           }
          ],
          "scattergl": [
           {
            "marker": {
             "colorbar": {
              "outlinewidth": 0,
              "ticks": ""
             }
            },
            "type": "scattergl"
           }
          ],
          "scattermapbox": [
           {
            "marker": {
             "colorbar": {
              "outlinewidth": 0,
              "ticks": ""
             }
            },
            "type": "scattermapbox"
           }
          ],
          "scatterpolar": [
           {
            "marker": {
             "colorbar": {
              "outlinewidth": 0,
              "ticks": ""
             }
            },
            "type": "scatterpolar"
           }
          ],
          "scatterpolargl": [
           {
            "marker": {
             "colorbar": {
              "outlinewidth": 0,
              "ticks": ""
             }
            },
            "type": "scatterpolargl"
           }
          ],
          "scatterternary": [
           {
            "marker": {
             "colorbar": {
              "outlinewidth": 0,
              "ticks": ""
             }
            },
            "type": "scatterternary"
           }
          ],
          "surface": [
           {
            "colorbar": {
             "outlinewidth": 0,
             "ticks": ""
            },
            "colorscale": [
             [
              0,
              "#0d0887"
             ],
             [
              0.1111111111111111,
              "#46039f"
             ],
             [
              0.2222222222222222,
              "#7201a8"
             ],
             [
              0.3333333333333333,
              "#9c179e"
             ],
             [
              0.4444444444444444,
              "#bd3786"
             ],
             [
              0.5555555555555556,
              "#d8576b"
             ],
             [
              0.6666666666666666,
              "#ed7953"
             ],
             [
              0.7777777777777778,
              "#fb9f3a"
             ],
             [
              0.8888888888888888,
              "#fdca26"
             ],
             [
              1,
              "#f0f921"
             ]
            ],
            "type": "surface"
           }
          ],
          "table": [
           {
            "cells": {
             "fill": {
              "color": "#EBF0F8"
             },
             "line": {
              "color": "white"
             }
            },
            "header": {
             "fill": {
              "color": "#C8D4E3"
             },
             "line": {
              "color": "white"
             }
            },
            "type": "table"
           }
          ]
         },
         "layout": {
          "annotationdefaults": {
           "arrowcolor": "#2a3f5f",
           "arrowhead": 0,
           "arrowwidth": 1
          },
          "autotypenumbers": "strict",
          "coloraxis": {
           "colorbar": {
            "outlinewidth": 0,
            "ticks": ""
           }
          },
          "colorscale": {
           "diverging": [
            [
             0,
             "#8e0152"
            ],
            [
             0.1,
             "#c51b7d"
            ],
            [
             0.2,
             "#de77ae"
            ],
            [
             0.3,
             "#f1b6da"
            ],
            [
             0.4,
             "#fde0ef"
            ],
            [
             0.5,
             "#f7f7f7"
            ],
            [
             0.6,
             "#e6f5d0"
            ],
            [
             0.7,
             "#b8e186"
            ],
            [
             0.8,
             "#7fbc41"
            ],
            [
             0.9,
             "#4d9221"
            ],
            [
             1,
             "#276419"
            ]
           ],
           "sequential": [
            [
             0,
             "#0d0887"
            ],
            [
             0.1111111111111111,
             "#46039f"
            ],
            [
             0.2222222222222222,
             "#7201a8"
            ],
            [
             0.3333333333333333,
             "#9c179e"
            ],
            [
             0.4444444444444444,
             "#bd3786"
            ],
            [
             0.5555555555555556,
             "#d8576b"
            ],
            [
             0.6666666666666666,
             "#ed7953"
            ],
            [
             0.7777777777777778,
             "#fb9f3a"
            ],
            [
             0.8888888888888888,
             "#fdca26"
            ],
            [
             1,
             "#f0f921"
            ]
           ],
           "sequentialminus": [
            [
             0,
             "#0d0887"
            ],
            [
             0.1111111111111111,
             "#46039f"
            ],
            [
             0.2222222222222222,
             "#7201a8"
            ],
            [
             0.3333333333333333,
             "#9c179e"
            ],
            [
             0.4444444444444444,
             "#bd3786"
            ],
            [
             0.5555555555555556,
             "#d8576b"
            ],
            [
             0.6666666666666666,
             "#ed7953"
            ],
            [
             0.7777777777777778,
             "#fb9f3a"
            ],
            [
             0.8888888888888888,
             "#fdca26"
            ],
            [
             1,
             "#f0f921"
            ]
           ]
          },
          "colorway": [
           "#636efa",
           "#EF553B",
           "#00cc96",
           "#ab63fa",
           "#FFA15A",
           "#19d3f3",
           "#FF6692",
           "#B6E880",
           "#FF97FF",
           "#FECB52"
          ],
          "font": {
           "color": "#2a3f5f"
          },
          "geo": {
           "bgcolor": "white",
           "lakecolor": "white",
           "landcolor": "#E5ECF6",
           "showlakes": true,
           "showland": true,
           "subunitcolor": "white"
          },
          "hoverlabel": {
           "align": "left"
          },
          "hovermode": "closest",
          "mapbox": {
           "style": "light"
          },
          "paper_bgcolor": "white",
          "plot_bgcolor": "#E5ECF6",
          "polar": {
           "angularaxis": {
            "gridcolor": "white",
            "linecolor": "white",
            "ticks": ""
           },
           "bgcolor": "#E5ECF6",
           "radialaxis": {
            "gridcolor": "white",
            "linecolor": "white",
            "ticks": ""
           }
          },
          "scene": {
           "xaxis": {
            "backgroundcolor": "#E5ECF6",
            "gridcolor": "white",
            "gridwidth": 2,
            "linecolor": "white",
            "showbackground": true,
            "ticks": "",
            "zerolinecolor": "white"
           },
           "yaxis": {
            "backgroundcolor": "#E5ECF6",
            "gridcolor": "white",
            "gridwidth": 2,
            "linecolor": "white",
            "showbackground": true,
            "ticks": "",
            "zerolinecolor": "white"
           },
           "zaxis": {
            "backgroundcolor": "#E5ECF6",
            "gridcolor": "white",
            "gridwidth": 2,
            "linecolor": "white",
            "showbackground": true,
            "ticks": "",
            "zerolinecolor": "white"
           }
          },
          "shapedefaults": {
           "line": {
            "color": "#2a3f5f"
           }
          },
          "ternary": {
           "aaxis": {
            "gridcolor": "white",
            "linecolor": "white",
            "ticks": ""
           },
           "baxis": {
            "gridcolor": "white",
            "linecolor": "white",
            "ticks": ""
           },
           "bgcolor": "#E5ECF6",
           "caxis": {
            "gridcolor": "white",
            "linecolor": "white",
            "ticks": ""
           }
          },
          "title": {
           "x": 0.05
          },
          "xaxis": {
           "automargin": true,
           "gridcolor": "white",
           "linecolor": "white",
           "ticks": "",
           "title": {
            "standoff": 15
           },
           "zerolinecolor": "white",
           "zerolinewidth": 2
          },
          "yaxis": {
           "automargin": true,
           "gridcolor": "white",
           "linecolor": "white",
           "ticks": "",
           "title": {
            "standoff": 15
           },
           "zerolinecolor": "white",
           "zerolinewidth": 2
          }
         }
        },
        "xaxis": {
         "anchor": "y",
         "domain": [
          0,
          1
         ],
         "showticklabels": false
        },
        "yaxis": {
         "anchor": "x",
         "domain": [
          0,
          1
         ],
         "showticklabels": false
        }
       }
      }
     },
     "metadata": {},
     "output_type": "display_data"
    },
    {
     "name": "stdout",
     "output_type": "stream",
     "text": [
      "[8, 6, 7, 9, 8, 7, 3, 2, 7, 0, 1, 9, 8, 3, 1, 3]\n",
      "[8, 6, 7, 9, 8, 7, 3, 2, 1, 0, 1, 9, 8, 3, 1, 3]\n"
     ]
    }
   ],
   "source": [
    "import numpy as np\n",
    "\n",
    "images, labels = next(test_iter)\n",
    "\n",
    "imshow(torchvision.utils.make_grid(images))\n",
    "\n",
    "print(list(torch.argmax(net(images), axis=1).numpy()))\n",
    "print([l.item() for l in labels])"
   ]
  },
  {
   "cell_type": "markdown",
   "metadata": {},
   "source": [
    "## Evaluating the Model"
   ]
  },
  {
   "cell_type": "code",
   "execution_count": 121,
   "metadata": {},
   "outputs": [],
   "source": [
    "def evaluate_model(net, dataloader, class_specific_performance=False):\n",
    "    if not class_specific_performance:\n",
    "        correct, total = (0, 0)\n",
    "    else:        \n",
    "        correct = {digit: 0 for digit in range(10)}\n",
    "        total = {digit: 0 for digit in range(10)}\n",
    "\n",
    "    with torch.no_grad():\n",
    "        for (batch, labels) in dataloader:\n",
    "            outputs = net(batch)\n",
    "            preds = torch.argmax(outputs, 1)\n",
    "\n",
    "            if not class_specific_performance:\n",
    "                total += labels.shape[0]\n",
    "                correct += torch.sum(preds == labels).item()\n",
    "            else:\n",
    "                for label, pred in zip(labels, preds):                \n",
    "                    if pred == label:\n",
    "                        correct[label.item()] += 1\n",
    "                    total[label.item()] += 1\n",
    "    return correct, total"
   ]
  },
  {
   "cell_type": "code",
   "execution_count": 122,
   "metadata": {},
   "outputs": [
    {
     "name": "stdout",
     "output_type": "stream",
     "text": [
      "The model classified 9780 digits correctly, out of 10000 total, for an accuracy of 97.80%\n"
     ]
    }
   ],
   "source": [
    "correct, total = evaluate_model(net, testloader)\n",
    "\n",
    "print(f\"The model classified {correct} digits correctly, out of {total} total, for an accuracy of {correct * 100 / total :.2f}%\")"
   ]
  },
  {
   "cell_type": "markdown",
   "metadata": {},
   "source": [
    "## But how does it perform in the rotated context?"
   ]
  },
  {
   "cell_type": "code",
   "execution_count": 123,
   "metadata": {},
   "outputs": [
    {
     "name": "stdout",
     "output_type": "stream",
     "text": [
      "The model classified 8090 rotated digits correctly, out of 10000 total, for an accuracy of 80.90%\n"
     ]
    }
   ],
   "source": [
    "correct, total = evaluate_model(net, rotated_testloader, class_specific_performance=True)\n",
    "c = sum(correct.values())\n",
    "t = sum(total.values())\n",
    "print(f\"The model classified {c} rotated digits correctly, out of {t} total, for an accuracy of {c * 100 / t :.2f}%\")"
   ]
  },
  {
   "cell_type": "markdown",
   "metadata": {},
   "source": [
    "Open Question: Why does this change on each run?"
   ]
  },
  {
   "cell_type": "code",
   "execution_count": 124,
   "metadata": {},
   "outputs": [
    {
     "data": {
      "application/vnd.plotly.v1+json": {
       "config": {
        "plotlyServerURL": "https://plot.ly"
       },
       "data": [
        {
         "alignmentgroup": "True",
         "hovertemplate": "digit=%{x}<br>Classification Success Rate=%{y}<extra></extra>",
         "legendgroup": "",
         "marker": {
          "color": "#636efa",
          "pattern": {
           "shape": ""
          }
         },
         "name": "",
         "offsetgroup": "",
         "orientation": "v",
         "showlegend": false,
         "textposition": "auto",
         "type": "bar",
         "x": [
          0,
          1,
          2,
          3,
          4,
          5,
          6,
          7,
          8,
          9
         ],
         "xaxis": "x",
         "y": [
          0.954,
          1.017,
          0.825,
          0.839,
          0.704,
          0.74,
          0.853,
          0.754,
          0.7,
          0.704
         ],
         "yaxis": "y"
        }
       ],
       "layout": {
        "barmode": "relative",
        "legend": {
         "tracegroupgap": 0
        },
        "margin": {
         "t": 60
        },
        "template": {
         "data": {
          "bar": [
           {
            "error_x": {
             "color": "#2a3f5f"
            },
            "error_y": {
             "color": "#2a3f5f"
            },
            "marker": {
             "line": {
              "color": "#E5ECF6",
              "width": 0.5
             },
             "pattern": {
              "fillmode": "overlay",
              "size": 10,
              "solidity": 0.2
             }
            },
            "type": "bar"
           }
          ],
          "barpolar": [
           {
            "marker": {
             "line": {
              "color": "#E5ECF6",
              "width": 0.5
             },
             "pattern": {
              "fillmode": "overlay",
              "size": 10,
              "solidity": 0.2
             }
            },
            "type": "barpolar"
           }
          ],
          "carpet": [
           {
            "aaxis": {
             "endlinecolor": "#2a3f5f",
             "gridcolor": "white",
             "linecolor": "white",
             "minorgridcolor": "white",
             "startlinecolor": "#2a3f5f"
            },
            "baxis": {
             "endlinecolor": "#2a3f5f",
             "gridcolor": "white",
             "linecolor": "white",
             "minorgridcolor": "white",
             "startlinecolor": "#2a3f5f"
            },
            "type": "carpet"
           }
          ],
          "choropleth": [
           {
            "colorbar": {
             "outlinewidth": 0,
             "ticks": ""
            },
            "type": "choropleth"
           }
          ],
          "contour": [
           {
            "colorbar": {
             "outlinewidth": 0,
             "ticks": ""
            },
            "colorscale": [
             [
              0,
              "#0d0887"
             ],
             [
              0.1111111111111111,
              "#46039f"
             ],
             [
              0.2222222222222222,
              "#7201a8"
             ],
             [
              0.3333333333333333,
              "#9c179e"
             ],
             [
              0.4444444444444444,
              "#bd3786"
             ],
             [
              0.5555555555555556,
              "#d8576b"
             ],
             [
              0.6666666666666666,
              "#ed7953"
             ],
             [
              0.7777777777777778,
              "#fb9f3a"
             ],
             [
              0.8888888888888888,
              "#fdca26"
             ],
             [
              1,
              "#f0f921"
             ]
            ],
            "type": "contour"
           }
          ],
          "contourcarpet": [
           {
            "colorbar": {
             "outlinewidth": 0,
             "ticks": ""
            },
            "type": "contourcarpet"
           }
          ],
          "heatmap": [
           {
            "colorbar": {
             "outlinewidth": 0,
             "ticks": ""
            },
            "colorscale": [
             [
              0,
              "#0d0887"
             ],
             [
              0.1111111111111111,
              "#46039f"
             ],
             [
              0.2222222222222222,
              "#7201a8"
             ],
             [
              0.3333333333333333,
              "#9c179e"
             ],
             [
              0.4444444444444444,
              "#bd3786"
             ],
             [
              0.5555555555555556,
              "#d8576b"
             ],
             [
              0.6666666666666666,
              "#ed7953"
             ],
             [
              0.7777777777777778,
              "#fb9f3a"
             ],
             [
              0.8888888888888888,
              "#fdca26"
             ],
             [
              1,
              "#f0f921"
             ]
            ],
            "type": "heatmap"
           }
          ],
          "heatmapgl": [
           {
            "colorbar": {
             "outlinewidth": 0,
             "ticks": ""
            },
            "colorscale": [
             [
              0,
              "#0d0887"
             ],
             [
              0.1111111111111111,
              "#46039f"
             ],
             [
              0.2222222222222222,
              "#7201a8"
             ],
             [
              0.3333333333333333,
              "#9c179e"
             ],
             [
              0.4444444444444444,
              "#bd3786"
             ],
             [
              0.5555555555555556,
              "#d8576b"
             ],
             [
              0.6666666666666666,
              "#ed7953"
             ],
             [
              0.7777777777777778,
              "#fb9f3a"
             ],
             [
              0.8888888888888888,
              "#fdca26"
             ],
             [
              1,
              "#f0f921"
             ]
            ],
            "type": "heatmapgl"
           }
          ],
          "histogram": [
           {
            "marker": {
             "pattern": {
              "fillmode": "overlay",
              "size": 10,
              "solidity": 0.2
             }
            },
            "type": "histogram"
           }
          ],
          "histogram2d": [
           {
            "colorbar": {
             "outlinewidth": 0,
             "ticks": ""
            },
            "colorscale": [
             [
              0,
              "#0d0887"
             ],
             [
              0.1111111111111111,
              "#46039f"
             ],
             [
              0.2222222222222222,
              "#7201a8"
             ],
             [
              0.3333333333333333,
              "#9c179e"
             ],
             [
              0.4444444444444444,
              "#bd3786"
             ],
             [
              0.5555555555555556,
              "#d8576b"
             ],
             [
              0.6666666666666666,
              "#ed7953"
             ],
             [
              0.7777777777777778,
              "#fb9f3a"
             ],
             [
              0.8888888888888888,
              "#fdca26"
             ],
             [
              1,
              "#f0f921"
             ]
            ],
            "type": "histogram2d"
           }
          ],
          "histogram2dcontour": [
           {
            "colorbar": {
             "outlinewidth": 0,
             "ticks": ""
            },
            "colorscale": [
             [
              0,
              "#0d0887"
             ],
             [
              0.1111111111111111,
              "#46039f"
             ],
             [
              0.2222222222222222,
              "#7201a8"
             ],
             [
              0.3333333333333333,
              "#9c179e"
             ],
             [
              0.4444444444444444,
              "#bd3786"
             ],
             [
              0.5555555555555556,
              "#d8576b"
             ],
             [
              0.6666666666666666,
              "#ed7953"
             ],
             [
              0.7777777777777778,
              "#fb9f3a"
             ],
             [
              0.8888888888888888,
              "#fdca26"
             ],
             [
              1,
              "#f0f921"
             ]
            ],
            "type": "histogram2dcontour"
           }
          ],
          "mesh3d": [
           {
            "colorbar": {
             "outlinewidth": 0,
             "ticks": ""
            },
            "type": "mesh3d"
           }
          ],
          "parcoords": [
           {
            "line": {
             "colorbar": {
              "outlinewidth": 0,
              "ticks": ""
             }
            },
            "type": "parcoords"
           }
          ],
          "pie": [
           {
            "automargin": true,
            "type": "pie"
           }
          ],
          "scatter": [
           {
            "marker": {
             "colorbar": {
              "outlinewidth": 0,
              "ticks": ""
             }
            },
            "type": "scatter"
           }
          ],
          "scatter3d": [
           {
            "line": {
             "colorbar": {
              "outlinewidth": 0,
              "ticks": ""
             }
            },
            "marker": {
             "colorbar": {
              "outlinewidth": 0,
              "ticks": ""
             }
            },
            "type": "scatter3d"
           }
          ],
          "scattercarpet": [
           {
            "marker": {
             "colorbar": {
              "outlinewidth": 0,
              "ticks": ""
             }
            },
            "type": "scattercarpet"
           }
          ],
          "scattergeo": [
           {
            "marker": {
             "colorbar": {
              "outlinewidth": 0,
              "ticks": ""
             }
            },
            "type": "scattergeo"
           }
          ],
          "scattergl": [
           {
            "marker": {
             "colorbar": {
              "outlinewidth": 0,
              "ticks": ""
             }
            },
            "type": "scattergl"
           }
          ],
          "scattermapbox": [
           {
            "marker": {
             "colorbar": {
              "outlinewidth": 0,
              "ticks": ""
             }
            },
            "type": "scattermapbox"
           }
          ],
          "scatterpolar": [
           {
            "marker": {
             "colorbar": {
              "outlinewidth": 0,
              "ticks": ""
             }
            },
            "type": "scatterpolar"
           }
          ],
          "scatterpolargl": [
           {
            "marker": {
             "colorbar": {
              "outlinewidth": 0,
              "ticks": ""
             }
            },
            "type": "scatterpolargl"
           }
          ],
          "scatterternary": [
           {
            "marker": {
             "colorbar": {
              "outlinewidth": 0,
              "ticks": ""
             }
            },
            "type": "scatterternary"
           }
          ],
          "surface": [
           {
            "colorbar": {
             "outlinewidth": 0,
             "ticks": ""
            },
            "colorscale": [
             [
              0,
              "#0d0887"
             ],
             [
              0.1111111111111111,
              "#46039f"
             ],
             [
              0.2222222222222222,
              "#7201a8"
             ],
             [
              0.3333333333333333,
              "#9c179e"
             ],
             [
              0.4444444444444444,
              "#bd3786"
             ],
             [
              0.5555555555555556,
              "#d8576b"
             ],
             [
              0.6666666666666666,
              "#ed7953"
             ],
             [
              0.7777777777777778,
              "#fb9f3a"
             ],
             [
              0.8888888888888888,
              "#fdca26"
             ],
             [
              1,
              "#f0f921"
             ]
            ],
            "type": "surface"
           }
          ],
          "table": [
           {
            "cells": {
             "fill": {
              "color": "#EBF0F8"
             },
             "line": {
              "color": "white"
             }
            },
            "header": {
             "fill": {
              "color": "#C8D4E3"
             },
             "line": {
              "color": "white"
             }
            },
            "type": "table"
           }
          ]
         },
         "layout": {
          "annotationdefaults": {
           "arrowcolor": "#2a3f5f",
           "arrowhead": 0,
           "arrowwidth": 1
          },
          "autotypenumbers": "strict",
          "coloraxis": {
           "colorbar": {
            "outlinewidth": 0,
            "ticks": ""
           }
          },
          "colorscale": {
           "diverging": [
            [
             0,
             "#8e0152"
            ],
            [
             0.1,
             "#c51b7d"
            ],
            [
             0.2,
             "#de77ae"
            ],
            [
             0.3,
             "#f1b6da"
            ],
            [
             0.4,
             "#fde0ef"
            ],
            [
             0.5,
             "#f7f7f7"
            ],
            [
             0.6,
             "#e6f5d0"
            ],
            [
             0.7,
             "#b8e186"
            ],
            [
             0.8,
             "#7fbc41"
            ],
            [
             0.9,
             "#4d9221"
            ],
            [
             1,
             "#276419"
            ]
           ],
           "sequential": [
            [
             0,
             "#0d0887"
            ],
            [
             0.1111111111111111,
             "#46039f"
            ],
            [
             0.2222222222222222,
             "#7201a8"
            ],
            [
             0.3333333333333333,
             "#9c179e"
            ],
            [
             0.4444444444444444,
             "#bd3786"
            ],
            [
             0.5555555555555556,
             "#d8576b"
            ],
            [
             0.6666666666666666,
             "#ed7953"
            ],
            [
             0.7777777777777778,
             "#fb9f3a"
            ],
            [
             0.8888888888888888,
             "#fdca26"
            ],
            [
             1,
             "#f0f921"
            ]
           ],
           "sequentialminus": [
            [
             0,
             "#0d0887"
            ],
            [
             0.1111111111111111,
             "#46039f"
            ],
            [
             0.2222222222222222,
             "#7201a8"
            ],
            [
             0.3333333333333333,
             "#9c179e"
            ],
            [
             0.4444444444444444,
             "#bd3786"
            ],
            [
             0.5555555555555556,
             "#d8576b"
            ],
            [
             0.6666666666666666,
             "#ed7953"
            ],
            [
             0.7777777777777778,
             "#fb9f3a"
            ],
            [
             0.8888888888888888,
             "#fdca26"
            ],
            [
             1,
             "#f0f921"
            ]
           ]
          },
          "colorway": [
           "#636efa",
           "#EF553B",
           "#00cc96",
           "#ab63fa",
           "#FFA15A",
           "#19d3f3",
           "#FF6692",
           "#B6E880",
           "#FF97FF",
           "#FECB52"
          ],
          "font": {
           "color": "#2a3f5f"
          },
          "geo": {
           "bgcolor": "white",
           "lakecolor": "white",
           "landcolor": "#E5ECF6",
           "showlakes": true,
           "showland": true,
           "subunitcolor": "white"
          },
          "hoverlabel": {
           "align": "left"
          },
          "hovermode": "closest",
          "mapbox": {
           "style": "light"
          },
          "paper_bgcolor": "white",
          "plot_bgcolor": "#E5ECF6",
          "polar": {
           "angularaxis": {
            "gridcolor": "white",
            "linecolor": "white",
            "ticks": ""
           },
           "bgcolor": "#E5ECF6",
           "radialaxis": {
            "gridcolor": "white",
            "linecolor": "white",
            "ticks": ""
           }
          },
          "scene": {
           "xaxis": {
            "backgroundcolor": "#E5ECF6",
            "gridcolor": "white",
            "gridwidth": 2,
            "linecolor": "white",
            "showbackground": true,
            "ticks": "",
            "zerolinecolor": "white"
           },
           "yaxis": {
            "backgroundcolor": "#E5ECF6",
            "gridcolor": "white",
            "gridwidth": 2,
            "linecolor": "white",
            "showbackground": true,
            "ticks": "",
            "zerolinecolor": "white"
           },
           "zaxis": {
            "backgroundcolor": "#E5ECF6",
            "gridcolor": "white",
            "gridwidth": 2,
            "linecolor": "white",
            "showbackground": true,
            "ticks": "",
            "zerolinecolor": "white"
           }
          },
          "shapedefaults": {
           "line": {
            "color": "#2a3f5f"
           }
          },
          "ternary": {
           "aaxis": {
            "gridcolor": "white",
            "linecolor": "white",
            "ticks": ""
           },
           "baxis": {
            "gridcolor": "white",
            "linecolor": "white",
            "ticks": ""
           },
           "bgcolor": "#E5ECF6",
           "caxis": {
            "gridcolor": "white",
            "linecolor": "white",
            "ticks": ""
           }
          },
          "title": {
           "x": 0.05
          },
          "xaxis": {
           "automargin": true,
           "gridcolor": "white",
           "linecolor": "white",
           "ticks": "",
           "title": {
            "standoff": 15
           },
           "zerolinecolor": "white",
           "zerolinewidth": 2
          },
          "yaxis": {
           "automargin": true,
           "gridcolor": "white",
           "linecolor": "white",
           "ticks": "",
           "title": {
            "standoff": 15
           },
           "zerolinecolor": "white",
           "zerolinewidth": 2
          }
         }
        },
        "xaxis": {
         "anchor": "y",
         "domain": [
          0,
          1
         ],
         "tickmode": "linear",
         "title": {
          "text": "digit"
         }
        },
        "yaxis": {
         "anchor": "x",
         "domain": [
          0,
          1
         ],
         "range": [
          0,
          1
         ],
         "tickformat": ",.0%",
         "title": {
          "text": "Classification Success Rate"
         }
        }
       }
      }
     },
     "metadata": {},
     "output_type": "display_data"
    }
   ],
   "source": [
    "digits, counts = list(zip(*correct.items()))\n",
    "fig = px.bar(x = digits, y=np.array(counts)/1000, labels={'x': \"digit\", 'y': \"Classification Success Rate\"}, range_y=(0, 1))\n",
    "fig.update_layout(yaxis={\"tickformat\": \",.0%\"}, xaxis={\"tickmode\": \"linear\"})\n",
    "fig.show()"
   ]
  },
  {
   "cell_type": "markdown",
   "metadata": {},
   "source": [
    "## Now let's train the model again, this time using rotated data, and store the updates efficiently"
   ]
  },
  {
   "cell_type": "code",
   "execution_count": 125,
   "metadata": {},
   "outputs": [
    {
     "name": "stderr",
     "output_type": "stream",
     "text": [
      "/Users/montyevans/opt/miniconda3/envs/raffellab/lib/python3.9/site-packages/onnx2pytorch/convert/model.py:147: UserWarning:\n",
      "\n",
      "Using experimental implementation that allows 'batch_size > 1'.Batchnorm layers could potentially produce false outputs.\n",
      "\n"
     ]
    }
   ],
   "source": [
    "import onnx\n",
    "from onnx2pytorch import ConvertModel\n",
    "\n",
    "onnx_model = onnx.load(\"mnist_test_pretrained.onnx\")\n",
    "imported_pytorch_model = ConvertModel(onnx_model, experimental=True)"
   ]
  },
  {
   "cell_type": "markdown",
   "metadata": {},
   "source": [
    "Annoyingly, there is no native Pytorch implementation to import an ONNX model. However, I found an external library that attempts to do this, though it produces some strange results. Specifically, it adds several parameters to the model's state dict that I don't understand: they concern the weight and bias of the ReLUs, which I don't understand, since ReLUs have neither of those things."
   ]
  },
  {
   "cell_type": "code",
   "execution_count": 126,
   "metadata": {},
   "outputs": [
    {
     "name": "stdout",
     "output_type": "stream",
     "text": [
      "odict_keys(['_initializer_conv1_weight', '_initializer_conv1_bias', '_initializer_conv2_weight', '_initializer_conv2_bias', '_initializer_fc1_weight', '_initializer_fc1_bias', '_initializer_fc2_weight', '_initializer_fc2_bias', '_initializer_fc3_weight', '_initializer_fc3_bias', 'Conv_onnx::Relu_11.weight', 'Conv_onnx::Relu_11.bias', 'Conv_onnx::Relu_14.weight', 'Conv_onnx::Relu_14.bias', 'Gemm_onnx::Relu_18.weight', 'Gemm_onnx::Relu_18.bias', 'Gemm_onnx::Relu_20.weight', 'Gemm_onnx::Relu_20.bias', 'Gemm_22.weight', 'Gemm_22.bias'])\n",
      "\n",
      " ----- \n",
      "\n",
      "odict_keys(['conv1.weight', 'conv1.bias', 'conv2.weight', 'conv2.bias', 'fc1.weight', 'fc1.bias', 'fc2.weight', 'fc2.bias', 'fc3.weight', 'fc3.bias'])\n"
     ]
    }
   ],
   "source": [
    "print(imported_pytorch_model.state_dict().keys())\n",
    "print(\"\\n ----- \\n\")\n",
    "print(net.state_dict().keys())"
   ]
  },
  {
   "cell_type": "markdown",
   "metadata": {},
   "source": [
    "Nevertheless, we persist. Let's evaluate the imported model's performance and verify that it has similar performance to the original."
   ]
  },
  {
   "cell_type": "code",
   "execution_count": 127,
   "metadata": {},
   "outputs": [
    {
     "name": "stderr",
     "output_type": "stream",
     "text": [
      "/Users/montyevans/opt/miniconda3/envs/raffellab/lib/python3.9/site-packages/torch/nn/functional.py:749: UserWarning:\n",
      "\n",
      "Note that order of the arguments: ceil_mode and return_indices will changeto match the args list in nn.MaxPool2d in a future release.\n",
      "\n"
     ]
    },
    {
     "ename": "KeyboardInterrupt",
     "evalue": "",
     "output_type": "error",
     "traceback": [
      "\u001b[0;31m---------------------------------------------------------------------------\u001b[0m",
      "\u001b[0;31mKeyboardInterrupt\u001b[0m                         Traceback (most recent call last)",
      "\u001b[0;32m/var/folders/wk/44b1lq3s5tbf11plmxffm5fr0000gn/T/ipykernel_13085/6076855.py\u001b[0m in \u001b[0;36m<module>\u001b[0;34m\u001b[0m\n\u001b[1;32m      1\u001b[0m \u001b[0mcorrect_normal\u001b[0m\u001b[0;34m,\u001b[0m \u001b[0mtotal_normal\u001b[0m \u001b[0;34m=\u001b[0m \u001b[0mevaluate_model\u001b[0m\u001b[0;34m(\u001b[0m\u001b[0mimported_pytorch_model\u001b[0m\u001b[0;34m,\u001b[0m \u001b[0mtestloader\u001b[0m\u001b[0;34m)\u001b[0m\u001b[0;34m\u001b[0m\u001b[0;34m\u001b[0m\u001b[0m\n\u001b[0;32m----> 2\u001b[0;31m \u001b[0mcorrect_rotated\u001b[0m\u001b[0;34m,\u001b[0m \u001b[0mtotal_rotated\u001b[0m \u001b[0;34m=\u001b[0m \u001b[0mevaluate_model\u001b[0m\u001b[0;34m(\u001b[0m\u001b[0mimported_pytorch_model\u001b[0m\u001b[0;34m,\u001b[0m \u001b[0mrotated_testloader\u001b[0m\u001b[0;34m)\u001b[0m\u001b[0;34m\u001b[0m\u001b[0;34m\u001b[0m\u001b[0m\n\u001b[0m\u001b[1;32m      3\u001b[0m \u001b[0;34m\u001b[0m\u001b[0m\n\u001b[1;32m      4\u001b[0m \u001b[0mprint\u001b[0m\u001b[0;34m(\u001b[0m\u001b[0;34mf\"The imported model classified {correct_normal} digits correctly, out of {total_normal} total, for an accuracy of {correct_normal * 100 / total_normal :.2f}%\"\u001b[0m\u001b[0;34m)\u001b[0m\u001b[0;34m\u001b[0m\u001b[0;34m\u001b[0m\u001b[0m\n\u001b[1;32m      5\u001b[0m \u001b[0mprint\u001b[0m\u001b[0;34m(\u001b[0m\u001b[0;34mf\"The imported model classified {correct_rotated} rotated digits correctly, out of {total_rotated} total, for an accuracy of {correct_rotated * 100 / total_rotated :.2f}%\"\u001b[0m\u001b[0;34m)\u001b[0m\u001b[0;34m\u001b[0m\u001b[0;34m\u001b[0m\u001b[0m\n",
      "\u001b[0;32m/var/folders/wk/44b1lq3s5tbf11plmxffm5fr0000gn/T/ipykernel_13085/3740911994.py\u001b[0m in \u001b[0;36mevaluate_model\u001b[0;34m(net, dataloader, class_specific_performance)\u001b[0m\n\u001b[1;32m      7\u001b[0m \u001b[0;34m\u001b[0m\u001b[0m\n\u001b[1;32m      8\u001b[0m     \u001b[0;32mwith\u001b[0m \u001b[0mtorch\u001b[0m\u001b[0;34m.\u001b[0m\u001b[0mno_grad\u001b[0m\u001b[0;34m(\u001b[0m\u001b[0;34m)\u001b[0m\u001b[0;34m:\u001b[0m\u001b[0;34m\u001b[0m\u001b[0;34m\u001b[0m\u001b[0m\n\u001b[0;32m----> 9\u001b[0;31m         \u001b[0;32mfor\u001b[0m \u001b[0;34m(\u001b[0m\u001b[0mbatch\u001b[0m\u001b[0;34m,\u001b[0m \u001b[0mlabels\u001b[0m\u001b[0;34m)\u001b[0m \u001b[0;32min\u001b[0m \u001b[0mdataloader\u001b[0m\u001b[0;34m:\u001b[0m\u001b[0;34m\u001b[0m\u001b[0;34m\u001b[0m\u001b[0m\n\u001b[0m\u001b[1;32m     10\u001b[0m             \u001b[0moutputs\u001b[0m \u001b[0;34m=\u001b[0m \u001b[0mnet\u001b[0m\u001b[0;34m(\u001b[0m\u001b[0mbatch\u001b[0m\u001b[0;34m)\u001b[0m\u001b[0;34m\u001b[0m\u001b[0;34m\u001b[0m\u001b[0m\n\u001b[1;32m     11\u001b[0m             \u001b[0mpreds\u001b[0m \u001b[0;34m=\u001b[0m \u001b[0mtorch\u001b[0m\u001b[0;34m.\u001b[0m\u001b[0margmax\u001b[0m\u001b[0;34m(\u001b[0m\u001b[0moutputs\u001b[0m\u001b[0;34m,\u001b[0m \u001b[0;36m1\u001b[0m\u001b[0;34m)\u001b[0m\u001b[0;34m\u001b[0m\u001b[0;34m\u001b[0m\u001b[0m\n",
      "\u001b[0;32m~/opt/miniconda3/envs/raffellab/lib/python3.9/site-packages/torch/utils/data/dataloader.py\u001b[0m in \u001b[0;36m__next__\u001b[0;34m(self)\u001b[0m\n\u001b[1;32m    528\u001b[0m             \u001b[0;32mif\u001b[0m \u001b[0mself\u001b[0m\u001b[0;34m.\u001b[0m\u001b[0m_sampler_iter\u001b[0m \u001b[0;32mis\u001b[0m \u001b[0;32mNone\u001b[0m\u001b[0;34m:\u001b[0m\u001b[0;34m\u001b[0m\u001b[0;34m\u001b[0m\u001b[0m\n\u001b[1;32m    529\u001b[0m                 \u001b[0mself\u001b[0m\u001b[0;34m.\u001b[0m\u001b[0m_reset\u001b[0m\u001b[0;34m(\u001b[0m\u001b[0;34m)\u001b[0m\u001b[0;34m\u001b[0m\u001b[0;34m\u001b[0m\u001b[0m\n\u001b[0;32m--> 530\u001b[0;31m             \u001b[0mdata\u001b[0m \u001b[0;34m=\u001b[0m \u001b[0mself\u001b[0m\u001b[0;34m.\u001b[0m\u001b[0m_next_data\u001b[0m\u001b[0;34m(\u001b[0m\u001b[0;34m)\u001b[0m\u001b[0;34m\u001b[0m\u001b[0;34m\u001b[0m\u001b[0m\n\u001b[0m\u001b[1;32m    531\u001b[0m             \u001b[0mself\u001b[0m\u001b[0;34m.\u001b[0m\u001b[0m_num_yielded\u001b[0m \u001b[0;34m+=\u001b[0m \u001b[0;36m1\u001b[0m\u001b[0;34m\u001b[0m\u001b[0;34m\u001b[0m\u001b[0m\n\u001b[1;32m    532\u001b[0m             \u001b[0;32mif\u001b[0m \u001b[0mself\u001b[0m\u001b[0;34m.\u001b[0m\u001b[0m_dataset_kind\u001b[0m \u001b[0;34m==\u001b[0m \u001b[0m_DatasetKind\u001b[0m\u001b[0;34m.\u001b[0m\u001b[0mIterable\u001b[0m \u001b[0;32mand\u001b[0m\u001b[0;31m \u001b[0m\u001b[0;31m\\\u001b[0m\u001b[0;34m\u001b[0m\u001b[0;34m\u001b[0m\u001b[0m\n",
      "\u001b[0;32m~/opt/miniconda3/envs/raffellab/lib/python3.9/site-packages/torch/utils/data/dataloader.py\u001b[0m in \u001b[0;36m_next_data\u001b[0;34m(self)\u001b[0m\n\u001b[1;32m    568\u001b[0m     \u001b[0;32mdef\u001b[0m \u001b[0m_next_data\u001b[0m\u001b[0;34m(\u001b[0m\u001b[0mself\u001b[0m\u001b[0;34m)\u001b[0m\u001b[0;34m:\u001b[0m\u001b[0;34m\u001b[0m\u001b[0;34m\u001b[0m\u001b[0m\n\u001b[1;32m    569\u001b[0m         \u001b[0mindex\u001b[0m \u001b[0;34m=\u001b[0m \u001b[0mself\u001b[0m\u001b[0;34m.\u001b[0m\u001b[0m_next_index\u001b[0m\u001b[0;34m(\u001b[0m\u001b[0;34m)\u001b[0m  \u001b[0;31m# may raise StopIteration\u001b[0m\u001b[0;34m\u001b[0m\u001b[0;34m\u001b[0m\u001b[0m\n\u001b[0;32m--> 570\u001b[0;31m         \u001b[0mdata\u001b[0m \u001b[0;34m=\u001b[0m \u001b[0mself\u001b[0m\u001b[0;34m.\u001b[0m\u001b[0m_dataset_fetcher\u001b[0m\u001b[0;34m.\u001b[0m\u001b[0mfetch\u001b[0m\u001b[0;34m(\u001b[0m\u001b[0mindex\u001b[0m\u001b[0;34m)\u001b[0m  \u001b[0;31m# may raise StopIteration\u001b[0m\u001b[0;34m\u001b[0m\u001b[0;34m\u001b[0m\u001b[0m\n\u001b[0m\u001b[1;32m    571\u001b[0m         \u001b[0;32mif\u001b[0m \u001b[0mself\u001b[0m\u001b[0;34m.\u001b[0m\u001b[0m_pin_memory\u001b[0m\u001b[0;34m:\u001b[0m\u001b[0;34m\u001b[0m\u001b[0;34m\u001b[0m\u001b[0m\n\u001b[1;32m    572\u001b[0m             \u001b[0mdata\u001b[0m \u001b[0;34m=\u001b[0m \u001b[0m_utils\u001b[0m\u001b[0;34m.\u001b[0m\u001b[0mpin_memory\u001b[0m\u001b[0;34m.\u001b[0m\u001b[0mpin_memory\u001b[0m\u001b[0;34m(\u001b[0m\u001b[0mdata\u001b[0m\u001b[0;34m)\u001b[0m\u001b[0;34m\u001b[0m\u001b[0;34m\u001b[0m\u001b[0m\n",
      "\u001b[0;32m~/opt/miniconda3/envs/raffellab/lib/python3.9/site-packages/torch/utils/data/_utils/fetch.py\u001b[0m in \u001b[0;36mfetch\u001b[0;34m(self, possibly_batched_index)\u001b[0m\n\u001b[1;32m     47\u001b[0m     \u001b[0;32mdef\u001b[0m \u001b[0mfetch\u001b[0m\u001b[0;34m(\u001b[0m\u001b[0mself\u001b[0m\u001b[0;34m,\u001b[0m \u001b[0mpossibly_batched_index\u001b[0m\u001b[0;34m)\u001b[0m\u001b[0;34m:\u001b[0m\u001b[0;34m\u001b[0m\u001b[0;34m\u001b[0m\u001b[0m\n\u001b[1;32m     48\u001b[0m         \u001b[0;32mif\u001b[0m \u001b[0mself\u001b[0m\u001b[0;34m.\u001b[0m\u001b[0mauto_collation\u001b[0m\u001b[0;34m:\u001b[0m\u001b[0;34m\u001b[0m\u001b[0;34m\u001b[0m\u001b[0m\n\u001b[0;32m---> 49\u001b[0;31m             \u001b[0mdata\u001b[0m \u001b[0;34m=\u001b[0m \u001b[0;34m[\u001b[0m\u001b[0mself\u001b[0m\u001b[0;34m.\u001b[0m\u001b[0mdataset\u001b[0m\u001b[0;34m[\u001b[0m\u001b[0midx\u001b[0m\u001b[0;34m]\u001b[0m \u001b[0;32mfor\u001b[0m \u001b[0midx\u001b[0m \u001b[0;32min\u001b[0m \u001b[0mpossibly_batched_index\u001b[0m\u001b[0;34m]\u001b[0m\u001b[0;34m\u001b[0m\u001b[0;34m\u001b[0m\u001b[0m\n\u001b[0m\u001b[1;32m     50\u001b[0m         \u001b[0;32melse\u001b[0m\u001b[0;34m:\u001b[0m\u001b[0;34m\u001b[0m\u001b[0;34m\u001b[0m\u001b[0m\n\u001b[1;32m     51\u001b[0m             \u001b[0mdata\u001b[0m \u001b[0;34m=\u001b[0m \u001b[0mself\u001b[0m\u001b[0;34m.\u001b[0m\u001b[0mdataset\u001b[0m\u001b[0;34m[\u001b[0m\u001b[0mpossibly_batched_index\u001b[0m\u001b[0;34m]\u001b[0m\u001b[0;34m\u001b[0m\u001b[0;34m\u001b[0m\u001b[0m\n",
      "\u001b[0;32m~/opt/miniconda3/envs/raffellab/lib/python3.9/site-packages/torch/utils/data/_utils/fetch.py\u001b[0m in \u001b[0;36m<listcomp>\u001b[0;34m(.0)\u001b[0m\n\u001b[1;32m     47\u001b[0m     \u001b[0;32mdef\u001b[0m \u001b[0mfetch\u001b[0m\u001b[0;34m(\u001b[0m\u001b[0mself\u001b[0m\u001b[0;34m,\u001b[0m \u001b[0mpossibly_batched_index\u001b[0m\u001b[0;34m)\u001b[0m\u001b[0;34m:\u001b[0m\u001b[0;34m\u001b[0m\u001b[0;34m\u001b[0m\u001b[0m\n\u001b[1;32m     48\u001b[0m         \u001b[0;32mif\u001b[0m \u001b[0mself\u001b[0m\u001b[0;34m.\u001b[0m\u001b[0mauto_collation\u001b[0m\u001b[0;34m:\u001b[0m\u001b[0;34m\u001b[0m\u001b[0;34m\u001b[0m\u001b[0m\n\u001b[0;32m---> 49\u001b[0;31m             \u001b[0mdata\u001b[0m \u001b[0;34m=\u001b[0m \u001b[0;34m[\u001b[0m\u001b[0mself\u001b[0m\u001b[0;34m.\u001b[0m\u001b[0mdataset\u001b[0m\u001b[0;34m[\u001b[0m\u001b[0midx\u001b[0m\u001b[0;34m]\u001b[0m \u001b[0;32mfor\u001b[0m \u001b[0midx\u001b[0m \u001b[0;32min\u001b[0m \u001b[0mpossibly_batched_index\u001b[0m\u001b[0;34m]\u001b[0m\u001b[0;34m\u001b[0m\u001b[0;34m\u001b[0m\u001b[0m\n\u001b[0m\u001b[1;32m     50\u001b[0m         \u001b[0;32melse\u001b[0m\u001b[0;34m:\u001b[0m\u001b[0;34m\u001b[0m\u001b[0;34m\u001b[0m\u001b[0m\n\u001b[1;32m     51\u001b[0m             \u001b[0mdata\u001b[0m \u001b[0;34m=\u001b[0m \u001b[0mself\u001b[0m\u001b[0;34m.\u001b[0m\u001b[0mdataset\u001b[0m\u001b[0;34m[\u001b[0m\u001b[0mpossibly_batched_index\u001b[0m\u001b[0;34m]\u001b[0m\u001b[0;34m\u001b[0m\u001b[0;34m\u001b[0m\u001b[0m\n",
      "\u001b[0;32m~/opt/miniconda3/envs/raffellab/lib/python3.9/site-packages/torchvision/datasets/mnist.py\u001b[0m in \u001b[0;36m__getitem__\u001b[0;34m(self, index)\u001b[0m\n\u001b[1;32m    143\u001b[0m \u001b[0;34m\u001b[0m\u001b[0m\n\u001b[1;32m    144\u001b[0m         \u001b[0;32mif\u001b[0m \u001b[0mself\u001b[0m\u001b[0;34m.\u001b[0m\u001b[0mtransform\u001b[0m \u001b[0;32mis\u001b[0m \u001b[0;32mnot\u001b[0m \u001b[0;32mNone\u001b[0m\u001b[0;34m:\u001b[0m\u001b[0;34m\u001b[0m\u001b[0;34m\u001b[0m\u001b[0m\n\u001b[0;32m--> 145\u001b[0;31m             \u001b[0mimg\u001b[0m \u001b[0;34m=\u001b[0m \u001b[0mself\u001b[0m\u001b[0;34m.\u001b[0m\u001b[0mtransform\u001b[0m\u001b[0;34m(\u001b[0m\u001b[0mimg\u001b[0m\u001b[0;34m)\u001b[0m\u001b[0;34m\u001b[0m\u001b[0;34m\u001b[0m\u001b[0m\n\u001b[0m\u001b[1;32m    146\u001b[0m \u001b[0;34m\u001b[0m\u001b[0m\n\u001b[1;32m    147\u001b[0m         \u001b[0;32mif\u001b[0m \u001b[0mself\u001b[0m\u001b[0;34m.\u001b[0m\u001b[0mtarget_transform\u001b[0m \u001b[0;32mis\u001b[0m \u001b[0;32mnot\u001b[0m \u001b[0;32mNone\u001b[0m\u001b[0;34m:\u001b[0m\u001b[0;34m\u001b[0m\u001b[0;34m\u001b[0m\u001b[0m\n",
      "\u001b[0;32m~/opt/miniconda3/envs/raffellab/lib/python3.9/site-packages/torchvision/transforms/transforms.py\u001b[0m in \u001b[0;36m__call__\u001b[0;34m(self, img)\u001b[0m\n\u001b[1;32m     93\u001b[0m     \u001b[0;32mdef\u001b[0m \u001b[0m__call__\u001b[0m\u001b[0;34m(\u001b[0m\u001b[0mself\u001b[0m\u001b[0;34m,\u001b[0m \u001b[0mimg\u001b[0m\u001b[0;34m)\u001b[0m\u001b[0;34m:\u001b[0m\u001b[0;34m\u001b[0m\u001b[0;34m\u001b[0m\u001b[0m\n\u001b[1;32m     94\u001b[0m         \u001b[0;32mfor\u001b[0m \u001b[0mt\u001b[0m \u001b[0;32min\u001b[0m \u001b[0mself\u001b[0m\u001b[0;34m.\u001b[0m\u001b[0mtransforms\u001b[0m\u001b[0;34m:\u001b[0m\u001b[0;34m\u001b[0m\u001b[0;34m\u001b[0m\u001b[0m\n\u001b[0;32m---> 95\u001b[0;31m             \u001b[0mimg\u001b[0m \u001b[0;34m=\u001b[0m \u001b[0mt\u001b[0m\u001b[0;34m(\u001b[0m\u001b[0mimg\u001b[0m\u001b[0;34m)\u001b[0m\u001b[0;34m\u001b[0m\u001b[0;34m\u001b[0m\u001b[0m\n\u001b[0m\u001b[1;32m     96\u001b[0m         \u001b[0;32mreturn\u001b[0m \u001b[0mimg\u001b[0m\u001b[0;34m\u001b[0m\u001b[0;34m\u001b[0m\u001b[0m\n\u001b[1;32m     97\u001b[0m \u001b[0;34m\u001b[0m\u001b[0m\n",
      "\u001b[0;32m~/opt/miniconda3/envs/raffellab/lib/python3.9/site-packages/torch/nn/modules/module.py\u001b[0m in \u001b[0;36m_call_impl\u001b[0;34m(self, *input, **kwargs)\u001b[0m\n\u001b[1;32m   1108\u001b[0m         if not (self._backward_hooks or self._forward_hooks or self._forward_pre_hooks or _global_backward_hooks\n\u001b[1;32m   1109\u001b[0m                 or _global_forward_hooks or _global_forward_pre_hooks):\n\u001b[0;32m-> 1110\u001b[0;31m             \u001b[0;32mreturn\u001b[0m \u001b[0mforward_call\u001b[0m\u001b[0;34m(\u001b[0m\u001b[0;34m*\u001b[0m\u001b[0minput\u001b[0m\u001b[0;34m,\u001b[0m \u001b[0;34m**\u001b[0m\u001b[0mkwargs\u001b[0m\u001b[0;34m)\u001b[0m\u001b[0;34m\u001b[0m\u001b[0;34m\u001b[0m\u001b[0m\n\u001b[0m\u001b[1;32m   1111\u001b[0m         \u001b[0;31m# Do not call functions when jit is used\u001b[0m\u001b[0;34m\u001b[0m\u001b[0;34m\u001b[0m\u001b[0m\n\u001b[1;32m   1112\u001b[0m         \u001b[0mfull_backward_hooks\u001b[0m\u001b[0;34m,\u001b[0m \u001b[0mnon_full_backward_hooks\u001b[0m \u001b[0;34m=\u001b[0m \u001b[0;34m[\u001b[0m\u001b[0;34m]\u001b[0m\u001b[0;34m,\u001b[0m \u001b[0;34m[\u001b[0m\u001b[0;34m]\u001b[0m\u001b[0;34m\u001b[0m\u001b[0;34m\u001b[0m\u001b[0m\n",
      "\u001b[0;32m~/opt/miniconda3/envs/raffellab/lib/python3.9/site-packages/torchvision/transforms/transforms.py\u001b[0m in \u001b[0;36mforward\u001b[0;34m(self, img)\u001b[0m\n\u001b[1;32m   1347\u001b[0m         \u001b[0mangle\u001b[0m \u001b[0;34m=\u001b[0m \u001b[0mself\u001b[0m\u001b[0;34m.\u001b[0m\u001b[0mget_params\u001b[0m\u001b[0;34m(\u001b[0m\u001b[0mself\u001b[0m\u001b[0;34m.\u001b[0m\u001b[0mdegrees\u001b[0m\u001b[0;34m)\u001b[0m\u001b[0;34m\u001b[0m\u001b[0;34m\u001b[0m\u001b[0m\n\u001b[1;32m   1348\u001b[0m \u001b[0;34m\u001b[0m\u001b[0m\n\u001b[0;32m-> 1349\u001b[0;31m         \u001b[0;32mreturn\u001b[0m \u001b[0mF\u001b[0m\u001b[0;34m.\u001b[0m\u001b[0mrotate\u001b[0m\u001b[0;34m(\u001b[0m\u001b[0mimg\u001b[0m\u001b[0;34m,\u001b[0m \u001b[0mangle\u001b[0m\u001b[0;34m,\u001b[0m \u001b[0mself\u001b[0m\u001b[0;34m.\u001b[0m\u001b[0mresample\u001b[0m\u001b[0;34m,\u001b[0m \u001b[0mself\u001b[0m\u001b[0;34m.\u001b[0m\u001b[0mexpand\u001b[0m\u001b[0;34m,\u001b[0m \u001b[0mself\u001b[0m\u001b[0;34m.\u001b[0m\u001b[0mcenter\u001b[0m\u001b[0;34m,\u001b[0m \u001b[0mfill\u001b[0m\u001b[0;34m)\u001b[0m\u001b[0;34m\u001b[0m\u001b[0;34m\u001b[0m\u001b[0m\n\u001b[0m\u001b[1;32m   1350\u001b[0m \u001b[0;34m\u001b[0m\u001b[0m\n\u001b[1;32m   1351\u001b[0m     \u001b[0;32mdef\u001b[0m \u001b[0m__repr__\u001b[0m\u001b[0;34m(\u001b[0m\u001b[0mself\u001b[0m\u001b[0;34m)\u001b[0m \u001b[0;34m->\u001b[0m \u001b[0mstr\u001b[0m\u001b[0;34m:\u001b[0m\u001b[0;34m\u001b[0m\u001b[0;34m\u001b[0m\u001b[0m\n",
      "\u001b[0;32m~/opt/miniconda3/envs/raffellab/lib/python3.9/site-packages/torchvision/transforms/functional.py\u001b[0m in \u001b[0;36mrotate\u001b[0;34m(img, angle, interpolation, expand, center, fill, resample)\u001b[0m\n\u001b[1;32m   1076\u001b[0m     \u001b[0;31m# we need to set -angle.\u001b[0m\u001b[0;34m\u001b[0m\u001b[0;34m\u001b[0m\u001b[0m\n\u001b[1;32m   1077\u001b[0m     \u001b[0mmatrix\u001b[0m \u001b[0;34m=\u001b[0m \u001b[0m_get_inverse_affine_matrix\u001b[0m\u001b[0;34m(\u001b[0m\u001b[0mcenter_f\u001b[0m\u001b[0;34m,\u001b[0m \u001b[0;34m-\u001b[0m\u001b[0mangle\u001b[0m\u001b[0;34m,\u001b[0m \u001b[0;34m[\u001b[0m\u001b[0;36m0.0\u001b[0m\u001b[0;34m,\u001b[0m \u001b[0;36m0.0\u001b[0m\u001b[0;34m]\u001b[0m\u001b[0;34m,\u001b[0m \u001b[0;36m1.0\u001b[0m\u001b[0;34m,\u001b[0m \u001b[0;34m[\u001b[0m\u001b[0;36m0.0\u001b[0m\u001b[0;34m,\u001b[0m \u001b[0;36m0.0\u001b[0m\u001b[0;34m]\u001b[0m\u001b[0;34m)\u001b[0m\u001b[0;34m\u001b[0m\u001b[0;34m\u001b[0m\u001b[0m\n\u001b[0;32m-> 1078\u001b[0;31m     \u001b[0;32mreturn\u001b[0m \u001b[0mF_t\u001b[0m\u001b[0;34m.\u001b[0m\u001b[0mrotate\u001b[0m\u001b[0;34m(\u001b[0m\u001b[0mimg\u001b[0m\u001b[0;34m,\u001b[0m \u001b[0mmatrix\u001b[0m\u001b[0;34m=\u001b[0m\u001b[0mmatrix\u001b[0m\u001b[0;34m,\u001b[0m \u001b[0minterpolation\u001b[0m\u001b[0;34m=\u001b[0m\u001b[0minterpolation\u001b[0m\u001b[0;34m.\u001b[0m\u001b[0mvalue\u001b[0m\u001b[0;34m,\u001b[0m \u001b[0mexpand\u001b[0m\u001b[0;34m=\u001b[0m\u001b[0mexpand\u001b[0m\u001b[0;34m,\u001b[0m \u001b[0mfill\u001b[0m\u001b[0;34m=\u001b[0m\u001b[0mfill\u001b[0m\u001b[0;34m)\u001b[0m\u001b[0;34m\u001b[0m\u001b[0;34m\u001b[0m\u001b[0m\n\u001b[0m\u001b[1;32m   1079\u001b[0m \u001b[0;34m\u001b[0m\u001b[0m\n\u001b[1;32m   1080\u001b[0m \u001b[0;34m\u001b[0m\u001b[0m\n",
      "\u001b[0;32m~/opt/miniconda3/envs/raffellab/lib/python3.9/site-packages/torchvision/transforms/functional_tensor.py\u001b[0m in \u001b[0;36mrotate\u001b[0;34m(img, matrix, interpolation, expand, fill)\u001b[0m\n\u001b[1;32m    682\u001b[0m     \u001b[0mtheta\u001b[0m \u001b[0;34m=\u001b[0m \u001b[0mtorch\u001b[0m\u001b[0;34m.\u001b[0m\u001b[0mtensor\u001b[0m\u001b[0;34m(\u001b[0m\u001b[0mmatrix\u001b[0m\u001b[0;34m,\u001b[0m \u001b[0mdtype\u001b[0m\u001b[0;34m=\u001b[0m\u001b[0mdtype\u001b[0m\u001b[0;34m,\u001b[0m \u001b[0mdevice\u001b[0m\u001b[0;34m=\u001b[0m\u001b[0mimg\u001b[0m\u001b[0;34m.\u001b[0m\u001b[0mdevice\u001b[0m\u001b[0;34m)\u001b[0m\u001b[0;34m.\u001b[0m\u001b[0mreshape\u001b[0m\u001b[0;34m(\u001b[0m\u001b[0;36m1\u001b[0m\u001b[0;34m,\u001b[0m \u001b[0;36m2\u001b[0m\u001b[0;34m,\u001b[0m \u001b[0;36m3\u001b[0m\u001b[0;34m)\u001b[0m\u001b[0;34m\u001b[0m\u001b[0;34m\u001b[0m\u001b[0m\n\u001b[1;32m    683\u001b[0m     \u001b[0;31m# grid will be generated on the same device as theta and img\u001b[0m\u001b[0;34m\u001b[0m\u001b[0;34m\u001b[0m\u001b[0m\n\u001b[0;32m--> 684\u001b[0;31m     \u001b[0mgrid\u001b[0m \u001b[0;34m=\u001b[0m \u001b[0m_gen_affine_grid\u001b[0m\u001b[0;34m(\u001b[0m\u001b[0mtheta\u001b[0m\u001b[0;34m,\u001b[0m \u001b[0mw\u001b[0m\u001b[0;34m=\u001b[0m\u001b[0mw\u001b[0m\u001b[0;34m,\u001b[0m \u001b[0mh\u001b[0m\u001b[0;34m=\u001b[0m\u001b[0mh\u001b[0m\u001b[0;34m,\u001b[0m \u001b[0mow\u001b[0m\u001b[0;34m=\u001b[0m\u001b[0mow\u001b[0m\u001b[0;34m,\u001b[0m \u001b[0moh\u001b[0m\u001b[0;34m=\u001b[0m\u001b[0moh\u001b[0m\u001b[0;34m)\u001b[0m\u001b[0;34m\u001b[0m\u001b[0;34m\u001b[0m\u001b[0m\n\u001b[0m\u001b[1;32m    685\u001b[0m \u001b[0;34m\u001b[0m\u001b[0m\n\u001b[1;32m    686\u001b[0m     \u001b[0;32mreturn\u001b[0m \u001b[0m_apply_grid_transform\u001b[0m\u001b[0;34m(\u001b[0m\u001b[0mimg\u001b[0m\u001b[0;34m,\u001b[0m \u001b[0mgrid\u001b[0m\u001b[0;34m,\u001b[0m \u001b[0minterpolation\u001b[0m\u001b[0;34m,\u001b[0m \u001b[0mfill\u001b[0m\u001b[0;34m=\u001b[0m\u001b[0mfill\u001b[0m\u001b[0;34m)\u001b[0m\u001b[0;34m\u001b[0m\u001b[0;34m\u001b[0m\u001b[0m\n",
      "\u001b[0;32m~/opt/miniconda3/envs/raffellab/lib/python3.9/site-packages/torchvision/transforms/functional_tensor.py\u001b[0m in \u001b[0;36m_gen_affine_grid\u001b[0;34m(theta, w, h, ow, oh)\u001b[0m\n\u001b[1;32m    619\u001b[0m     \u001b[0mbase_grid\u001b[0m \u001b[0;34m=\u001b[0m \u001b[0mtorch\u001b[0m\u001b[0;34m.\u001b[0m\u001b[0mempty\u001b[0m\u001b[0;34m(\u001b[0m\u001b[0;36m1\u001b[0m\u001b[0;34m,\u001b[0m \u001b[0moh\u001b[0m\u001b[0;34m,\u001b[0m \u001b[0mow\u001b[0m\u001b[0;34m,\u001b[0m \u001b[0;36m3\u001b[0m\u001b[0;34m,\u001b[0m \u001b[0mdtype\u001b[0m\u001b[0;34m=\u001b[0m\u001b[0mtheta\u001b[0m\u001b[0;34m.\u001b[0m\u001b[0mdtype\u001b[0m\u001b[0;34m,\u001b[0m \u001b[0mdevice\u001b[0m\u001b[0;34m=\u001b[0m\u001b[0mtheta\u001b[0m\u001b[0;34m.\u001b[0m\u001b[0mdevice\u001b[0m\u001b[0;34m)\u001b[0m\u001b[0;34m\u001b[0m\u001b[0;34m\u001b[0m\u001b[0m\n\u001b[1;32m    620\u001b[0m     \u001b[0mx_grid\u001b[0m \u001b[0;34m=\u001b[0m \u001b[0mtorch\u001b[0m\u001b[0;34m.\u001b[0m\u001b[0mlinspace\u001b[0m\u001b[0;34m(\u001b[0m\u001b[0;34m-\u001b[0m\u001b[0mow\u001b[0m \u001b[0;34m*\u001b[0m \u001b[0;36m0.5\u001b[0m \u001b[0;34m+\u001b[0m \u001b[0md\u001b[0m\u001b[0;34m,\u001b[0m \u001b[0mow\u001b[0m \u001b[0;34m*\u001b[0m \u001b[0;36m0.5\u001b[0m \u001b[0;34m+\u001b[0m \u001b[0md\u001b[0m \u001b[0;34m-\u001b[0m \u001b[0;36m1\u001b[0m\u001b[0;34m,\u001b[0m \u001b[0msteps\u001b[0m\u001b[0;34m=\u001b[0m\u001b[0mow\u001b[0m\u001b[0;34m,\u001b[0m \u001b[0mdevice\u001b[0m\u001b[0;34m=\u001b[0m\u001b[0mtheta\u001b[0m\u001b[0;34m.\u001b[0m\u001b[0mdevice\u001b[0m\u001b[0;34m)\u001b[0m\u001b[0;34m\u001b[0m\u001b[0;34m\u001b[0m\u001b[0m\n\u001b[0;32m--> 621\u001b[0;31m     \u001b[0mbase_grid\u001b[0m\u001b[0;34m[\u001b[0m\u001b[0;34m...\u001b[0m\u001b[0;34m,\u001b[0m \u001b[0;36m0\u001b[0m\u001b[0;34m]\u001b[0m\u001b[0;34m.\u001b[0m\u001b[0mcopy_\u001b[0m\u001b[0;34m(\u001b[0m\u001b[0mx_grid\u001b[0m\u001b[0;34m)\u001b[0m\u001b[0;34m\u001b[0m\u001b[0;34m\u001b[0m\u001b[0m\n\u001b[0m\u001b[1;32m    622\u001b[0m     \u001b[0my_grid\u001b[0m \u001b[0;34m=\u001b[0m \u001b[0mtorch\u001b[0m\u001b[0;34m.\u001b[0m\u001b[0mlinspace\u001b[0m\u001b[0;34m(\u001b[0m\u001b[0;34m-\u001b[0m\u001b[0moh\u001b[0m \u001b[0;34m*\u001b[0m \u001b[0;36m0.5\u001b[0m \u001b[0;34m+\u001b[0m \u001b[0md\u001b[0m\u001b[0;34m,\u001b[0m \u001b[0moh\u001b[0m \u001b[0;34m*\u001b[0m \u001b[0;36m0.5\u001b[0m \u001b[0;34m+\u001b[0m \u001b[0md\u001b[0m \u001b[0;34m-\u001b[0m \u001b[0;36m1\u001b[0m\u001b[0;34m,\u001b[0m \u001b[0msteps\u001b[0m\u001b[0;34m=\u001b[0m\u001b[0moh\u001b[0m\u001b[0;34m,\u001b[0m \u001b[0mdevice\u001b[0m\u001b[0;34m=\u001b[0m\u001b[0mtheta\u001b[0m\u001b[0;34m.\u001b[0m\u001b[0mdevice\u001b[0m\u001b[0;34m)\u001b[0m\u001b[0;34m.\u001b[0m\u001b[0munsqueeze_\u001b[0m\u001b[0;34m(\u001b[0m\u001b[0;34m-\u001b[0m\u001b[0;36m1\u001b[0m\u001b[0;34m)\u001b[0m\u001b[0;34m\u001b[0m\u001b[0;34m\u001b[0m\u001b[0m\n\u001b[1;32m    623\u001b[0m     \u001b[0mbase_grid\u001b[0m\u001b[0;34m[\u001b[0m\u001b[0;34m...\u001b[0m\u001b[0;34m,\u001b[0m \u001b[0;36m1\u001b[0m\u001b[0;34m]\u001b[0m\u001b[0;34m.\u001b[0m\u001b[0mcopy_\u001b[0m\u001b[0;34m(\u001b[0m\u001b[0my_grid\u001b[0m\u001b[0;34m)\u001b[0m\u001b[0;34m\u001b[0m\u001b[0;34m\u001b[0m\u001b[0m\n",
      "\u001b[0;31mKeyboardInterrupt\u001b[0m: "
     ]
    }
   ],
   "source": [
    "correct_normal, total_normal = evaluate_model(imported_pytorch_model, testloader)\n",
    "correct_rotated, total_rotated = evaluate_model(imported_pytorch_model, rotated_testloader)\n",
    "\n",
    "print(f\"The imported model classified {correct_normal} digits correctly, out of {total_normal} total, for an accuracy of {correct_normal * 100 / total_normal :.2f}%\")\n",
    "print(f\"The imported model classified {correct_rotated} rotated digits correctly, out of {total_rotated} total, for an accuracy of {correct_rotated * 100 / total_rotated :.2f}%\")"
   ]
  },
  {
   "cell_type": "markdown",
   "metadata": {},
   "source": [
    "It does - great!\n",
    "\n",
    "Now, there are two approaches we could take to non-dense fine tuning. To clarify terminology, we distinguish between a _parameter_ and a _parameter group_. A _parameter_ is a single scalar value that is trained and used by the model during inference to produce a result. When people refer to the size of large models (e.g. T5 has 11B parameters), they are referring to these scalar values.\n",
    "\n",
    "A _parameter group_ is collection of parameters that has some conceptual and practical meaning as a unit of computation. Typical examples are the bias vector and the weight matrix of a linear layer, or the kernel of a 2D convolution. \n",
    "\n",
    "A typical training run (like the one we did at the start of this notebook) trains all possible parameters at every training step: every parameter within every parameter group. If you wanted to do less exhaustive training (and efficiently store the corresponding update), there are two natural approaches.\n",
    "\n",
    "- Select some subset of the _parameter groups_, and only train them. We refer to this as _globally sparse_ training.\n",
    "- Within each parameter group, select some subset of _parameters_, and only train them. We refer to this as _locally sparse_ training.\n",
    "\n",
    "(You could, of course, combine both approaches).\n",
    "\n",
    "To keep this test run simple, we take the second approach and train only the first convolutional layer, and the final dense layer."
   ]
  },
  {
   "cell_type": "markdown",
   "metadata": {},
   "source": [
    "## Sparsely fine-tuning the model"
   ]
  },
  {
   "cell_type": "code",
   "execution_count": null,
   "metadata": {},
   "outputs": [],
   "source": [
    "from collections import defaultdict\n",
    "\n",
    "def train_with_mask(net, optimizer, dataloader, num_epochs=2, parameter_masks = None):\n",
    "    if parameter_masks is None: parameter_masks = defaultdict(lambda: 1) # If no masks are provided, train all parameters as normal\n",
    "\n",
    "    loss_fn = torch.nn.CrossEntropyLoss()\n",
    "\n",
    "    for e in range(num_epochs):\n",
    "        flag = 0\n",
    "        cumulative_loss = 0\n",
    "        loss_window = len(dataloader) // 10\n",
    "        for i, (batch, labels) in enumerate(dataloader, 1):\n",
    "            optimizer.zero_grad()\n",
    "\n",
    "            preds = net(batch)\n",
    "            loss = loss_fn(preds, labels)\n",
    "            loss.backward()\n",
    "\n",
    "            # Mask out the parameters here\n",
    "            for name, params in net.named_parameters():\n",
    "                params.grad.data.copy_(params.grad.data * parameter_masks[name])\n",
    "                # params.grad.data.copy_(params.grad.data * 0)\n",
    "\n",
    "            optimizer.step()\n",
    "\n",
    "            cumulative_loss += loss\n",
    "\n",
    "            if i % loss_window == 0:\n",
    "                print(f\"Loss at epoch {e+1}, batch {i}: {cumulative_loss / loss_window :.2f}\")\n",
    "                cumulative_loss = 0"
   ]
  },
  {
   "cell_type": "code",
   "execution_count": 133,
   "metadata": {},
   "outputs": [],
   "source": [
    "# We consider 'true' parameter group names to be the ones that the original Pytorch model uses in net.named_parameters(), which\n",
    "# are also the names in the ONNX model. \n",
    "\n",
    "# When we import back to Pytorch, in the model's state_dict() these are a) duplicated and b) both names are changed: N -> (N', N''). The\n",
    "# model only seems to consider the N' in named_parameters() though, so these are what get trained. However, N'' is easier to convert back to N,\n",
    "# so we use it as an intermediary.\n",
    "\n",
    "\n",
    "# Q: How to reliably go from e.g. Conv_onnx::Relu_11.bias -> conv1.weight, and conv1.weight -> Conv_onnx::Relu_11.bias\n",
    "# A: Can we assume the parameters will always be in the same order?\n",
    "\n",
    "\n",
    "def mangle_parameter_name(name, model, direction=\"forward\"):\n",
    "\n",
    "    param_names = list(model.state_dict().keys())\n",
    "    L = int(len(param_names)/2)\n",
    "    simple, complex = param_names[:L], param_names[L:]\n",
    "\n",
    "    \n",
    "    pairs = list(zip(simple, complex))\n",
    "    lookup = {pair[0]: pair[1] for pair in pairs}\n",
    "    rev_lookup = {pair[1]: pair[0] for pair in pairs}\n",
    "\n",
    "    if direction == \"forward\":\n",
    "        layer, component = name.split('.')\n",
    "        middle = f\"_initializer_{layer}_{component}\"\n",
    "        return lookup[middle]\n",
    "\n",
    "    elif direction == \"backward\":\n",
    "        middle = rev_lookup[name]\n",
    "        junk = \"_initializer_\"\n",
    "        name = middle[len(junk):]\n",
    "        layer, component = name.split('_')\n",
    "        return f\"{layer}.{component}\"\n",
    "    else:\n",
    "        raise NotImplementedError(f\"Direction must be once of [forward, backward]. You provided {direction}.\")\n",
    "\n",
    "def get_parameter_masks(parameters_to_train):\n",
    "    masks = defaultdict(lambda: 0)    \n",
    "    \n",
    "    to_train = [mangle_parameter_name(name, imported_pytorch_model) for name in parameters_to_train]\n",
    "    for param_name in to_train: masks[param_name] = 1\n",
    "    return masks"
   ]
  },
  {
   "cell_type": "code",
   "execution_count": 128,
   "metadata": {},
   "outputs": [
    {
     "name": "stdout",
     "output_type": "stream",
     "text": [
      "Loss at epoch 1, batch 375: 0.53\n",
      "Loss at epoch 1, batch 750: 0.45\n",
      "Loss at epoch 1, batch 1125: 0.41\n",
      "Loss at epoch 1, batch 1500: 0.41\n",
      "Loss at epoch 1, batch 1875: 0.40\n",
      "Loss at epoch 1, batch 2250: 0.39\n",
      "Loss at epoch 1, batch 2625: 0.40\n",
      "Loss at epoch 1, batch 3000: 0.39\n",
      "Loss at epoch 1, batch 3375: 0.38\n",
      "Loss at epoch 1, batch 3750: 0.38\n"
     ]
    }
   ],
   "source": [
    "from copy import deepcopy\n",
    "\n",
    "params_to_train = [\"conv1.weight\", \"conv1.bias\", \"fc3.weight\", \"fc3.bias\"]\n",
    "masks = get_parameter_masks(params_to_train)\n",
    "\n",
    "model2 = deepcopy(imported_pytorch_model)\n",
    "optimizer = torch.optim.Adam(model2.parameters())\n",
    "train_with_mask(model2, optimizer, rotated_trainloader, 1, parameter_masks=masks)"
   ]
  },
  {
   "cell_type": "code",
   "execution_count": 129,
   "metadata": {},
   "outputs": [
    {
     "name": "stdout",
     "output_type": "stream",
     "text": [
      "The imported model classified 9690 digits correctly, out of 10000 total, for an accuracy of 96.90%\n",
      "The imported model classified 8839 rotated digits correctly, out of 10000 total, for an accuracy of 88.39%\n"
     ]
    }
   ],
   "source": [
    "correct_normal, total_normal = evaluate_model(model2, testloader)\n",
    "correct_rotated, total_rotated = evaluate_model(model2, rotated_testloader)\n",
    "\n",
    "print(f\"The imported model classified {correct_normal} digits correctly, out of {total_normal} total, for an accuracy of {correct_normal * 100 / total_normal :.2f}%\")\n",
    "print(f\"The imported model classified {correct_rotated} rotated digits correctly, out of {total_rotated} total, for an accuracy of {correct_rotated * 100 / total_rotated :.2f}%\")"
   ]
  },
  {
   "cell_type": "markdown",
   "metadata": {},
   "source": [
    "Success! The model improved its accuracy on the rotated digit set by 10% (and dropped 1% on the standard set, but omelettes and eggs...)\n",
    "\n",
    "Let's check to see that the parameters we wanted to train actually changed, while the others stayed the same."
   ]
  },
  {
   "cell_type": "code",
   "execution_count": 132,
   "metadata": {},
   "outputs": [
    {
     "name": "stdout",
     "output_type": "stream",
     "text": [
      "conv1.weight i.e. Conv_onnx::Relu_11.weight changed --- Yay!\n",
      "conv1.bias i.e. Conv_onnx::Relu_11.bias changed --- Yay!\n",
      "conv2.weight i.e. Conv_onnx::Relu_14.weight did not change --- Yay!\n",
      "conv2.bias i.e. Conv_onnx::Relu_14.bias did not change --- Yay!\n",
      "fc1.weight i.e. Gemm_onnx::Relu_18.weight did not change --- Yay!\n",
      "fc1.bias i.e. Gemm_onnx::Relu_18.bias did not change --- Yay!\n",
      "fc2.weight i.e. Gemm_onnx::Relu_20.weight did not change --- Yay!\n",
      "fc2.bias i.e. Gemm_onnx::Relu_20.bias did not change --- Yay!\n",
      "fc3.weight i.e. Gemm_22.weight changed --- Yay!\n",
      "fc3.bias i.e. Gemm_22.bias changed --- Yay!\n"
     ]
    }
   ],
   "source": [
    "param_pairs = list(zip(net.named_parameters(), model2.named_parameters()))\n",
    "for param in param_pairs:\n",
    "    if torch.allclose(param[0][1], param[1][1]):\n",
    "        print(f\"{param[0][0]} i.e. {param[1][0]} did not change\", end=' --- ')\n",
    "        print(\"Goddamn\") if param[1][0] in params_to_train else print(\"Yay!\")\n",
    "    else:\n",
    "        print(f\"{param[0][0]} i.e. {param[1][0]} changed\", end=' --- ')\n",
    "        print(\"Goddamn\") if param[1][0] not in params_to_train else print(\"Yay!\")"
   ]
  },
  {
   "cell_type": "markdown",
   "metadata": {},
   "source": [
    "## VCS: Enter Stage-Right"
   ]
  },
  {
   "cell_type": "markdown",
   "metadata": {},
   "source": [
    "Now that we've fine tuned the model, let's \"commit\" this to our VCS."
   ]
  },
  {
   "cell_type": "code",
   "execution_count": null,
   "metadata": {},
   "outputs": [
    {
     "name": "stdout",
     "output_type": "stream",
     "text": [
      "4\n"
     ]
    },
    {
     "data": {
      "text/plain": [
       "'17b5abd7678b19252fae2adb69c7a7bf.modeldiff'"
      ]
     },
     "execution_count": 102,
     "metadata": {},
     "output_type": "execute_result"
    }
   ],
   "source": [
    "from difftools import ModelUpdate, create_diff_file, apply_diff_file\n",
    "updates = []\n",
    "for param_name in params_to_train:\n",
    "    mangled_name = mangle_parameter_name(param_name, model2)\n",
    "    delta = model2.state_dict()[mangled_name] - imported_pytorch_model.state_dict()[mangled_name]\n",
    "    updates.append(ModelUpdate(param_name, \"dense\", delta))\n",
    "\n",
    "print(len(updates))\n",
    "\n",
    "diff_file = create_diff_file(updates)\n",
    "diff_file"
   ]
  },
  {
   "cell_type": "markdown",
   "metadata": {},
   "source": [
    "And now let's \"checkout\" the original, non-finetuned model, and apply the diff, allowing us to \"train\" it without doing any actual work."
   ]
  },
  {
   "cell_type": "code",
   "execution_count": null,
   "metadata": {},
   "outputs": [],
   "source": [
    "from difftools import apply_diff_file\n",
    "from onnx_functions import AugumentedOnnxModel\n",
    "\n",
    "onnx_model = AugumentedOnnxModel(\"mnist_test_pretrained.onnx\")\n",
    "model_plus_diff = apply_diff_file(onnx_model, diff_file)"
   ]
  },
  {
   "cell_type": "markdown",
   "metadata": {},
   "source": [
    "And then convert it from Onnx to Pytorch, and do some inference."
   ]
  },
  {
   "cell_type": "code",
   "execution_count": null,
   "metadata": {},
   "outputs": [
    {
     "name": "stderr",
     "output_type": "stream",
     "text": [
      "/Users/montyevans/opt/miniconda3/envs/raffellab/lib/python3.9/site-packages/onnx2pytorch/convert/model.py:147: UserWarning:\n",
      "\n",
      "Using experimental implementation that allows 'batch_size > 1'.Batchnorm layers could potentially produce false outputs.\n",
      "\n"
     ]
    }
   ],
   "source": [
    "imported_pytorch_model_plus_diff = ConvertModel(model_plus_diff.get_model(), experimental=True)"
   ]
  },
  {
   "cell_type": "code",
   "execution_count": null,
   "metadata": {},
   "outputs": [
    {
     "name": "stderr",
     "output_type": "stream",
     "text": [
      "/Users/montyevans/opt/miniconda3/envs/raffellab/lib/python3.9/site-packages/torch/nn/functional.py:749: UserWarning:\n",
      "\n",
      "Note that order of the arguments: ceil_mode and return_indices will changeto match the args list in nn.MaxPool2d in a future release.\n",
      "\n"
     ]
    },
    {
     "name": "stdout",
     "output_type": "stream",
     "text": [
      "The imported model classified 9690 digits correctly, out of 10000 total, for an accuracy of 96.90%\n",
      "The imported model classified 8883 rotated digits correctly, out of 10000 total, for an accuracy of 88.83%\n"
     ]
    }
   ],
   "source": [
    "correct_normal, total_normal = evaluate_model(imported_pytorch_model_plus_diff, testloader)\n",
    "correct_rotated, total_rotated = evaluate_model(imported_pytorch_model_plus_diff, rotated_testloader)\n",
    "\n",
    "print(f\"The imported model classified {correct_normal} digits correctly, out of {total_normal} total, for an accuracy of {correct_normal * 100 / total_normal :.2f}%\")\n",
    "print(f\"The imported model classified {correct_rotated} rotated digits correctly, out of {total_rotated} total, for an accuracy of {correct_rotated * 100 / total_rotated :.2f}%\")"
   ]
  },
  {
   "cell_type": "markdown",
   "metadata": {},
   "source": [
    "Success! The applied-diff-model achieves the same performance as the fine-tuned-model (because they are, in fact, the same model)!"
   ]
  },
  {
   "cell_type": "markdown",
   "metadata": {},
   "source": [
    "## More diffs!"
   ]
  },
  {
   "cell_type": "code",
   "execution_count": null,
   "metadata": {},
   "outputs": [],
   "source": [
    "from copy import deepcopy\n",
    "\n",
    "params_to_train = [\"conv2.weight\", \"conv2.bias\"]\n",
    "masks = get_parameter_masks(params_to_train)\n",
    "\n",
    "model3 = deepcopy(model2)\n",
    "optimizer = torch.optim.Adam(model3.parameters())\n",
    "train_with_mask(model3, optimizer, rotated_trainloader, 1, parameter_masks=masks)"
   ]
  },
  {
   "cell_type": "code",
   "execution_count": 141,
   "metadata": {},
   "outputs": [
    {
     "name": "stdout",
     "output_type": "stream",
     "text": [
      "2\n"
     ]
    },
    {
     "data": {
      "text/plain": [
       "'84f738964db3f87ee4d35778ce6f2edf.modeldiff'"
      ]
     },
     "execution_count": 141,
     "metadata": {},
     "output_type": "execute_result"
    }
   ],
   "source": [
    "from difftools import ModelUpdate, create_diff_file, apply_diff_file\n",
    "updates = []\n",
    "for param_name in params_to_train:\n",
    "    mangled_name = mangle_parameter_name(param_name, model3)\n",
    "    delta = model3.state_dict()[mangled_name] - model2.state_dict()[mangled_name]\n",
    "    updates.append(ModelUpdate(param_name, \"dense\", delta))\n",
    "\n",
    "print(len(updates))\n",
    "\n",
    "diff_file_2 = create_diff_file(updates)\n",
    "diff_file_2"
   ]
  },
  {
   "cell_type": "code",
   "execution_count": 142,
   "metadata": {},
   "outputs": [
    {
     "name": "stderr",
     "output_type": "stream",
     "text": [
      "/Users/montyevans/opt/miniconda3/envs/raffellab/lib/python3.9/site-packages/torch/nn/functional.py:749: UserWarning:\n",
      "\n",
      "Note that order of the arguments: ceil_mode and return_indices will changeto match the args list in nn.MaxPool2d in a future release.\n",
      "\n"
     ]
    },
    {
     "name": "stdout",
     "output_type": "stream",
     "text": [
      "Loss at epoch 1, batch 375: 0.33\n",
      "Loss at epoch 1, batch 750: 0.29\n",
      "Loss at epoch 1, batch 1125: 0.30\n",
      "Loss at epoch 1, batch 1500: 0.28\n",
      "Loss at epoch 1, batch 1875: 0.27\n",
      "Loss at epoch 1, batch 2250: 0.28\n",
      "Loss at epoch 1, batch 2625: 0.27\n",
      "Loss at epoch 1, batch 3000: 0.26\n",
      "Loss at epoch 1, batch 3375: 0.25\n",
      "Loss at epoch 1, batch 3750: 0.26\n",
      "2\n"
     ]
    },
    {
     "data": {
      "text/plain": [
       "'e633c8eeac46670ad9836713d3485ca7.modeldiff'"
      ]
     },
     "execution_count": 142,
     "metadata": {},
     "output_type": "execute_result"
    }
   ],
   "source": [
    "from copy import deepcopy\n",
    "\n",
    "params_to_train = [\"fc2.weight\", \"fc2.bias\"]\n",
    "masks = get_parameter_masks(params_to_train)\n",
    "\n",
    "model4 = deepcopy(model3)\n",
    "optimizer = torch.optim.Adam(model4.parameters())\n",
    "train_with_mask(model4, optimizer, rotated_trainloader, 1, parameter_masks=masks)\n",
    "\n",
    "from difftools import ModelUpdate, create_diff_file, apply_diff_file\n",
    "updates = []\n",
    "for param_name in params_to_train:\n",
    "    mangled_name = mangle_parameter_name(param_name, model4)\n",
    "    delta = model4.state_dict()[mangled_name] - model3.state_dict()[mangled_name]\n",
    "    updates.append(ModelUpdate(param_name, \"dense\", delta))\n",
    "\n",
    "print(len(updates))\n",
    "\n",
    "diff_file_3 = create_diff_file(updates)\n",
    "diff_file_3"
   ]
  },
  {
   "cell_type": "markdown",
   "metadata": {},
   "source": [
    "## Unresolved Questions\n",
    "\n",
    "How can a model's state dict have more keys that the model has parameters? Are the parameters not just the values in the state dict?\n",
    "\n",
    "There are two items in the imported model's state dict for each parameter in the original model, but besides the names, they seem to be copies of eachother. I am going to go ahead an select one of the copies, and ignore this curiosity. Hopefully this will not be a problem."
   ]
  }
 ],
 "metadata": {
  "interpreter": {
   "hash": "9c01baedbc736a94a9664335a750a75cd4fe1534c0fde3980701cc4f06df05d1"
  },
  "kernelspec": {
   "display_name": "Python 3.9.5 ('base')",
   "language": "python",
   "name": "python3"
  },
  "language_info": {
   "codemirror_mode": {
    "name": "ipython",
    "version": 3
   },
   "file_extension": ".py",
   "mimetype": "text/x-python",
   "name": "python",
   "nbconvert_exporter": "python",
   "pygments_lexer": "ipython3",
   "version": "3.9.7"
  },
  "orig_nbformat": 4
 },
 "nbformat": 4,
 "nbformat_minor": 2
}
