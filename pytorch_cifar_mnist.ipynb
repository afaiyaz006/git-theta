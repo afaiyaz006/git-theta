{
 "cells": [
  {
   "cell_type": "markdown",
   "metadata": {},
   "source": [
    "# There and Back Again: A Collaborative Learning Demonstration on MNIST and rotated-MNIST\n",
    "\n",
    "## The Basic Ingredients\n",
    "\n",
    "- Loading the dataset\n",
    "- Visualizing the images\n",
    "- Defining the model\n",
    "- Running the training loop\n",
    "- Evaluating the model"
   ]
  },
  {
   "cell_type": "markdown",
   "metadata": {},
   "source": [
    "## Loading the dataset"
   ]
  },
  {
   "cell_type": "code",
   "execution_count": 97,
   "metadata": {},
   "outputs": [],
   "source": [
    "import torch\n",
    "import torchvision\n",
    "import torchvision.transforms as tf\n",
    "\n",
    "transform = tf.Compose([\n",
    "    tf.ToTensor(),\n",
    "    tf.Normalize(0.5, 0.5),\n",
    "])\n",
    "\n",
    "rotated_transform = tf.Compose([\n",
    "    tf.ToTensor(),\n",
    "    tf.Normalize(0.5, 0.5),\n",
    "    tf.RandomRotation(45)\n",
    "])\n",
    "\n",
    "batch_size = 16\n",
    "\n",
    "trainset = torchvision.datasets.MNIST(root='./data', train=True, download=True, transform=transform)\n",
    "trainloader = torch.utils.data.DataLoader(trainset, batch_size = batch_size, shuffle=True)\n",
    "train_iter = iter(trainloader)\n",
    "\n",
    "testset = torchvision.datasets.MNIST(root='./data', train=False, download=True, transform=transform)\n",
    "testloader = torch.utils.data.DataLoader(testset, batch_size = batch_size, shuffle=True)\n",
    "test_iter = iter(testloader)\n",
    "\n",
    "\n",
    "rotated_trainset = torchvision.datasets.MNIST(root='./data', train=True, download=True, transform=rotated_transform)\n",
    "rotated_trainloader = torch.utils.data.DataLoader(rotated_trainset, batch_size = batch_size, shuffle=True)\n",
    "rotated_train_iter = iter(rotated_trainloader)\n",
    "\n",
    "rotated_testset = torchvision.datasets.MNIST(root='./data', train=False, download=True, transform=rotated_transform)\n",
    "rotated_testloader = torch.utils.data.DataLoader(rotated_testset, batch_size = batch_size, shuffle=True)\n",
    "rotated_test_iter = iter(rotated_testloader)"
   ]
  },
  {
   "cell_type": "markdown",
   "metadata": {},
   "source": [
    "## Visualizing the dataset"
   ]
  },
  {
   "cell_type": "code",
   "execution_count": 75,
   "metadata": {},
   "outputs": [
    {
     "data": {
      "application/vnd.plotly.v1+json": {
       "config": {
        "plotlyServerURL": "https://plot.ly"
       },
       "data": [
        {
         "hovertemplate": "x: %{x}<br>y: %{y}<extra></extra>",
         "name": "0",
         "source": "data:image/png;base64,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",
         "type": "image",
         "xaxis": "x",
         "yaxis": "y"
        }
       ],
       "layout": {
        "height": 400,
        "margin": {
         "b": 0,
         "l": 0,
         "r": 0,
         "t": 0
        },
        "template": {
         "data": {
          "bar": [
           {
            "error_x": {
             "color": "#2a3f5f"
            },
            "error_y": {
             "color": "#2a3f5f"
            },
            "marker": {
             "line": {
              "color": "#E5ECF6",
              "width": 0.5
             },
             "pattern": {
              "fillmode": "overlay",
              "size": 10,
              "solidity": 0.2
             }
            },
            "type": "bar"
           }
          ],
          "barpolar": [
           {
            "marker": {
             "line": {
              "color": "#E5ECF6",
              "width": 0.5
             },
             "pattern": {
              "fillmode": "overlay",
              "size": 10,
              "solidity": 0.2
             }
            },
            "type": "barpolar"
           }
          ],
          "carpet": [
           {
            "aaxis": {
             "endlinecolor": "#2a3f5f",
             "gridcolor": "white",
             "linecolor": "white",
             "minorgridcolor": "white",
             "startlinecolor": "#2a3f5f"
            },
            "baxis": {
             "endlinecolor": "#2a3f5f",
             "gridcolor": "white",
             "linecolor": "white",
             "minorgridcolor": "white",
             "startlinecolor": "#2a3f5f"
            },
            "type": "carpet"
           }
          ],
          "choropleth": [
           {
            "colorbar": {
             "outlinewidth": 0,
             "ticks": ""
            },
            "type": "choropleth"
           }
          ],
          "contour": [
           {
            "colorbar": {
             "outlinewidth": 0,
             "ticks": ""
            },
            "colorscale": [
             [
              0,
              "#0d0887"
             ],
             [
              0.1111111111111111,
              "#46039f"
             ],
             [
              0.2222222222222222,
              "#7201a8"
             ],
             [
              0.3333333333333333,
              "#9c179e"
             ],
             [
              0.4444444444444444,
              "#bd3786"
             ],
             [
              0.5555555555555556,
              "#d8576b"
             ],
             [
              0.6666666666666666,
              "#ed7953"
             ],
             [
              0.7777777777777778,
              "#fb9f3a"
             ],
             [
              0.8888888888888888,
              "#fdca26"
             ],
             [
              1,
              "#f0f921"
             ]
            ],
            "type": "contour"
           }
          ],
          "contourcarpet": [
           {
            "colorbar": {
             "outlinewidth": 0,
             "ticks": ""
            },
            "type": "contourcarpet"
           }
          ],
          "heatmap": [
           {
            "colorbar": {
             "outlinewidth": 0,
             "ticks": ""
            },
            "colorscale": [
             [
              0,
              "#0d0887"
             ],
             [
              0.1111111111111111,
              "#46039f"
             ],
             [
              0.2222222222222222,
              "#7201a8"
             ],
             [
              0.3333333333333333,
              "#9c179e"
             ],
             [
              0.4444444444444444,
              "#bd3786"
             ],
             [
              0.5555555555555556,
              "#d8576b"
             ],
             [
              0.6666666666666666,
              "#ed7953"
             ],
             [
              0.7777777777777778,
              "#fb9f3a"
             ],
             [
              0.8888888888888888,
              "#fdca26"
             ],
             [
              1,
              "#f0f921"
             ]
            ],
            "type": "heatmap"
           }
          ],
          "heatmapgl": [
           {
            "colorbar": {
             "outlinewidth": 0,
             "ticks": ""
            },
            "colorscale": [
             [
              0,
              "#0d0887"
             ],
             [
              0.1111111111111111,
              "#46039f"
             ],
             [
              0.2222222222222222,
              "#7201a8"
             ],
             [
              0.3333333333333333,
              "#9c179e"
             ],
             [
              0.4444444444444444,
              "#bd3786"
             ],
             [
              0.5555555555555556,
              "#d8576b"
             ],
             [
              0.6666666666666666,
              "#ed7953"
             ],
             [
              0.7777777777777778,
              "#fb9f3a"
             ],
             [
              0.8888888888888888,
              "#fdca26"
             ],
             [
              1,
              "#f0f921"
             ]
            ],
            "type": "heatmapgl"
           }
          ],
          "histogram": [
           {
            "marker": {
             "pattern": {
              "fillmode": "overlay",
              "size": 10,
              "solidity": 0.2
             }
            },
            "type": "histogram"
           }
          ],
          "histogram2d": [
           {
            "colorbar": {
             "outlinewidth": 0,
             "ticks": ""
            },
            "colorscale": [
             [
              0,
              "#0d0887"
             ],
             [
              0.1111111111111111,
              "#46039f"
             ],
             [
              0.2222222222222222,
              "#7201a8"
             ],
             [
              0.3333333333333333,
              "#9c179e"
             ],
             [
              0.4444444444444444,
              "#bd3786"
             ],
             [
              0.5555555555555556,
              "#d8576b"
             ],
             [
              0.6666666666666666,
              "#ed7953"
             ],
             [
              0.7777777777777778,
              "#fb9f3a"
             ],
             [
              0.8888888888888888,
              "#fdca26"
             ],
             [
              1,
              "#f0f921"
             ]
            ],
            "type": "histogram2d"
           }
          ],
          "histogram2dcontour": [
           {
            "colorbar": {
             "outlinewidth": 0,
             "ticks": ""
            },
            "colorscale": [
             [
              0,
              "#0d0887"
             ],
             [
              0.1111111111111111,
              "#46039f"
             ],
             [
              0.2222222222222222,
              "#7201a8"
             ],
             [
              0.3333333333333333,
              "#9c179e"
             ],
             [
              0.4444444444444444,
              "#bd3786"
             ],
             [
              0.5555555555555556,
              "#d8576b"
             ],
             [
              0.6666666666666666,
              "#ed7953"
             ],
             [
              0.7777777777777778,
              "#fb9f3a"
             ],
             [
              0.8888888888888888,
              "#fdca26"
             ],
             [
              1,
              "#f0f921"
             ]
            ],
            "type": "histogram2dcontour"
           }
          ],
          "mesh3d": [
           {
            "colorbar": {
             "outlinewidth": 0,
             "ticks": ""
            },
            "type": "mesh3d"
           }
          ],
          "parcoords": [
           {
            "line": {
             "colorbar": {
              "outlinewidth": 0,
              "ticks": ""
             }
            },
            "type": "parcoords"
           }
          ],
          "pie": [
           {
            "automargin": true,
            "type": "pie"
           }
          ],
          "scatter": [
           {
            "marker": {
             "colorbar": {
              "outlinewidth": 0,
              "ticks": ""
             }
            },
            "type": "scatter"
           }
          ],
          "scatter3d": [
           {
            "line": {
             "colorbar": {
              "outlinewidth": 0,
              "ticks": ""
             }
            },
            "marker": {
             "colorbar": {
              "outlinewidth": 0,
              "ticks": ""
             }
            },
            "type": "scatter3d"
           }
          ],
          "scattercarpet": [
           {
            "marker": {
             "colorbar": {
              "outlinewidth": 0,
              "ticks": ""
             }
            },
            "type": "scattercarpet"
           }
          ],
          "scattergeo": [
           {
            "marker": {
             "colorbar": {
              "outlinewidth": 0,
              "ticks": ""
             }
            },
            "type": "scattergeo"
           }
          ],
          "scattergl": [
           {
            "marker": {
             "colorbar": {
              "outlinewidth": 0,
              "ticks": ""
             }
            },
            "type": "scattergl"
           }
          ],
          "scattermapbox": [
           {
            "marker": {
             "colorbar": {
              "outlinewidth": 0,
              "ticks": ""
             }
            },
            "type": "scattermapbox"
           }
          ],
          "scatterpolar": [
           {
            "marker": {
             "colorbar": {
              "outlinewidth": 0,
              "ticks": ""
             }
            },
            "type": "scatterpolar"
           }
          ],
          "scatterpolargl": [
           {
            "marker": {
             "colorbar": {
              "outlinewidth": 0,
              "ticks": ""
             }
            },
            "type": "scatterpolargl"
           }
          ],
          "scatterternary": [
           {
            "marker": {
             "colorbar": {
              "outlinewidth": 0,
              "ticks": ""
             }
            },
            "type": "scatterternary"
           }
          ],
          "surface": [
           {
            "colorbar": {
             "outlinewidth": 0,
             "ticks": ""
            },
            "colorscale": [
             [
              0,
              "#0d0887"
             ],
             [
              0.1111111111111111,
              "#46039f"
             ],
             [
              0.2222222222222222,
              "#7201a8"
             ],
             [
              0.3333333333333333,
              "#9c179e"
             ],
             [
              0.4444444444444444,
              "#bd3786"
             ],
             [
              0.5555555555555556,
              "#d8576b"
             ],
             [
              0.6666666666666666,
              "#ed7953"
             ],
             [
              0.7777777777777778,
              "#fb9f3a"
             ],
             [
              0.8888888888888888,
              "#fdca26"
             ],
             [
              1,
              "#f0f921"
             ]
            ],
            "type": "surface"
           }
          ],
          "table": [
           {
            "cells": {
             "fill": {
              "color": "#EBF0F8"
             },
             "line": {
              "color": "white"
             }
            },
            "header": {
             "fill": {
              "color": "#C8D4E3"
             },
             "line": {
              "color": "white"
             }
            },
            "type": "table"
           }
          ]
         },
         "layout": {
          "annotationdefaults": {
           "arrowcolor": "#2a3f5f",
           "arrowhead": 0,
           "arrowwidth": 1
          },
          "autotypenumbers": "strict",
          "coloraxis": {
           "colorbar": {
            "outlinewidth": 0,
            "ticks": ""
           }
          },
          "colorscale": {
           "diverging": [
            [
             0,
             "#8e0152"
            ],
            [
             0.1,
             "#c51b7d"
            ],
            [
             0.2,
             "#de77ae"
            ],
            [
             0.3,
             "#f1b6da"
            ],
            [
             0.4,
             "#fde0ef"
            ],
            [
             0.5,
             "#f7f7f7"
            ],
            [
             0.6,
             "#e6f5d0"
            ],
            [
             0.7,
             "#b8e186"
            ],
            [
             0.8,
             "#7fbc41"
            ],
            [
             0.9,
             "#4d9221"
            ],
            [
             1,
             "#276419"
            ]
           ],
           "sequential": [
            [
             0,
             "#0d0887"
            ],
            [
             0.1111111111111111,
             "#46039f"
            ],
            [
             0.2222222222222222,
             "#7201a8"
            ],
            [
             0.3333333333333333,
             "#9c179e"
            ],
            [
             0.4444444444444444,
             "#bd3786"
            ],
            [
             0.5555555555555556,
             "#d8576b"
            ],
            [
             0.6666666666666666,
             "#ed7953"
            ],
            [
             0.7777777777777778,
             "#fb9f3a"
            ],
            [
             0.8888888888888888,
             "#fdca26"
            ],
            [
             1,
             "#f0f921"
            ]
           ],
           "sequentialminus": [
            [
             0,
             "#0d0887"
            ],
            [
             0.1111111111111111,
             "#46039f"
            ],
            [
             0.2222222222222222,
             "#7201a8"
            ],
            [
             0.3333333333333333,
             "#9c179e"
            ],
            [
             0.4444444444444444,
             "#bd3786"
            ],
            [
             0.5555555555555556,
             "#d8576b"
            ],
            [
             0.6666666666666666,
             "#ed7953"
            ],
            [
             0.7777777777777778,
             "#fb9f3a"
            ],
            [
             0.8888888888888888,
             "#fdca26"
            ],
            [
             1,
             "#f0f921"
            ]
           ]
          },
          "colorway": [
           "#636efa",
           "#EF553B",
           "#00cc96",
           "#ab63fa",
           "#FFA15A",
           "#19d3f3",
           "#FF6692",
           "#B6E880",
           "#FF97FF",
           "#FECB52"
          ],
          "font": {
           "color": "#2a3f5f"
          },
          "geo": {
           "bgcolor": "white",
           "lakecolor": "white",
           "landcolor": "#E5ECF6",
           "showlakes": true,
           "showland": true,
           "subunitcolor": "white"
          },
          "hoverlabel": {
           "align": "left"
          },
          "hovermode": "closest",
          "mapbox": {
           "style": "light"
          },
          "paper_bgcolor": "white",
          "plot_bgcolor": "#E5ECF6",
          "polar": {
           "angularaxis": {
            "gridcolor": "white",
            "linecolor": "white",
            "ticks": ""
           },
           "bgcolor": "#E5ECF6",
           "radialaxis": {
            "gridcolor": "white",
            "linecolor": "white",
            "ticks": ""
           }
          },
          "scene": {
           "xaxis": {
            "backgroundcolor": "#E5ECF6",
            "gridcolor": "white",
            "gridwidth": 2,
            "linecolor": "white",
            "showbackground": true,
            "ticks": "",
            "zerolinecolor": "white"
           },
           "yaxis": {
            "backgroundcolor": "#E5ECF6",
            "gridcolor": "white",
            "gridwidth": 2,
            "linecolor": "white",
            "showbackground": true,
            "ticks": "",
            "zerolinecolor": "white"
           },
           "zaxis": {
            "backgroundcolor": "#E5ECF6",
            "gridcolor": "white",
            "gridwidth": 2,
            "linecolor": "white",
            "showbackground": true,
            "ticks": "",
            "zerolinecolor": "white"
           }
          },
          "shapedefaults": {
           "line": {
            "color": "#2a3f5f"
           }
          },
          "ternary": {
           "aaxis": {
            "gridcolor": "white",
            "linecolor": "white",
            "ticks": ""
           },
           "baxis": {
            "gridcolor": "white",
            "linecolor": "white",
            "ticks": ""
           },
           "bgcolor": "#E5ECF6",
           "caxis": {
            "gridcolor": "white",
            "linecolor": "white",
            "ticks": ""
           }
          },
          "title": {
           "x": 0.05
          },
          "xaxis": {
           "automargin": true,
           "gridcolor": "white",
           "linecolor": "white",
           "ticks": "",
           "title": {
            "standoff": 15
           },
           "zerolinecolor": "white",
           "zerolinewidth": 2
          },
          "yaxis": {
           "automargin": true,
           "gridcolor": "white",
           "linecolor": "white",
           "ticks": "",
           "title": {
            "standoff": 15
           },
           "zerolinecolor": "white",
           "zerolinewidth": 2
          }
         }
        },
        "width": 400,
        "xaxis": {
         "anchor": "y",
         "domain": [
          0,
          1
         ],
         "showticklabels": false
        },
        "yaxis": {
         "anchor": "x",
         "domain": [
          0,
          1
         ],
         "showticklabels": false
        }
       }
      }
     },
     "metadata": {},
     "output_type": "display_data"
    },
    {
     "name": "stdout",
     "output_type": "stream",
     "text": [
      "[8, 7, 3, 5, 1, 1, 7, 7, 9, 4, 3, 2, 6, 2, 4, 8]\n"
     ]
    }
   ],
   "source": [
    "import plotly.express as px\n",
    "\n",
    "def imshow(im):\n",
    "    if torch.min(im) < 0:\n",
    "        im = im - torch.min(im)\n",
    "        im = im / torch.max(im)\n",
    "\n",
    "\n",
    "    ndims = len(im.shape)\n",
    "    im = torch.squeeze(im)\n",
    "    if len(im.shape) == ndims:\n",
    "        im = im.permute(1,2,0)\n",
    "    \n",
    "    fig = px.imshow(im)\n",
    "\n",
    "    fig.update_layout(margin={'t': 0, 'r': 0, 'b': 0, 'l': 0})\n",
    "\n",
    "    if im.shape[0] == im.shape[1]:\n",
    "        fig.update_layout(width=400, height=400)\n",
    "    fig.update_xaxes(showticklabels=False).update_yaxes(showticklabels=False)\n",
    "    fig.show()\n",
    "\n",
    "batch, labels = next(rotated_train_iter)\n",
    "N = 16\n",
    "imshow(torchvision.utils.make_grid(batch[:N, :, :, :], nrow = 4, normalize=True))\n",
    "print([l.item() for l in labels])"
   ]
  },
  {
   "cell_type": "markdown",
   "metadata": {},
   "source": [
    "## Defining the Model"
   ]
  },
  {
   "cell_type": "code",
   "execution_count": 99,
   "metadata": {},
   "outputs": [],
   "source": [
    "import torch.nn as nn\n",
    "import torch.nn.functional as F\n",
    "\n",
    "class Net(nn.Module): # Input size = 32\n",
    "    def __init__(self):\n",
    "        super().__init__()\n",
    "        self.conv1 = nn.Conv2d(1, 3, 5)\n",
    "        self.conv2 = nn.Conv2d(3, 6, 5)\n",
    "        self.max_pool = nn.MaxPool2d(2, 2)\n",
    "        self.fc1 = nn.Linear(6 * 4 * 4, 80)\n",
    "        self.fc2 = nn.Linear(80, 40)\n",
    "        self.fc3 = nn.Linear(40, 10)\n",
    "\n",
    "    def forward(self, x):\n",
    "        x = self.max_pool(F.relu(self.conv1(x)))\n",
    "        x = self.max_pool(F.relu(self.conv2(x)))\n",
    "\n",
    "        x = torch.flatten(x, 1)\n",
    "\n",
    "        x = F.relu(self.fc1(x))\n",
    "        x = F.relu(self.fc2(x))\n",
    "        x = self.fc3(x)\n",
    "\n",
    "        return x \n",
    "        \n",
    "\n",
    "net = Net()"
   ]
  },
  {
   "cell_type": "markdown",
   "metadata": {},
   "source": [
    "## Initial Model Training"
   ]
  },
  {
   "cell_type": "code",
   "execution_count": 123,
   "metadata": {},
   "outputs": [],
   "source": [
    "def train(net, optimizer, dataloader, num_epochs=2):\n",
    "    loss_fn = torch.nn.CrossEntropyLoss()\n",
    "\n",
    "    for e in range(num_epochs):\n",
    "        cumulative_loss = 0\n",
    "        loss_window = len(dataloader) // 10\n",
    "        for i, (batch, labels) in enumerate(dataloader, 1):\n",
    "            optimizer.zero_grad()\n",
    "\n",
    "            preds = net(batch)\n",
    "            loss = loss_fn(preds, labels)\n",
    "            loss.backward()\n",
    "            optimizer.step()\n",
    "\n",
    "            cumulative_loss += loss\n",
    "\n",
    "            if i % loss_window == 0:\n",
    "                print(f\"Loss at epoch {e+1}, batch {i}: {cumulative_loss / loss_window :.2f}\")\n",
    "                cumulative_loss = 0"
   ]
  },
  {
   "cell_type": "code",
   "execution_count": 100,
   "metadata": {},
   "outputs": [
    {
     "name": "stdout",
     "output_type": "stream",
     "text": [
      "Loss at epoch 1, batch 375: 0.99\n",
      "Loss at epoch 1, batch 750: 0.35\n",
      "Loss at epoch 1, batch 1125: 0.26\n",
      "Loss at epoch 1, batch 1500: 0.22\n",
      "Loss at epoch 1, batch 1875: 0.20\n",
      "Loss at epoch 1, batch 2250: 0.19\n",
      "Loss at epoch 1, batch 2625: 0.18\n",
      "Loss at epoch 1, batch 3000: 0.15\n",
      "Loss at epoch 1, batch 3375: 0.14\n",
      "Loss at epoch 1, batch 3750: 0.14\n",
      "Loss at epoch 2, batch 375: 0.12\n",
      "Loss at epoch 2, batch 750: 0.13\n",
      "Loss at epoch 2, batch 1125: 0.11\n",
      "Loss at epoch 2, batch 1500: 0.11\n",
      "Loss at epoch 2, batch 1875: 0.11\n",
      "Loss at epoch 2, batch 2250: 0.11\n",
      "Loss at epoch 2, batch 2625: 0.09\n",
      "Loss at epoch 2, batch 3000: 0.10\n",
      "Loss at epoch 2, batch 3375: 0.10\n",
      "Loss at epoch 2, batch 3750: 0.10\n"
     ]
    }
   ],
   "source": [
    "optimizer = torch.optim.Adam(net.parameters(), lr = 0.001)\n",
    "num_epochs = 2\n",
    "\n",
    "train(net, optimizer, trainloader, num_epochs)"
   ]
  },
  {
   "cell_type": "code",
   "execution_count": 177,
   "metadata": {},
   "outputs": [],
   "source": [
    "torch.onnx.export(net, batch, \"mnist_test_pretrained.onnx\", do_constant_folding=False)"
   ]
  },
  {
   "cell_type": "markdown",
   "metadata": {},
   "source": [
    "## Doing some inference"
   ]
  },
  {
   "cell_type": "code",
   "execution_count": 20,
   "metadata": {},
   "outputs": [
    {
     "data": {
      "application/vnd.plotly.v1+json": {
       "config": {
        "plotlyServerURL": "https://plot.ly"
       },
       "data": [
        {
         "hovertemplate": "x: %{x}<br>y: %{y}<extra></extra>",
         "name": "0",
         "source": "data:image/png;base64,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",
         "type": "image",
         "xaxis": "x",
         "yaxis": "y"
        }
       ],
       "layout": {
        "margin": {
         "b": 0,
         "l": 0,
         "r": 0,
         "t": 0
        },
        "template": {
         "data": {
          "bar": [
           {
            "error_x": {
             "color": "#2a3f5f"
            },
            "error_y": {
             "color": "#2a3f5f"
            },
            "marker": {
             "line": {
              "color": "#E5ECF6",
              "width": 0.5
             },
             "pattern": {
              "fillmode": "overlay",
              "size": 10,
              "solidity": 0.2
             }
            },
            "type": "bar"
           }
          ],
          "barpolar": [
           {
            "marker": {
             "line": {
              "color": "#E5ECF6",
              "width": 0.5
             },
             "pattern": {
              "fillmode": "overlay",
              "size": 10,
              "solidity": 0.2
             }
            },
            "type": "barpolar"
           }
          ],
          "carpet": [
           {
            "aaxis": {
             "endlinecolor": "#2a3f5f",
             "gridcolor": "white",
             "linecolor": "white",
             "minorgridcolor": "white",
             "startlinecolor": "#2a3f5f"
            },
            "baxis": {
             "endlinecolor": "#2a3f5f",
             "gridcolor": "white",
             "linecolor": "white",
             "minorgridcolor": "white",
             "startlinecolor": "#2a3f5f"
            },
            "type": "carpet"
           }
          ],
          "choropleth": [
           {
            "colorbar": {
             "outlinewidth": 0,
             "ticks": ""
            },
            "type": "choropleth"
           }
          ],
          "contour": [
           {
            "colorbar": {
             "outlinewidth": 0,
             "ticks": ""
            },
            "colorscale": [
             [
              0,
              "#0d0887"
             ],
             [
              0.1111111111111111,
              "#46039f"
             ],
             [
              0.2222222222222222,
              "#7201a8"
             ],
             [
              0.3333333333333333,
              "#9c179e"
             ],
             [
              0.4444444444444444,
              "#bd3786"
             ],
             [
              0.5555555555555556,
              "#d8576b"
             ],
             [
              0.6666666666666666,
              "#ed7953"
             ],
             [
              0.7777777777777778,
              "#fb9f3a"
             ],
             [
              0.8888888888888888,
              "#fdca26"
             ],
             [
              1,
              "#f0f921"
             ]
            ],
            "type": "contour"
           }
          ],
          "contourcarpet": [
           {
            "colorbar": {
             "outlinewidth": 0,
             "ticks": ""
            },
            "type": "contourcarpet"
           }
          ],
          "heatmap": [
           {
            "colorbar": {
             "outlinewidth": 0,
             "ticks": ""
            },
            "colorscale": [
             [
              0,
              "#0d0887"
             ],
             [
              0.1111111111111111,
              "#46039f"
             ],
             [
              0.2222222222222222,
              "#7201a8"
             ],
             [
              0.3333333333333333,
              "#9c179e"
             ],
             [
              0.4444444444444444,
              "#bd3786"
             ],
             [
              0.5555555555555556,
              "#d8576b"
             ],
             [
              0.6666666666666666,
              "#ed7953"
             ],
             [
              0.7777777777777778,
              "#fb9f3a"
             ],
             [
              0.8888888888888888,
              "#fdca26"
             ],
             [
              1,
              "#f0f921"
             ]
            ],
            "type": "heatmap"
           }
          ],
          "heatmapgl": [
           {
            "colorbar": {
             "outlinewidth": 0,
             "ticks": ""
            },
            "colorscale": [
             [
              0,
              "#0d0887"
             ],
             [
              0.1111111111111111,
              "#46039f"
             ],
             [
              0.2222222222222222,
              "#7201a8"
             ],
             [
              0.3333333333333333,
              "#9c179e"
             ],
             [
              0.4444444444444444,
              "#bd3786"
             ],
             [
              0.5555555555555556,
              "#d8576b"
             ],
             [
              0.6666666666666666,
              "#ed7953"
             ],
             [
              0.7777777777777778,
              "#fb9f3a"
             ],
             [
              0.8888888888888888,
              "#fdca26"
             ],
             [
              1,
              "#f0f921"
             ]
            ],
            "type": "heatmapgl"
           }
          ],
          "histogram": [
           {
            "marker": {
             "pattern": {
              "fillmode": "overlay",
              "size": 10,
              "solidity": 0.2
             }
            },
            "type": "histogram"
           }
          ],
          "histogram2d": [
           {
            "colorbar": {
             "outlinewidth": 0,
             "ticks": ""
            },
            "colorscale": [
             [
              0,
              "#0d0887"
             ],
             [
              0.1111111111111111,
              "#46039f"
             ],
             [
              0.2222222222222222,
              "#7201a8"
             ],
             [
              0.3333333333333333,
              "#9c179e"
             ],
             [
              0.4444444444444444,
              "#bd3786"
             ],
             [
              0.5555555555555556,
              "#d8576b"
             ],
             [
              0.6666666666666666,
              "#ed7953"
             ],
             [
              0.7777777777777778,
              "#fb9f3a"
             ],
             [
              0.8888888888888888,
              "#fdca26"
             ],
             [
              1,
              "#f0f921"
             ]
            ],
            "type": "histogram2d"
           }
          ],
          "histogram2dcontour": [
           {
            "colorbar": {
             "outlinewidth": 0,
             "ticks": ""
            },
            "colorscale": [
             [
              0,
              "#0d0887"
             ],
             [
              0.1111111111111111,
              "#46039f"
             ],
             [
              0.2222222222222222,
              "#7201a8"
             ],
             [
              0.3333333333333333,
              "#9c179e"
             ],
             [
              0.4444444444444444,
              "#bd3786"
             ],
             [
              0.5555555555555556,
              "#d8576b"
             ],
             [
              0.6666666666666666,
              "#ed7953"
             ],
             [
              0.7777777777777778,
              "#fb9f3a"
             ],
             [
              0.8888888888888888,
              "#fdca26"
             ],
             [
              1,
              "#f0f921"
             ]
            ],
            "type": "histogram2dcontour"
           }
          ],
          "mesh3d": [
           {
            "colorbar": {
             "outlinewidth": 0,
             "ticks": ""
            },
            "type": "mesh3d"
           }
          ],
          "parcoords": [
           {
            "line": {
             "colorbar": {
              "outlinewidth": 0,
              "ticks": ""
             }
            },
            "type": "parcoords"
           }
          ],
          "pie": [
           {
            "automargin": true,
            "type": "pie"
           }
          ],
          "scatter": [
           {
            "marker": {
             "colorbar": {
              "outlinewidth": 0,
              "ticks": ""
             }
            },
            "type": "scatter"
           }
          ],
          "scatter3d": [
           {
            "line": {
             "colorbar": {
              "outlinewidth": 0,
              "ticks": ""
             }
            },
            "marker": {
             "colorbar": {
              "outlinewidth": 0,
              "ticks": ""
             }
            },
            "type": "scatter3d"
           }
          ],
          "scattercarpet": [
           {
            "marker": {
             "colorbar": {
              "outlinewidth": 0,
              "ticks": ""
             }
            },
            "type": "scattercarpet"
           }
          ],
          "scattergeo": [
           {
            "marker": {
             "colorbar": {
              "outlinewidth": 0,
              "ticks": ""
             }
            },
            "type": "scattergeo"
           }
          ],
          "scattergl": [
           {
            "marker": {
             "colorbar": {
              "outlinewidth": 0,
              "ticks": ""
             }
            },
            "type": "scattergl"
           }
          ],
          "scattermapbox": [
           {
            "marker": {
             "colorbar": {
              "outlinewidth": 0,
              "ticks": ""
             }
            },
            "type": "scattermapbox"
           }
          ],
          "scatterpolar": [
           {
            "marker": {
             "colorbar": {
              "outlinewidth": 0,
              "ticks": ""
             }
            },
            "type": "scatterpolar"
           }
          ],
          "scatterpolargl": [
           {
            "marker": {
             "colorbar": {
              "outlinewidth": 0,
              "ticks": ""
             }
            },
            "type": "scatterpolargl"
           }
          ],
          "scatterternary": [
           {
            "marker": {
             "colorbar": {
              "outlinewidth": 0,
              "ticks": ""
             }
            },
            "type": "scatterternary"
           }
          ],
          "surface": [
           {
            "colorbar": {
             "outlinewidth": 0,
             "ticks": ""
            },
            "colorscale": [
             [
              0,
              "#0d0887"
             ],
             [
              0.1111111111111111,
              "#46039f"
             ],
             [
              0.2222222222222222,
              "#7201a8"
             ],
             [
              0.3333333333333333,
              "#9c179e"
             ],
             [
              0.4444444444444444,
              "#bd3786"
             ],
             [
              0.5555555555555556,
              "#d8576b"
             ],
             [
              0.6666666666666666,
              "#ed7953"
             ],
             [
              0.7777777777777778,
              "#fb9f3a"
             ],
             [
              0.8888888888888888,
              "#fdca26"
             ],
             [
              1,
              "#f0f921"
             ]
            ],
            "type": "surface"
           }
          ],
          "table": [
           {
            "cells": {
             "fill": {
              "color": "#EBF0F8"
             },
             "line": {
              "color": "white"
             }
            },
            "header": {
             "fill": {
              "color": "#C8D4E3"
             },
             "line": {
              "color": "white"
             }
            },
            "type": "table"
           }
          ]
         },
         "layout": {
          "annotationdefaults": {
           "arrowcolor": "#2a3f5f",
           "arrowhead": 0,
           "arrowwidth": 1
          },
          "autotypenumbers": "strict",
          "coloraxis": {
           "colorbar": {
            "outlinewidth": 0,
            "ticks": ""
           }
          },
          "colorscale": {
           "diverging": [
            [
             0,
             "#8e0152"
            ],
            [
             0.1,
             "#c51b7d"
            ],
            [
             0.2,
             "#de77ae"
            ],
            [
             0.3,
             "#f1b6da"
            ],
            [
             0.4,
             "#fde0ef"
            ],
            [
             0.5,
             "#f7f7f7"
            ],
            [
             0.6,
             "#e6f5d0"
            ],
            [
             0.7,
             "#b8e186"
            ],
            [
             0.8,
             "#7fbc41"
            ],
            [
             0.9,
             "#4d9221"
            ],
            [
             1,
             "#276419"
            ]
           ],
           "sequential": [
            [
             0,
             "#0d0887"
            ],
            [
             0.1111111111111111,
             "#46039f"
            ],
            [
             0.2222222222222222,
             "#7201a8"
            ],
            [
             0.3333333333333333,
             "#9c179e"
            ],
            [
             0.4444444444444444,
             "#bd3786"
            ],
            [
             0.5555555555555556,
             "#d8576b"
            ],
            [
             0.6666666666666666,
             "#ed7953"
            ],
            [
             0.7777777777777778,
             "#fb9f3a"
            ],
            [
             0.8888888888888888,
             "#fdca26"
            ],
            [
             1,
             "#f0f921"
            ]
           ],
           "sequentialminus": [
            [
             0,
             "#0d0887"
            ],
            [
             0.1111111111111111,
             "#46039f"
            ],
            [
             0.2222222222222222,
             "#7201a8"
            ],
            [
             0.3333333333333333,
             "#9c179e"
            ],
            [
             0.4444444444444444,
             "#bd3786"
            ],
            [
             0.5555555555555556,
             "#d8576b"
            ],
            [
             0.6666666666666666,
             "#ed7953"
            ],
            [
             0.7777777777777778,
             "#fb9f3a"
            ],
            [
             0.8888888888888888,
             "#fdca26"
            ],
            [
             1,
             "#f0f921"
            ]
           ]
          },
          "colorway": [
           "#636efa",
           "#EF553B",
           "#00cc96",
           "#ab63fa",
           "#FFA15A",
           "#19d3f3",
           "#FF6692",
           "#B6E880",
           "#FF97FF",
           "#FECB52"
          ],
          "font": {
           "color": "#2a3f5f"
          },
          "geo": {
           "bgcolor": "white",
           "lakecolor": "white",
           "landcolor": "#E5ECF6",
           "showlakes": true,
           "showland": true,
           "subunitcolor": "white"
          },
          "hoverlabel": {
           "align": "left"
          },
          "hovermode": "closest",
          "mapbox": {
           "style": "light"
          },
          "paper_bgcolor": "white",
          "plot_bgcolor": "#E5ECF6",
          "polar": {
           "angularaxis": {
            "gridcolor": "white",
            "linecolor": "white",
            "ticks": ""
           },
           "bgcolor": "#E5ECF6",
           "radialaxis": {
            "gridcolor": "white",
            "linecolor": "white",
            "ticks": ""
           }
          },
          "scene": {
           "xaxis": {
            "backgroundcolor": "#E5ECF6",
            "gridcolor": "white",
            "gridwidth": 2,
            "linecolor": "white",
            "showbackground": true,
            "ticks": "",
            "zerolinecolor": "white"
           },
           "yaxis": {
            "backgroundcolor": "#E5ECF6",
            "gridcolor": "white",
            "gridwidth": 2,
            "linecolor": "white",
            "showbackground": true,
            "ticks": "",
            "zerolinecolor": "white"
           },
           "zaxis": {
            "backgroundcolor": "#E5ECF6",
            "gridcolor": "white",
            "gridwidth": 2,
            "linecolor": "white",
            "showbackground": true,
            "ticks": "",
            "zerolinecolor": "white"
           }
          },
          "shapedefaults": {
           "line": {
            "color": "#2a3f5f"
           }
          },
          "ternary": {
           "aaxis": {
            "gridcolor": "white",
            "linecolor": "white",
            "ticks": ""
           },
           "baxis": {
            "gridcolor": "white",
            "linecolor": "white",
            "ticks": ""
           },
           "bgcolor": "#E5ECF6",
           "caxis": {
            "gridcolor": "white",
            "linecolor": "white",
            "ticks": ""
           }
          },
          "title": {
           "x": 0.05
          },
          "xaxis": {
           "automargin": true,
           "gridcolor": "white",
           "linecolor": "white",
           "ticks": "",
           "title": {
            "standoff": 15
           },
           "zerolinecolor": "white",
           "zerolinewidth": 2
          },
          "yaxis": {
           "automargin": true,
           "gridcolor": "white",
           "linecolor": "white",
           "ticks": "",
           "title": {
            "standoff": 15
           },
           "zerolinecolor": "white",
           "zerolinewidth": 2
          }
         }
        },
        "xaxis": {
         "anchor": "y",
         "domain": [
          0,
          1
         ],
         "showticklabels": false
        },
        "yaxis": {
         "anchor": "x",
         "domain": [
          0,
          1
         ],
         "showticklabels": false
        }
       }
      }
     },
     "metadata": {},
     "output_type": "display_data"
    },
    {
     "name": "stdout",
     "output_type": "stream",
     "text": [
      "[0, 0, 3, 2, 6, 5, 9, 8, 1, 0, 6, 1, 1, 3, 2, 3]\n",
      "[0, 0, 3, 2, 6, 5, 9, 8, 1, 9, 6, 1, 1, 3, 2, 3]\n"
     ]
    }
   ],
   "source": [
    "import numpy as np\n",
    "\n",
    "images, labels = next(test_iter)\n",
    "\n",
    "imshow(torchvision.utils.make_grid(images))\n",
    "\n",
    "print(list(torch.argmax(net(images), axis=1).numpy()))\n",
    "print([l.item() for l in labels])"
   ]
  },
  {
   "cell_type": "markdown",
   "metadata": {},
   "source": [
    "## Evaluating the Model"
   ]
  },
  {
   "cell_type": "code",
   "execution_count": 114,
   "metadata": {},
   "outputs": [],
   "source": [
    "def evaluate_model(net, dataloader, class_specific_performance=False):\n",
    "    if not class_specific_performance:\n",
    "        correct, total = (0, 0)\n",
    "    else:        \n",
    "        correct = {digit: 0 for digit in range(10)}\n",
    "        total = {digit: 0 for digit in range(10)}\n",
    "\n",
    "    with torch.no_grad():\n",
    "        for (batch, labels) in dataloader:\n",
    "            outputs = net(batch)\n",
    "            preds = torch.argmax(outputs, 1)\n",
    "\n",
    "            if not class_specific_performance:\n",
    "                total += labels.shape[0]\n",
    "                correct += torch.sum(preds == labels).item()\n",
    "            else:\n",
    "                for label, pred in zip(labels, preds):                \n",
    "                    if pred == label:\n",
    "                        correct[label.item()] += 1\n",
    "                    total[label.item()] += 1\n",
    "    return correct, total"
   ]
  },
  {
   "cell_type": "code",
   "execution_count": 116,
   "metadata": {},
   "outputs": [
    {
     "name": "stdout",
     "output_type": "stream",
     "text": [
      "The model classified 9705 digits correctly, out of 10000 total, for an accuracy of 97.05%\n"
     ]
    }
   ],
   "source": [
    "correct, total = evaluate_model(net, testloader)\n",
    "\n",
    "print(f\"The model classified {correct} digits correctly, out of {total} total, for an accuracy of {correct * 100 / total :.2f}%\")"
   ]
  },
  {
   "cell_type": "markdown",
   "metadata": {},
   "source": [
    "## But how does it perform in the rotated context?"
   ]
  },
  {
   "cell_type": "code",
   "execution_count": 119,
   "metadata": {},
   "outputs": [
    {
     "name": "stdout",
     "output_type": "stream",
     "text": [
      "The model classified 7968 rotated digits correctly, out of 10000 total, for an accuracy of 79.68%\n"
     ]
    }
   ],
   "source": [
    "correct, total = evaluate_model(net, rotated_testloader, class_specific_performance=True)\n",
    "c = sum(correct.values())\n",
    "t = sum(total.values())\n",
    "print(f\"The model classified {c} rotated digits correctly, out of {t} total, for an accuracy of {c * 100 / t :.2f}%\")"
   ]
  },
  {
   "cell_type": "markdown",
   "metadata": {},
   "source": [
    "Open Question: Why does this change on each run?"
   ]
  },
  {
   "cell_type": "code",
   "execution_count": 120,
   "metadata": {},
   "outputs": [
    {
     "data": {
      "application/vnd.plotly.v1+json": {
       "config": {
        "plotlyServerURL": "https://plot.ly"
       },
       "data": [
        {
         "alignmentgroup": "True",
         "hovertemplate": "digit=%{x}<br>Classification Success Rate=%{y}<extra></extra>",
         "legendgroup": "",
         "marker": {
          "color": "#636efa",
          "pattern": {
           "shape": ""
          }
         },
         "name": "",
         "offsetgroup": "",
         "orientation": "v",
         "showlegend": false,
         "textposition": "auto",
         "type": "bar",
         "x": [
          0,
          1,
          2,
          3,
          4,
          5,
          6,
          7,
          8,
          9
         ],
         "xaxis": "x",
         "y": [
          0.94,
          0.862,
          0.895,
          0.811,
          0.633,
          0.77,
          0.837,
          0.565,
          0.756,
          0.899
         ],
         "yaxis": "y"
        }
       ],
       "layout": {
        "barmode": "relative",
        "legend": {
         "tracegroupgap": 0
        },
        "margin": {
         "t": 60
        },
        "template": {
         "data": {
          "bar": [
           {
            "error_x": {
             "color": "#2a3f5f"
            },
            "error_y": {
             "color": "#2a3f5f"
            },
            "marker": {
             "line": {
              "color": "#E5ECF6",
              "width": 0.5
             },
             "pattern": {
              "fillmode": "overlay",
              "size": 10,
              "solidity": 0.2
             }
            },
            "type": "bar"
           }
          ],
          "barpolar": [
           {
            "marker": {
             "line": {
              "color": "#E5ECF6",
              "width": 0.5
             },
             "pattern": {
              "fillmode": "overlay",
              "size": 10,
              "solidity": 0.2
             }
            },
            "type": "barpolar"
           }
          ],
          "carpet": [
           {
            "aaxis": {
             "endlinecolor": "#2a3f5f",
             "gridcolor": "white",
             "linecolor": "white",
             "minorgridcolor": "white",
             "startlinecolor": "#2a3f5f"
            },
            "baxis": {
             "endlinecolor": "#2a3f5f",
             "gridcolor": "white",
             "linecolor": "white",
             "minorgridcolor": "white",
             "startlinecolor": "#2a3f5f"
            },
            "type": "carpet"
           }
          ],
          "choropleth": [
           {
            "colorbar": {
             "outlinewidth": 0,
             "ticks": ""
            },
            "type": "choropleth"
           }
          ],
          "contour": [
           {
            "colorbar": {
             "outlinewidth": 0,
             "ticks": ""
            },
            "colorscale": [
             [
              0,
              "#0d0887"
             ],
             [
              0.1111111111111111,
              "#46039f"
             ],
             [
              0.2222222222222222,
              "#7201a8"
             ],
             [
              0.3333333333333333,
              "#9c179e"
             ],
             [
              0.4444444444444444,
              "#bd3786"
             ],
             [
              0.5555555555555556,
              "#d8576b"
             ],
             [
              0.6666666666666666,
              "#ed7953"
             ],
             [
              0.7777777777777778,
              "#fb9f3a"
             ],
             [
              0.8888888888888888,
              "#fdca26"
             ],
             [
              1,
              "#f0f921"
             ]
            ],
            "type": "contour"
           }
          ],
          "contourcarpet": [
           {
            "colorbar": {
             "outlinewidth": 0,
             "ticks": ""
            },
            "type": "contourcarpet"
           }
          ],
          "heatmap": [
           {
            "colorbar": {
             "outlinewidth": 0,
             "ticks": ""
            },
            "colorscale": [
             [
              0,
              "#0d0887"
             ],
             [
              0.1111111111111111,
              "#46039f"
             ],
             [
              0.2222222222222222,
              "#7201a8"
             ],
             [
              0.3333333333333333,
              "#9c179e"
             ],
             [
              0.4444444444444444,
              "#bd3786"
             ],
             [
              0.5555555555555556,
              "#d8576b"
             ],
             [
              0.6666666666666666,
              "#ed7953"
             ],
             [
              0.7777777777777778,
              "#fb9f3a"
             ],
             [
              0.8888888888888888,
              "#fdca26"
             ],
             [
              1,
              "#f0f921"
             ]
            ],
            "type": "heatmap"
           }
          ],
          "heatmapgl": [
           {
            "colorbar": {
             "outlinewidth": 0,
             "ticks": ""
            },
            "colorscale": [
             [
              0,
              "#0d0887"
             ],
             [
              0.1111111111111111,
              "#46039f"
             ],
             [
              0.2222222222222222,
              "#7201a8"
             ],
             [
              0.3333333333333333,
              "#9c179e"
             ],
             [
              0.4444444444444444,
              "#bd3786"
             ],
             [
              0.5555555555555556,
              "#d8576b"
             ],
             [
              0.6666666666666666,
              "#ed7953"
             ],
             [
              0.7777777777777778,
              "#fb9f3a"
             ],
             [
              0.8888888888888888,
              "#fdca26"
             ],
             [
              1,
              "#f0f921"
             ]
            ],
            "type": "heatmapgl"
           }
          ],
          "histogram": [
           {
            "marker": {
             "pattern": {
              "fillmode": "overlay",
              "size": 10,
              "solidity": 0.2
             }
            },
            "type": "histogram"
           }
          ],
          "histogram2d": [
           {
            "colorbar": {
             "outlinewidth": 0,
             "ticks": ""
            },
            "colorscale": [
             [
              0,
              "#0d0887"
             ],
             [
              0.1111111111111111,
              "#46039f"
             ],
             [
              0.2222222222222222,
              "#7201a8"
             ],
             [
              0.3333333333333333,
              "#9c179e"
             ],
             [
              0.4444444444444444,
              "#bd3786"
             ],
             [
              0.5555555555555556,
              "#d8576b"
             ],
             [
              0.6666666666666666,
              "#ed7953"
             ],
             [
              0.7777777777777778,
              "#fb9f3a"
             ],
             [
              0.8888888888888888,
              "#fdca26"
             ],
             [
              1,
              "#f0f921"
             ]
            ],
            "type": "histogram2d"
           }
          ],
          "histogram2dcontour": [
           {
            "colorbar": {
             "outlinewidth": 0,
             "ticks": ""
            },
            "colorscale": [
             [
              0,
              "#0d0887"
             ],
             [
              0.1111111111111111,
              "#46039f"
             ],
             [
              0.2222222222222222,
              "#7201a8"
             ],
             [
              0.3333333333333333,
              "#9c179e"
             ],
             [
              0.4444444444444444,
              "#bd3786"
             ],
             [
              0.5555555555555556,
              "#d8576b"
             ],
             [
              0.6666666666666666,
              "#ed7953"
             ],
             [
              0.7777777777777778,
              "#fb9f3a"
             ],
             [
              0.8888888888888888,
              "#fdca26"
             ],
             [
              1,
              "#f0f921"
             ]
            ],
            "type": "histogram2dcontour"
           }
          ],
          "mesh3d": [
           {
            "colorbar": {
             "outlinewidth": 0,
             "ticks": ""
            },
            "type": "mesh3d"
           }
          ],
          "parcoords": [
           {
            "line": {
             "colorbar": {
              "outlinewidth": 0,
              "ticks": ""
             }
            },
            "type": "parcoords"
           }
          ],
          "pie": [
           {
            "automargin": true,
            "type": "pie"
           }
          ],
          "scatter": [
           {
            "marker": {
             "colorbar": {
              "outlinewidth": 0,
              "ticks": ""
             }
            },
            "type": "scatter"
           }
          ],
          "scatter3d": [
           {
            "line": {
             "colorbar": {
              "outlinewidth": 0,
              "ticks": ""
             }
            },
            "marker": {
             "colorbar": {
              "outlinewidth": 0,
              "ticks": ""
             }
            },
            "type": "scatter3d"
           }
          ],
          "scattercarpet": [
           {
            "marker": {
             "colorbar": {
              "outlinewidth": 0,
              "ticks": ""
             }
            },
            "type": "scattercarpet"
           }
          ],
          "scattergeo": [
           {
            "marker": {
             "colorbar": {
              "outlinewidth": 0,
              "ticks": ""
             }
            },
            "type": "scattergeo"
           }
          ],
          "scattergl": [
           {
            "marker": {
             "colorbar": {
              "outlinewidth": 0,
              "ticks": ""
             }
            },
            "type": "scattergl"
           }
          ],
          "scattermapbox": [
           {
            "marker": {
             "colorbar": {
              "outlinewidth": 0,
              "ticks": ""
             }
            },
            "type": "scattermapbox"
           }
          ],
          "scatterpolar": [
           {
            "marker": {
             "colorbar": {
              "outlinewidth": 0,
              "ticks": ""
             }
            },
            "type": "scatterpolar"
           }
          ],
          "scatterpolargl": [
           {
            "marker": {
             "colorbar": {
              "outlinewidth": 0,
              "ticks": ""
             }
            },
            "type": "scatterpolargl"
           }
          ],
          "scatterternary": [
           {
            "marker": {
             "colorbar": {
              "outlinewidth": 0,
              "ticks": ""
             }
            },
            "type": "scatterternary"
           }
          ],
          "surface": [
           {
            "colorbar": {
             "outlinewidth": 0,
             "ticks": ""
            },
            "colorscale": [
             [
              0,
              "#0d0887"
             ],
             [
              0.1111111111111111,
              "#46039f"
             ],
             [
              0.2222222222222222,
              "#7201a8"
             ],
             [
              0.3333333333333333,
              "#9c179e"
             ],
             [
              0.4444444444444444,
              "#bd3786"
             ],
             [
              0.5555555555555556,
              "#d8576b"
             ],
             [
              0.6666666666666666,
              "#ed7953"
             ],
             [
              0.7777777777777778,
              "#fb9f3a"
             ],
             [
              0.8888888888888888,
              "#fdca26"
             ],
             [
              1,
              "#f0f921"
             ]
            ],
            "type": "surface"
           }
          ],
          "table": [
           {
            "cells": {
             "fill": {
              "color": "#EBF0F8"
             },
             "line": {
              "color": "white"
             }
            },
            "header": {
             "fill": {
              "color": "#C8D4E3"
             },
             "line": {
              "color": "white"
             }
            },
            "type": "table"
           }
          ]
         },
         "layout": {
          "annotationdefaults": {
           "arrowcolor": "#2a3f5f",
           "arrowhead": 0,
           "arrowwidth": 1
          },
          "autotypenumbers": "strict",
          "coloraxis": {
           "colorbar": {
            "outlinewidth": 0,
            "ticks": ""
           }
          },
          "colorscale": {
           "diverging": [
            [
             0,
             "#8e0152"
            ],
            [
             0.1,
             "#c51b7d"
            ],
            [
             0.2,
             "#de77ae"
            ],
            [
             0.3,
             "#f1b6da"
            ],
            [
             0.4,
             "#fde0ef"
            ],
            [
             0.5,
             "#f7f7f7"
            ],
            [
             0.6,
             "#e6f5d0"
            ],
            [
             0.7,
             "#b8e186"
            ],
            [
             0.8,
             "#7fbc41"
            ],
            [
             0.9,
             "#4d9221"
            ],
            [
             1,
             "#276419"
            ]
           ],
           "sequential": [
            [
             0,
             "#0d0887"
            ],
            [
             0.1111111111111111,
             "#46039f"
            ],
            [
             0.2222222222222222,
             "#7201a8"
            ],
            [
             0.3333333333333333,
             "#9c179e"
            ],
            [
             0.4444444444444444,
             "#bd3786"
            ],
            [
             0.5555555555555556,
             "#d8576b"
            ],
            [
             0.6666666666666666,
             "#ed7953"
            ],
            [
             0.7777777777777778,
             "#fb9f3a"
            ],
            [
             0.8888888888888888,
             "#fdca26"
            ],
            [
             1,
             "#f0f921"
            ]
           ],
           "sequentialminus": [
            [
             0,
             "#0d0887"
            ],
            [
             0.1111111111111111,
             "#46039f"
            ],
            [
             0.2222222222222222,
             "#7201a8"
            ],
            [
             0.3333333333333333,
             "#9c179e"
            ],
            [
             0.4444444444444444,
             "#bd3786"
            ],
            [
             0.5555555555555556,
             "#d8576b"
            ],
            [
             0.6666666666666666,
             "#ed7953"
            ],
            [
             0.7777777777777778,
             "#fb9f3a"
            ],
            [
             0.8888888888888888,
             "#fdca26"
            ],
            [
             1,
             "#f0f921"
            ]
           ]
          },
          "colorway": [
           "#636efa",
           "#EF553B",
           "#00cc96",
           "#ab63fa",
           "#FFA15A",
           "#19d3f3",
           "#FF6692",
           "#B6E880",
           "#FF97FF",
           "#FECB52"
          ],
          "font": {
           "color": "#2a3f5f"
          },
          "geo": {
           "bgcolor": "white",
           "lakecolor": "white",
           "landcolor": "#E5ECF6",
           "showlakes": true,
           "showland": true,
           "subunitcolor": "white"
          },
          "hoverlabel": {
           "align": "left"
          },
          "hovermode": "closest",
          "mapbox": {
           "style": "light"
          },
          "paper_bgcolor": "white",
          "plot_bgcolor": "#E5ECF6",
          "polar": {
           "angularaxis": {
            "gridcolor": "white",
            "linecolor": "white",
            "ticks": ""
           },
           "bgcolor": "#E5ECF6",
           "radialaxis": {
            "gridcolor": "white",
            "linecolor": "white",
            "ticks": ""
           }
          },
          "scene": {
           "xaxis": {
            "backgroundcolor": "#E5ECF6",
            "gridcolor": "white",
            "gridwidth": 2,
            "linecolor": "white",
            "showbackground": true,
            "ticks": "",
            "zerolinecolor": "white"
           },
           "yaxis": {
            "backgroundcolor": "#E5ECF6",
            "gridcolor": "white",
            "gridwidth": 2,
            "linecolor": "white",
            "showbackground": true,
            "ticks": "",
            "zerolinecolor": "white"
           },
           "zaxis": {
            "backgroundcolor": "#E5ECF6",
            "gridcolor": "white",
            "gridwidth": 2,
            "linecolor": "white",
            "showbackground": true,
            "ticks": "",
            "zerolinecolor": "white"
           }
          },
          "shapedefaults": {
           "line": {
            "color": "#2a3f5f"
           }
          },
          "ternary": {
           "aaxis": {
            "gridcolor": "white",
            "linecolor": "white",
            "ticks": ""
           },
           "baxis": {
            "gridcolor": "white",
            "linecolor": "white",
            "ticks": ""
           },
           "bgcolor": "#E5ECF6",
           "caxis": {
            "gridcolor": "white",
            "linecolor": "white",
            "ticks": ""
           }
          },
          "title": {
           "x": 0.05
          },
          "xaxis": {
           "automargin": true,
           "gridcolor": "white",
           "linecolor": "white",
           "ticks": "",
           "title": {
            "standoff": 15
           },
           "zerolinecolor": "white",
           "zerolinewidth": 2
          },
          "yaxis": {
           "automargin": true,
           "gridcolor": "white",
           "linecolor": "white",
           "ticks": "",
           "title": {
            "standoff": 15
           },
           "zerolinecolor": "white",
           "zerolinewidth": 2
          }
         }
        },
        "xaxis": {
         "anchor": "y",
         "domain": [
          0,
          1
         ],
         "tickmode": "linear",
         "title": {
          "text": "digit"
         }
        },
        "yaxis": {
         "anchor": "x",
         "domain": [
          0,
          1
         ],
         "range": [
          0,
          1
         ],
         "tickformat": ",.0%",
         "title": {
          "text": "Classification Success Rate"
         }
        }
       }
      }
     },
     "metadata": {},
     "output_type": "display_data"
    }
   ],
   "source": [
    "digits, counts = list(zip(*correct.items()))\n",
    "fig = px.bar(x = digits, y=np.array(counts)/1000, labels={'x': \"digit\", 'y': \"Classification Success Rate\"}, range_y=(0, 1))\n",
    "fig.update_layout(yaxis={\"tickformat\": \",.0%\"}, xaxis={\"tickmode\": \"linear\"})\n",
    "fig.show()"
   ]
  },
  {
   "cell_type": "markdown",
   "metadata": {},
   "source": [
    "## Now let's train the model again, this time using rotated data, and store the updates efficiently"
   ]
  },
  {
   "cell_type": "code",
   "execution_count": 178,
   "metadata": {},
   "outputs": [
    {
     "name": "stderr",
     "output_type": "stream",
     "text": [
      "/Users/montyevans/opt/miniconda3/envs/raffellab/lib/python3.9/site-packages/onnx2pytorch/convert/model.py:147: UserWarning:\n",
      "\n",
      "Using experimental implementation that allows 'batch_size > 1'.Batchnorm layers could potentially produce false outputs.\n",
      "\n"
     ]
    }
   ],
   "source": [
    "import onnx\n",
    "from onnx2pytorch import ConvertModel\n",
    "\n",
    "onnx_model = onnx.load(\"mnist_test_pretrained.onnx\")\n",
    "imported_pytorch_model = ConvertModel(onnx_model, experimental=True)"
   ]
  },
  {
   "cell_type": "markdown",
   "metadata": {},
   "source": [
    "Annoyingly, there is no native Pytorch implementation to import an ONNX model. However, I found an external library that attempts to do this, though it produces some strange results. Specifically, it adds several parameters to the model's state dict that I don't understand: they concern the weight and bias of the ReLUs, which I don't understand, since ReLUs have neither of those things."
   ]
  },
  {
   "cell_type": "code",
   "execution_count": 112,
   "metadata": {},
   "outputs": [
    {
     "name": "stdout",
     "output_type": "stream",
     "text": [
      "odict_keys(['_initializer_conv1_weight', '_initializer_conv1_bias', '_initializer_conv2_weight', '_initializer_conv2_bias', '_initializer_fc1_weight', '_initializer_fc1_bias', '_initializer_fc2_weight', '_initializer_fc2_bias', '_initializer_fc3_weight', '_initializer_fc3_bias', 'Conv_onnx::Relu_11.weight', 'Conv_onnx::Relu_11.bias', 'Conv_onnx::Relu_14.weight', 'Conv_onnx::Relu_14.bias', 'Gemm_onnx::Relu_18.weight', 'Gemm_onnx::Relu_18.bias', 'Gemm_onnx::Relu_20.weight', 'Gemm_onnx::Relu_20.bias', 'Gemm_22.weight', 'Gemm_22.bias'])\n",
      "\n",
      " ----- \n",
      "\n",
      "odict_keys(['conv1.weight', 'conv1.bias', 'conv2.weight', 'conv2.bias', 'fc1.weight', 'fc1.bias', 'fc2.weight', 'fc2.bias', 'fc3.weight', 'fc3.bias'])\n"
     ]
    }
   ],
   "source": [
    "print(imported_pytorch_model.state_dict().keys())\n",
    "print(\"\\n ----- \\n\")\n",
    "print(net.state_dict().keys())"
   ]
  },
  {
   "cell_type": "markdown",
   "metadata": {},
   "source": [
    "Nevertheless, we persist. Let's evaluate the imported model's performance and verify that it has similar performance to the original."
   ]
  },
  {
   "cell_type": "code",
   "execution_count": 122,
   "metadata": {},
   "outputs": [
    {
     "name": "stderr",
     "output_type": "stream",
     "text": [
      "/Users/montyevans/opt/miniconda3/envs/raffellab/lib/python3.9/site-packages/torch/nn/functional.py:749: UserWarning:\n",
      "\n",
      "Note that order of the arguments: ceil_mode and return_indices will changeto match the args list in nn.MaxPool2d in a future release.\n",
      "\n"
     ]
    },
    {
     "name": "stdout",
     "output_type": "stream",
     "text": [
      "The imported model classified 9705 digits correctly, out of 10000 total, for an accuracy of 97.05%\n",
      "The imported model classified 8006 rotated digits correctly, out of 10000 total, for an accuracy of 80.06%\n"
     ]
    }
   ],
   "source": [
    "correct_normal, total_normal = evaluate_model(imported_pytorch_model, testloader)\n",
    "correct_rotated, total_rotated = evaluate_model(imported_pytorch_model, rotated_testloader)\n",
    "\n",
    "print(f\"The imported model classified {correct_normal} digits correctly, out of {total_normal} total, for an accuracy of {correct_normal * 100 / total_normal :.2f}%\")\n",
    "print(f\"The imported model classified {correct_rotated} rotated digits correctly, out of {total_rotated} total, for an accuracy of {correct_rotated * 100 / total_rotated :.2f}%\")"
   ]
  },
  {
   "cell_type": "markdown",
   "metadata": {},
   "source": [
    "It does - great!\n",
    "\n",
    "Now, there are two approaches we could take to non-dense fine tuning. To clarify terminology, we distinguish between a _parameter_ and a _parameter group_. A _parameter_ is a single scalar value that is trained and used by the model during inference to produce a result. When people refer to the size of large models (e.g. T5 has 11B parameters), they are referring to these scalar values.\n",
    "\n",
    "A _parameter group_ is collection of parameters that has some conceptual and practical meaning as a unit of computation. Typical examples are the bias vector and the weight matrix of a linear layer, or the kernel of a 2D convolution. \n",
    "\n",
    "A typical training run (like the one we did at the start of this notebook) trains all possible parameters at every training step: every parameter within every parameter group. If you wanted to do less exhaustive training (and efficiently store the corresponding update), there are two natural approaches.\n",
    "\n",
    "- Select some subset of the _parameter groups_, and only train them.\n",
    "- Within each parameter group, select some subset of _parameters_, and only train them.\n",
    "\n",
    "(You could, of course, combine both approaches).\n",
    "\n",
    "To keep this test run implementation simple, we will take the second approach and train only the first convolutional layer, and the final dense layer."
   ]
  },
  {
   "cell_type": "markdown",
   "metadata": {},
   "source": [
    "## Unresolved Questions\n",
    "\n",
    "How can a model's state dict have more keys that the model has parameters? Are the parameters not just the values in the state dict?"
   ]
  },
  {
   "cell_type": "code",
   "execution_count": 179,
   "metadata": {},
   "outputs": [
    {
     "data": {
      "text/plain": [
       "['Conv_onnx::Relu_11.weight',\n",
       " 'Conv_onnx::Relu_11.bias',\n",
       " 'Conv_onnx::Relu_14.weight',\n",
       " 'Conv_onnx::Relu_14.bias',\n",
       " 'Gemm_onnx::Relu_18.weight',\n",
       " 'Gemm_onnx::Relu_18.bias',\n",
       " 'Gemm_onnx::Relu_20.weight',\n",
       " 'Gemm_onnx::Relu_20.bias',\n",
       " 'Gemm_22.weight',\n",
       " 'Gemm_22.bias']"
      ]
     },
     "execution_count": 179,
     "metadata": {},
     "output_type": "execute_result"
    }
   ],
   "source": [
    "l = list(imported_pytorch_model.named_parameters())\n",
    "[x[0] for x in l]"
   ]
  },
  {
   "cell_type": "code",
   "execution_count": 180,
   "metadata": {},
   "outputs": [
    {
     "data": {
      "text/plain": [
       "['conv1.weight',\n",
       " 'conv1.bias',\n",
       " 'conv2.weight',\n",
       " 'conv2.bias',\n",
       " 'fc1.weight',\n",
       " 'fc1.bias',\n",
       " 'fc2.weight',\n",
       " 'fc2.bias',\n",
       " 'fc3.weight',\n",
       " 'fc3.bias']"
      ]
     },
     "execution_count": 180,
     "metadata": {},
     "output_type": "execute_result"
    }
   ],
   "source": [
    "[x.name for x in onnx_model.graph.initializer]"
   ]
  },
  {
   "cell_type": "code",
   "execution_count": 181,
   "metadata": {},
   "outputs": [
    {
     "data": {
      "text/plain": [
       "odict_keys(['conv1.weight', 'conv1.bias', 'conv2.weight', 'conv2.bias', 'fc1.weight', 'fc1.bias', 'fc2.weight', 'fc2.bias', 'fc3.weight', 'fc3.bias'])"
      ]
     },
     "execution_count": 181,
     "metadata": {},
     "output_type": "execute_result"
    }
   ],
   "source": [
    "net.state_dict().keys()"
   ]
  },
  {
   "cell_type": "code",
   "execution_count": 127,
   "metadata": {},
   "outputs": [
    {
     "data": {
      "text/plain": [
       "10"
      ]
     },
     "execution_count": 127,
     "metadata": {},
     "output_type": "execute_result"
    }
   ],
   "source": [
    "l = list(imported_pytorch_model.parameters())\n",
    "len(l)"
   ]
  },
  {
   "cell_type": "code",
   "execution_count": 128,
   "metadata": {},
   "outputs": [
    {
     "data": {
      "text/plain": [
       "10"
      ]
     },
     "execution_count": 128,
     "metadata": {},
     "output_type": "execute_result"
    }
   ],
   "source": [
    "l2 = list(net.parameters())\n",
    "len(l2)"
   ]
  },
  {
   "cell_type": "code",
   "execution_count": 129,
   "metadata": {},
   "outputs": [
    {
     "data": {
      "text/plain": [
       "10"
      ]
     },
     "execution_count": 129,
     "metadata": {},
     "output_type": "execute_result"
    }
   ],
   "source": [
    "len(net.state_dict().keys())"
   ]
  },
  {
   "cell_type": "code",
   "execution_count": 130,
   "metadata": {},
   "outputs": [
    {
     "data": {
      "text/plain": [
       "20"
      ]
     },
     "execution_count": 130,
     "metadata": {},
     "output_type": "execute_result"
    }
   ],
   "source": [
    "len(imported_pytorch_model.state_dict().keys())"
   ]
  }
 ],
 "metadata": {
  "interpreter": {
   "hash": "9c01baedbc736a94a9664335a750a75cd4fe1534c0fde3980701cc4f06df05d1"
  },
  "kernelspec": {
   "display_name": "Python 3.9.5 ('base')",
   "language": "python",
   "name": "python3"
  },
  "language_info": {
   "codemirror_mode": {
    "name": "ipython",
    "version": 3
   },
   "file_extension": ".py",
   "mimetype": "text/x-python",
   "name": "python",
   "nbconvert_exporter": "python",
   "pygments_lexer": "ipython3",
   "version": "3.9.7"
  },
  "orig_nbformat": 4
 },
 "nbformat": 4,
 "nbformat_minor": 2
}
